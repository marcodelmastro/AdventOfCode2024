{
 "cells": [
  {
   "cell_type": "markdown",
   "id": "81f12638-4a8b-4714-a6d9-6b9e62a5ae2e",
   "metadata": {},
   "source": [
    "## Day 12\n",
    "\n",
    "https://adventofcode.com/2024/day/12"
   ]
  },
  {
   "cell_type": "code",
   "execution_count": 1,
   "id": "434d4928-0c93-4ac1-acfb-17479687f64c",
   "metadata": {},
   "outputs": [],
   "source": [
    "from collections import defaultdict\n",
    "\n",
    "def read_input_12(filaname):\n",
    "    flowers = defaultdict(int)\n",
    "    flowervalues = {}\n",
    "    f = open(filename)\n",
    "    im = 1j\n",
    "    fv = 0\n",
    "    for j,l in enumerate(f.readlines()):\n",
    "        for i,f in enumerate(l.strip()):\n",
    "            if f in flowervalues.keys():\n",
    "                flowers[i+im*j] = flowervalues[f]\n",
    "            else:\n",
    "                fv -= 1\n",
    "                flowervalues[f] = fv\n",
    "                flowers[i+im*j] = fv\n",
    "    flowernames = {n:v  for v,n in flowervalues.items() }\n",
    "    return flowers, flowernames"
   ]
  },
  {
   "cell_type": "code",
   "execution_count": 2,
   "id": "882889dd-1e34-4a27-92b2-2807cfdc7231",
   "metadata": {},
   "outputs": [],
   "source": [
    "def explore_patch(p,fv,grid,patch=[]):\n",
    "    if fv<0:\n",
    "        grid[p] = -fv\n",
    "        patch.append(p)\n",
    "        for p1 in [p+1,p-1,p+1j,p-1j]:\n",
    "            if grid[p1]<0:\n",
    "                if grid[p1]==fv:\n",
    "                    patch1 = explore_patch(p1,fv,grid,patch)\n",
    "        return patch\n",
    "    return []\n",
    "\n",
    "def find_patches(flowers, flowernames):\n",
    "    patches = []\n",
    "    for p in list(flowers.keys(w)):\n",
    "        if flowers[p]<0:\n",
    "            name = flowernames[flowers[p]]\n",
    "            patch = explore_patch(p,flowers[p],flowers,[])\n",
    "            patches.append(patch)\n",
    "    return patches\n",
    "\n",
    "def perimeter(patch):\n",
    "    per = 0\n",
    "    for p in patch:\n",
    "        per += 4 - sum([1 for p1 in [p+1,p-1,p+1j,p-1j] if p1 in patch])\n",
    "    return per\n",
    "    \n",
    "def part1(filename):\n",
    "    flowers, flowernames = read_input_12(filename)\n",
    "    patches = find_patches(flowers, flowernames)\n",
    "    price = 0\n",
    "    for p in patches:\n",
    "        price += len(p)*perimeter(p)\n",
    "    return price"
   ]
  },
  {
   "cell_type": "code",
   "execution_count": 3,
   "id": "faf31290-373b-4b1a-88f1-41773d48fc47",
   "metadata": {},
   "outputs": [
    {
     "data": {
      "text/plain": [
       "140"
      ]
     },
     "execution_count": 3,
     "metadata": {},
     "output_type": "execute_result"
    }
   ],
   "source": [
    "filename = \"examples/example12-1.txt\"\n",
    "part1(filename)"
   ]
  },
  {
   "cell_type": "code",
   "execution_count": 4,
   "id": "b7541d7c-0d34-424b-a359-09f4efac6589",
   "metadata": {},
   "outputs": [
    {
     "data": {
      "text/plain": [
       "1930"
      ]
     },
     "execution_count": 4,
     "metadata": {},
     "output_type": "execute_result"
    }
   ],
   "source": [
    "filename = \"examples/example12-2.txt\"\n",
    "part1(filename)"
   ]
  },
  {
   "cell_type": "code",
   "execution_count": 5,
   "id": "46f32c97-42b5-4383-9007-dd939f573fd9",
   "metadata": {},
   "outputs": [
    {
     "data": {
      "text/plain": [
       "1304764"
      ]
     },
     "execution_count": 5,
     "metadata": {},
     "output_type": "execute_result"
    }
   ],
   "source": [
    "filename = \"AOC2024inputs/input12.txt\"\n",
    "part1(filename)"
   ]
  },
  {
   "cell_type": "code",
   "execution_count": 74,
   "id": "1ff9b824-c0bc-4210-b4c5-3160cdeb976a",
   "metadata": {},
   "outputs": [],
   "source": [
    "from itertools import combinations\n",
    "from collections import Counter\n",
    "\n",
    "def find_corners(p):\n",
    "    # find all square vertices, some will be shared between squares\n",
    "    corners = defaultdict(list)\n",
    "    for s in p:\n",
    "        for v in [s-0.5-0.5j, s+0.5-0.5j, s+0.5+0.5j, s-0.5+0.5j]:\n",
    "            corners[v].append(s)\n",
    "\n",
    "    # vertices with odd count are corners, but since patch are not all \n",
    "    # convex, I need to correct count for corners shared by diagonal-only \n",
    "    # neighbors (it'd be two, but won't be counted)\n",
    "    for v,s in corners.items():\n",
    "        if len(s)==2:\n",
    "            ds = s[0]-s[1]\n",
    "            if ds.real!=0 and ds.imag!=0: # diagonal\n",
    "                corners[v].pop(0)\n",
    "\n",
    "    return [v for v,s in corners.items() if len(s)%2==1]\n",
    "\n",
    "def count_sides(p):\n",
    "    # for convex polygons, number of sides is equal to number of vertices\n",
    "    \n",
    "    # find all square vertices, some will be shared between squares\n",
    "    corners = defaultdict(list)\n",
    "    for s in p:\n",
    "        for v in [s-0.5-0.5j, s+0.5-0.5j, s+0.5+0.5j, s-0.5+0.5j]:\n",
    "            corners[v].append(s)\n",
    "\n",
    "    # vertices with odd count are corners, but since patch are not all \n",
    "    # convex, I need to correct count for corners shared by diagonal-only \n",
    "    # neighbors (it'd be two, but won't be counted. At the same time, for \n",
    "    # those corners I need to count 2 sides! \n",
    "    diagcorners = 0\n",
    "    for v,s in corners.items():\n",
    "        if len(s)==2:\n",
    "            ds = s[0]-s[1]\n",
    "            if ds.real!=0 and ds.imag!=0: # diagonal\n",
    "                diagcorners += 1\n",
    "                corners[v].pop(0)\n",
    "\n",
    "    return sum([1 for v,s in corners.items() if len(s)%2==1])+diagcorners\n",
    "\n",
    "def part2(filename):\n",
    "    flowers, flowernames = read_input_12(filename)\n",
    "    patches = find_patches(flowers, flowernames)\n",
    "    return sum([len(p)*count_sides(p) for p in patches])"
   ]
  },
  {
   "cell_type": "code",
   "execution_count": 75,
   "id": "c02d6120-befc-4b87-90b9-f88807c5b2f8",
   "metadata": {},
   "outputs": [
    {
     "data": {
      "text/plain": [
       "80"
      ]
     },
     "execution_count": 75,
     "metadata": {},
     "output_type": "execute_result"
    }
   ],
   "source": [
    "filename = \"examples/example12-1.txt\"\n",
    "part2(filename)"
   ]
  },
  {
   "cell_type": "code",
   "execution_count": 76,
   "id": "60e14f8f-fb42-4d24-8e3b-e9cf7dcd3d48",
   "metadata": {},
   "outputs": [
    {
     "data": {
      "text/plain": [
       "1206"
      ]
     },
     "execution_count": 76,
     "metadata": {},
     "output_type": "execute_result"
    }
   ],
   "source": [
    "filename = \"examples/example12-2.txt\"\n",
    "part2(filename)"
   ]
  },
  {
   "cell_type": "code",
   "execution_count": 77,
   "id": "3aa1c8b9-54ed-4005-9057-4eba6b90b5bd",
   "metadata": {},
   "outputs": [
    {
     "data": {
      "text/plain": [
       "811148"
      ]
     },
     "execution_count": 77,
     "metadata": {},
     "output_type": "execute_result"
    }
   ],
   "source": [
    "filename = \"AOC2024inputs/input12.txt\"\n",
    "part2(filename)"
   ]
  },
  {
   "cell_type": "code",
   "execution_count": 78,
   "id": "120bab32-dccb-43b7-beae-e54f4667e5a1",
   "metadata": {},
   "outputs": [
    {
     "data": {
      "text/plain": [
       "[<matplotlib.lines.Line2D at 0x10ed3b650>]"
      ]
     },
     "execution_count": 78,
     "metadata": {},
     "output_type": "execute_result"
    },
    {
     "data": {
      "image/png": "[encoded data removed]",
      "text/plain": [
       "<Figure size 640x480 with 1 Axes>"
      ]
     },
     "metadata": {},
     "output_type": "display_data"
    }
   ],
   "source": [
    "filename = \"AOC2024inputs/input12.txt\"\n",
    "flowers, flowernames = read_input_12(filename)\n",
    "patches = find_patches(flowers, flowernames)\n",
    "\n",
    "p = patches[1]\n",
    "\n",
    "grid = np.zeros((ncol,nrow))\n",
    "x = [int(z.real) for z in p]\n",
    "y = [int(z.imag) for z in p]\n",
    "\n",
    "plt.plot(x,y,marker=\"s\",linestyle='None', markersize=10)\n",
    "\n",
    "xc = [ z.real for z in find_corners(p) ] \n",
    "yc = [ z.imag for z in find_corners(p) ] \n",
    "\n",
    "plt.plot(xc,yc,marker=\".\",linestyle='None', markersize=10)"
   ]
  },
  {
   "cell_type": "code",
   "execution_count": null,
   "id": "6a3fc4dc-c782-4c23-b56d-e96c963814a9",
   "metadata": {},
   "outputs": [],
   "source": []
  }
 ],
 "metadata": {
  "kernelspec": {
   "display_name": "Python 3 (ipykernel)",
   "language": "python",
   "name": "python3"
  },
  "language_info": {
   "codemirror_mode": {
    "name": "ipython",
    "version": 3
   },
   "file_extension": ".py",
   "mimetype": "text/x-python",
   "name": "python",
   "nbconvert_exporter": "python",
   "pygments_lexer": "ipython3",
   "version": "3.12.2"
  }
 },
 "nbformat": 4,
 "nbformat_minor": 5
}
