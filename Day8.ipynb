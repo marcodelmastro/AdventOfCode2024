{
 "cells": [
  {
   "cell_type": "markdown",
   "id": "33bfdc20-a271-4083-8cd0-d32442eab628",
   "metadata": {},
   "source": [
    "## Day 8\n",
    "\n",
    "https://adventofcode.com/2024/day/8#part2"
   ]
  },
  {
   "cell_type": "code",
   "execution_count": 1,
   "id": "746aeccf-a9ae-4142-ae72-41db568182d6",
   "metadata": {},
   "outputs": [],
   "source": [
    "from collections import defaultdict\n",
    "\n",
    "def read_input_08(filename):\n",
    "    f = open(filename)\n",
    "    antennas = defaultdict(list)\n",
    "    lines = f.readlines()\n",
    "    for j,l in enumerate(lines):\n",
    "        for i,c in enumerate(l.strip()):\n",
    "            if c!=\".\":\n",
    "                antennas[c].append((i,j))\n",
    "    xmax = len(lines[0].strip())\n",
    "    ymax = len(lines)\n",
    "    return antennas, xmax, ymax"
   ]
  },
  {
   "cell_type": "code",
   "execution_count": 2,
   "id": "52726851-ba6a-47e9-895b-c8df477f8499",
   "metadata": {},
   "outputs": [],
   "source": [
    "from itertools import combinations\n",
    "\n",
    "def antinodes(a1,a2):\n",
    "    x1,y1 = a1\n",
    "    x2,y2 = a2\n",
    "    return (2.*x2-x1,2.*y2-y1),(2.*x1-x2,2.*y1-y2)\n",
    "\n",
    "def in_boundaries(a,xmax,ymax):\n",
    "    xa,ya = a\n",
    "    return 0<=xa<xmax and 0<=ya<ymax\n",
    "\n",
    "def find_antinodes(antennas,xmax,ymax):\n",
    "    antinodes_city = set() # avoid antinode overlaps    \n",
    "    for freq in antennas.keys():\n",
    "        for a1,a2 in combinations(antennas[freq],2):\n",
    "            for an in antinodes(a1,a2):\n",
    "                if in_boundaries(an,xmax,ymax):\n",
    "                    antinodes_city.add(an)\n",
    "    return antinodes_city\n",
    "\n",
    "def part1(filename):\n",
    "    antennas, xmax, ymax = read_input_08(filename)\n",
    "    return len(find_antinodes(antennas,xmax,ymax))"
   ]
  },
  {
   "cell_type": "code",
   "execution_count": 3,
   "id": "fda27ab1-b6b7-41f7-8656-81bbf7e3bed8",
   "metadata": {},
   "outputs": [
    {
     "name": "stdout",
     "output_type": "stream",
     "text": [
      "Test 1: 14\n",
      "Part 1: 265\n"
     ]
    }
   ],
   "source": [
    "print(\"Test 1:\",part1(\"examples/example08.txt\"))\n",
    "print(\"Part 1:\",part1(\"AOC2024inputs/input08.txt\"))"
   ]
  },
  {
   "cell_type": "code",
   "execution_count": 4,
   "id": "34b58350-c113-438d-95a3-a79fcb573f35",
   "metadata": {},
   "outputs": [],
   "source": [
    "def antinodes_harmonics(a1,a2,xmax,ymax):\n",
    "    x1,y1 = a1\n",
    "    x2,y2 = a2\n",
    "    dx,dy = x2-x1, y2-y1\n",
    "    ants = {a1}\n",
    "    for d in (+1,-1):\n",
    "        a = a1\n",
    "        while True:\n",
    "            xa,ya = a\n",
    "            a = (xa+d*dx,ya+d*dy)\n",
    "            if in_boundaries(a,xmax,ymax):\n",
    "                ants.add(a)\n",
    "            else:\n",
    "                break\n",
    "    return ants\n",
    "\n",
    "def find_antinodes_harmonics(antennas,xmax,ymax):\n",
    "    antinodes_city_harmonics = set() \n",
    "    for freq in antennas.keys():\n",
    "        for a1,a2 in combinations(antennas[freq],2):\n",
    "            for an in antinodes_harmonics(a1,a2,xmax,ymax):\n",
    "                antinodes_city_harmonics.add(an)\n",
    "    return antinodes_city_harmonics \n",
    "    \n",
    "def part2(filename):\n",
    "    antennas, xmax, ymax = read_input_08(filename)\n",
    "    return len(find_antinodes_harmonics(antennas,xmax,ymax))"
   ]
  },
  {
   "cell_type": "code",
   "execution_count": 5,
   "id": "cce77aea-8aa8-4496-abd5-a1070d3dcb28",
   "metadata": {},
   "outputs": [
    {
     "name": "stdout",
     "output_type": "stream",
     "text": [
      "Test 1: 34\n",
      "Part 1: 962\n"
     ]
    }
   ],
   "source": [
    "print(\"Test 1:\",part2(\"examples/example08.txt\"))\n",
    "print(\"Part 1:\",part2(\"AOC2024inputs/input08.txt\"))"
   ]
  },
  {
   "cell_type": "code",
   "execution_count": null,
   "id": "71316fd2-bc63-4240-afc0-645b7283b580",
   "metadata": {},
   "outputs": [],
   "source": []
  }
 ],
 "metadata": {
  "kernelspec": {
   "display_name": "Python 3 (ipykernel)",
   "language": "python",
   "name": "python3"
  },
  "language_info": {
   "codemirror_mode": {
    "name": "ipython",
    "version": 3
   },
   "file_extension": ".py",
   "mimetype": "text/x-python",
   "name": "python",
   "nbconvert_exporter": "python",
   "pygments_lexer": "ipython3",
   "version": "3.12.2"
  }
 },
 "nbformat": 4,
 "nbformat_minor": 5
}
