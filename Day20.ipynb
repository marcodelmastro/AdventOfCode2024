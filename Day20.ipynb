{
 "cells": [
  {
   "cell_type": "markdown",
   "id": "29f49cae-e791-4441-961a-90e3e68880ce",
   "metadata": {},
   "source": [
    "## Day 20\n",
    "\n",
    "https://adventofcode.com/2024/day/20"
   ]
  },
  {
   "cell_type": "code",
   "execution_count": 1,
   "id": "34beb4c1-3385-430a-8b33-49c0d13b4968",
   "metadata": {},
   "outputs": [],
   "source": [
    "import numpy as np\n",
    "\n",
    "WALL  = 1\n",
    "\n",
    "def read_input_20(filename):\n",
    "    f = open(filename)\n",
    "    lines = f.readlines()\n",
    "    grid = np.zeros((len(lines),len(lines[0].strip())),dtype=int)\n",
    "    for r,l in enumerate(lines):\n",
    "        for c,v in enumerate(l.strip(\"\\n\")):\n",
    "            if v == \"#\":\n",
    "                grid[r][c] = WALL\n",
    "            if v == \"S\":\n",
    "                start = (r,c)\n",
    "            if v == \"E\":\n",
    "                end = (r,c)\n",
    "    return grid, start, end"
   ]
  },
  {
   "cell_type": "code",
   "execution_count": 123,
   "id": "d69dae91-67bb-4575-bdb3-e070043662b7",
   "metadata": {},
   "outputs": [],
   "source": [
    "from collections import defaultdict\n",
    "from functools import cache\n",
    "\n",
    "def in_boundaries(p,grid):\n",
    "    return 0<=p[0]<len(grid) and 0<=p[1]<len(grid[0])\n",
    "\n",
    "@cache\n",
    "def dist(a,b):\n",
    "    ra, ca = a\n",
    "    rb, cb = b\n",
    "    return abs(rb-ra)+abs(cb-ca)\n",
    "\n",
    "def find_cheat_positions(p,grid,dmax=2):\n",
    "    cheats = []\n",
    "    for f in range(2,dmax+1):\n",
    "        for dr in range(-f,f+1):\n",
    "            for dc in range(-f,f+1):\n",
    "                if dr==dc==0 or abs(dr)+abs(dc)>dmax or abs(dr)+abs(dc)==1:\n",
    "                    continue\n",
    "                r,c = p\n",
    "                r1,c1 = r+dr, c+dc\n",
    "                p1 = (r1,c1)\n",
    "                if in_boundaries(p1,grid) and grid[r1][c1]!=WALL and p1 not in cheats:\n",
    "                    cheats.append(p1)\n",
    "    return cheats\n",
    "\n",
    "def count_cheats(grid,start,end,dmax=2,verbose=False):\n",
    "    # find initial path\n",
    "    path = [start]\n",
    "    p = start\n",
    "    visited = {start}\n",
    "    while True:\n",
    "        r,c = p\n",
    "        pnext = [ (r+dr,c+dc) for dr,dc in [(0,1),(0,-1),(1,0),(-1,0)] \n",
    "                 if grid[r+dr][c+dc]!=WALL and (r+dr,c+dc) not in visited ][0]\n",
    "        path.append(pnext) # also add end position\n",
    "        if pnext==end:\n",
    "            break\n",
    "        visited.add(pnext)\n",
    "        p = pnext\n",
    "\n",
    "    # initial path number of steps\n",
    "    lenght = len(path)-1\n",
    "    \n",
    "    # save distances to endpoint for all positions on initial path\n",
    "    distance = {}\n",
    "    for i,p in enumerate(path):\n",
    "        distance[p] = len(path)-i-1\n",
    "\n",
    "    # save indices of position in path\n",
    "    ind = { p: i for i,p in enumerate(path) }\n",
    "\n",
    "    # check possible cheats for all points in initial path\n",
    "    cheats = defaultdict(int)\n",
    "    for i,p in enumerate(path):\n",
    "        if i and i%100==0:\n",
    "            print(\"*\",end=\"\")\n",
    "        cheatpos = find_cheat_positions(p,grid,dmax)\n",
    "        for c in cheatpos:\n",
    "            if ind[c]>ind[p]: # consider shortcuts only!\n",
    "                d = distance[c] # distance of cheat landing point to end\n",
    "                d0 = lenght-distance[p] # distance from start to cheat begin\n",
    "                lcheat = (d0+d+dist(p,c)) # cheat involves dist() steps\n",
    "                cheats[lenght-lcheat] +=1\n",
    "\n",
    "    if i>100: print()\n",
    "    \n",
    "    return cheats\n",
    "\n",
    "def solve20(filename,cmin=1,dmax=2,verbose=False):\n",
    "    grid, start, end = read_input_20(filename)\n",
    "    cheats = count_cheats(grid,start,end,dmax)\n",
    "    if verbose:\n",
    "        for c,n in cheats.items():\n",
    "            if c>=cmin:\n",
    "                print(f\"There are {n} cheat(s) that save {c} picosecond(s).\")\n",
    "    return sum([ n for c,n in cheats.items() if c>=cmin ])"
   ]
  },
  {
   "cell_type": "code",
   "execution_count": 124,
   "id": "ec111cc7-d5cd-4be6-b573-c97ea1daca76",
   "metadata": {},
   "outputs": [
    {
     "name": "stdout",
     "output_type": "stream",
     "text": [
      "There are 14 cheat(s) that save 4 picosecond(s).\n",
      "There are 14 cheat(s) that save 2 picosecond(s).\n",
      "There are 3 cheat(s) that save 12 picosecond(s).\n",
      "There are 2 cheat(s) that save 10 picosecond(s).\n",
      "There are 4 cheat(s) that save 8 picosecond(s).\n",
      "There are 2 cheat(s) that save 6 picosecond(s).\n",
      "There are 1 cheat(s) that save 64 picosecond(s).\n",
      "There are 1 cheat(s) that save 40 picosecond(s).\n",
      "There are 1 cheat(s) that save 38 picosecond(s).\n",
      "There are 1 cheat(s) that save 20 picosecond(s).\n",
      "There are 1 cheat(s) that save 36 picosecond(s).\n"
     ]
    },
    {
     "data": {
      "text/plain": [
       "44"
      ]
     },
     "execution_count": 124,
     "metadata": {},
     "output_type": "execute_result"
    }
   ],
   "source": [
    "solve20(\"examples/example20.txt\",verbose=True)"
   ]
  },
  {
   "cell_type": "code",
   "execution_count": 125,
   "id": "2bb05621-52cd-4c23-bdea-8cbd7ead89b2",
   "metadata": {},
   "outputs": [
    {
     "name": "stdout",
     "output_type": "stream",
     "text": [
      "**********************************************************************************************\n",
      "Part 1: 1490\n"
     ]
    }
   ],
   "source": [
    "print(\"Part 1:\",solve20(\"AOC2024inputs/input20.txt\",100,2)) # 1490"
   ]
  },
  {
   "cell_type": "code",
   "execution_count": 126,
   "id": "574df790-bb71-4da3-9825-97a73e1ba7f4",
   "metadata": {},
   "outputs": [
    {
     "name": "stdout",
     "output_type": "stream",
     "text": [
      "There are 3 cheat(s) that save 76 picosecond(s).\n",
      "There are 4 cheat(s) that save 74 picosecond(s).\n",
      "There are 22 cheat(s) that save 72 picosecond(s).\n",
      "There are 12 cheat(s) that save 70 picosecond(s).\n",
      "There are 14 cheat(s) that save 68 picosecond(s).\n",
      "There are 23 cheat(s) that save 60 picosecond(s).\n",
      "There are 25 cheat(s) that save 58 picosecond(s).\n",
      "There are 39 cheat(s) that save 56 picosecond(s).\n",
      "There are 12 cheat(s) that save 66 picosecond(s).\n",
      "There are 29 cheat(s) that save 54 picosecond(s).\n",
      "There are 19 cheat(s) that save 64 picosecond(s).\n",
      "There are 20 cheat(s) that save 62 picosecond(s).\n",
      "There are 31 cheat(s) that save 52 picosecond(s).\n",
      "There are 32 cheat(s) that save 50 picosecond(s).\n"
     ]
    },
    {
     "data": {
      "text/plain": [
       "285"
      ]
     },
     "execution_count": 126,
     "metadata": {},
     "output_type": "execute_result"
    }
   ],
   "source": [
    "solve20(\"examples/example20.txt\",50,20,verbose=True)"
   ]
  },
  {
   "cell_type": "code",
   "execution_count": 127,
   "id": "7dc55877-9870-4399-a3ea-33cf73f70910",
   "metadata": {},
   "outputs": [
    {
     "name": "stdout",
     "output_type": "stream",
     "text": [
      "**********************************************************************************************\n",
      "Part 2: 1011325\n"
     ]
    }
   ],
   "source": [
    "print(\"Part 2:\",solve20(\"AOC2024inputs/input20.txt\",100,20)) # 1011325"
   ]
  },
  {
   "cell_type": "code",
   "execution_count": null,
   "id": "27053a56-d887-49bb-8a51-84d30bb70685",
   "metadata": {},
   "outputs": [],
   "source": []
  }
 ],
 "metadata": {
  "kernelspec": {
   "display_name": "Python 3 (ipykernel)",
   "language": "python",
   "name": "python3"
  },
  "language_info": {
   "codemirror_mode": {
    "name": "ipython",
    "version": 3
   },
   "file_extension": ".py",
   "mimetype": "text/x-python",
   "name": "python",
   "nbconvert_exporter": "python",
   "pygments_lexer": "ipython3",
   "version": "3.12.2"
  }
 },
 "nbformat": 4,
 "nbformat_minor": 5
}
