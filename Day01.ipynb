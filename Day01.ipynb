{
 "cells": [
  {
   "cell_type": "code",
   "execution_count": 55,
   "id": "1242750c-1a2f-430a-960c-8fdf323b02de",
   "metadata": {},
   "outputs": [],
   "source": [
    "import numpy as np\n",
    "\n",
    "def read_input_01(filename):\n",
    "    f = open(filename)\n",
    "    d1 = []\n",
    "    d2 = []\n",
    "    for l in f.readlines():\n",
    "        d = [int(t) for t in l.split()]\n",
    "        d1.append(d[0])\n",
    "        d2.append(d[1])\n",
    "    # sort lists and save as numpy array for easy manipulation\n",
    "    d1.sort()\n",
    "    d2.sort()\n",
    "    dd1 = np.array(d1)\n",
    "    dd2 = np.array(d2)\n",
    "    return dd1, dd2\n",
    "\n",
    "def part1(filename):\n",
    "    dd1, dd2 = read_input_01(filename)\n",
    "    return sum(abs(dd1-dd2))\n",
    "\n",
    "def part2(filename):\n",
    "    dd1, dd2 = read_input_01(filename)\n",
    "    s = 0\n",
    "    for d in dd1:\n",
    "        s+= d*sum(dd2==d)\n",
    "    return(s)"
   ]
  },
  {
   "cell_type": "code",
   "execution_count": 56,
   "id": "58e61a50-bebd-4a75-8e19-425d8c8d7b94",
   "metadata": {},
   "outputs": [
    {
     "name": "stdout",
     "output_type": "stream",
     "text": [
      "Test 1: 11\n",
      "Part 1: 1889772\n"
     ]
    }
   ],
   "source": [
    "print(\"Test 1:\",part1(\"examples/example01.txt\"))\n",
    "print(\"Part 1:\",part1(\"AOC2024inputs/input01.txt\"))"
   ]
  },
  {
   "cell_type": "code",
   "execution_count": 57,
   "id": "3f0f1721-0178-4c1a-a8f1-098d05410a84",
   "metadata": {},
   "outputs": [
    {
     "name": "stdout",
     "output_type": "stream",
     "text": [
      "Test 2: 31\n",
      "Part 2: 23228917\n"
     ]
    }
   ],
   "source": [
    "print(\"Test 2:\",part2(\"examples/example01.txt\"))\n",
    "print(\"Part 2:\",part2(\"AOC2024inputs/input01.txt\"))"
   ]
  },
  {
   "cell_type": "code",
   "execution_count": null,
   "id": "67114f7c-c2a6-495e-9ecd-d1d4ac3be992",
   "metadata": {},
   "outputs": [],
   "source": []
  }
 ],
 "metadata": {
  "kernelspec": {
   "display_name": "Python 3 (ipykernel)",
   "language": "python",
   "name": "python3"
  },
  "language_info": {
   "codemirror_mode": {
    "name": "ipython",
    "version": 3
   },
   "file_extension": ".py",
   "mimetype": "text/x-python",
   "name": "python",
   "nbconvert_exporter": "python",
   "pygments_lexer": "ipython3",
   "version": "3.12.2"
  }
 },
 "nbformat": 4,
 "nbformat_minor": 5
}
