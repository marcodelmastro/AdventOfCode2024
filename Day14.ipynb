{
 "cells": [
  {
   "cell_type": "markdown",
   "id": "8d4b70bd-51c0-4ac1-8d26-7b32e829da3d",
   "metadata": {},
   "source": [
    "## Day 14\n",
    "\n",
    "https://adventofcode.com/2024/day/14\n",
    "\n",
    "### Part 1"
   ]
  },
  {
   "cell_type": "code",
   "execution_count": 1,
   "id": "e0b4043c-cac6-4ed4-96c2-3e2241a08c69",
   "metadata": {},
   "outputs": [],
   "source": [
    "import re\n",
    "\n",
    "def read_input_14(filename):\n",
    "    f = open(filename)\n",
    "    robots = []\n",
    "    for l in f.readlines():\n",
    "        x = [int(d) for d in re.findall(r\"[-+]?\\d+\",l)]\n",
    "        p = x[0]+x[1]*1j\n",
    "        v = x[2]+x[3]*1j\n",
    "        robots.append((p,v))\n",
    "    return robots\n",
    "\n",
    "def move_robots(robots,xmax,ymax):\n",
    "    newrobots = []\n",
    "    for p,v in robots:\n",
    "        p1 = p+v\n",
    "        x = p1.real\n",
    "        y = p1.imag\n",
    "        if x<0: x+=xmax\n",
    "        if x>=xmax: x-=xmax\n",
    "        if y<0: y+=ymax\n",
    "        if y>=ymax: y-=ymax\n",
    "        newrobots.append((x+y*1j,v))\n",
    "    return newrobots\n",
    "\n",
    "def evolve_robots(robots,xmax,ymax,nsec=1):\n",
    "    for i in range(nsec):\n",
    "        newrobots = move_robots(robots,xmax,ymax)\n",
    "        robots = newrobots\n",
    "    return robots\n",
    "\n",
    "import numpy as np\n",
    "\n",
    "def robots_to_grid(robots,xmax,ymax):\n",
    "    grid = np.zeros((ymax,xmax),dtype=int)\n",
    "    for p,v in robots:\n",
    "        x = int(p.real)\n",
    "        y = int(p.imag)\n",
    "        grid[y,x] += 1\n",
    "    return grid\n",
    "\n",
    "def safety_factor(grid,xmax,ymax):\n",
    "    sf = 1\n",
    "    for g in [ \n",
    "        grid[:(ymax-1)//2,:(xmax-1)//2],\n",
    "        grid[:(ymax-1)//2,(xmax-1)//2+1:],\n",
    "        grid[(ymax-1)//2+1:,:(xmax-1)//2],\n",
    "        grid[(ymax-1)//2+1:,(xmax-1)//2+1:]\n",
    "    ]:\n",
    "        sf *= sum(sum(g))\n",
    "    return sf\n",
    "\n",
    "def part1(filename,xmax,ymax):\n",
    "    robots = read_input_14(filename)\n",
    "    robots_end = evolve_robots(robots,xmax,ymax,nsec=100)\n",
    "    grid_end = robots_to_grid(robots_end,xmax,ymax)\n",
    "    return safety_factor(grid_end,xmax,ymax)"
   ]
  },
  {
   "cell_type": "code",
   "execution_count": 22,
   "id": "6bff8b0c-0688-4530-a2c3-eb99fe64d725",
   "metadata": {},
   "outputs": [
    {
     "name": "stdout",
     "output_type": "stream",
     "text": [
      "Test 1: 12\n",
      "Part 1: 229632480\n"
     ]
    }
   ],
   "source": [
    "print(\"Test 1:\",part1(\"examples/example14.txt\",11,7))\n",
    "print(\"Part 1:\",part1(\"AOC2024inputs/input14.txt\",101,103))"
   ]
  },
  {
   "cell_type": "markdown",
   "id": "ad5ca9c4-b8aa-40ef-8950-86f73304da48",
   "metadata": {},
   "source": [
    "## Part 2\n",
    "\n",
    "From the look puzzle, I was expecting to have to find a repetition in the robot configurations, or to compute the status after a very large number of iterations (thus having to estimate periods for all robots, then a common period). Instead, we got an Easter egg ;-)\n",
    "\n",
    "### First approach\n",
    "\n",
    "Scan a large number of configurations by eye..."
   ]
  },
  {
   "cell_type": "code",
   "execution_count": 5,
   "id": "86e6c0c8-2624-4f0c-843f-11312d9d9b99",
   "metadata": {},
   "outputs": [],
   "source": [
    "import matplotlib.pyplot as plt\n",
    "\n",
    "filename = \"AOC2024inputs/input14.txt\"\n",
    "robots = read_input_14(filename)\n",
    "xmax = 101\n",
    "ymax = 103\n",
    "\n",
    "npad = 0\n",
    "for i in range(10000):\n",
    "\n",
    "    if i%100==0:\n",
    "        fig, axs = plt.subplots(10,10,figsize=(10,10),dpi=600)\n",
    "        plt.gca()\n",
    "        axi = 0\n",
    "        axj = 0\n",
    "        \n",
    "    newrobots = move_robots(robots,xmax,ymax)\n",
    "    robots = newrobots\n",
    "    grid = robots_to_grid(robots,xmax,ymax)\n",
    "    axs[axj,axi].set_title(f\"{i+1}\",fontsize=6,pad=0)\n",
    "    axs[axj,axi].set_axis_off()\n",
    "    axs[axj,axi].imshow(grid)\n",
    "    axi+=1\n",
    "    if axi==10:\n",
    "        axi=0\n",
    "        axj+=1\n",
    "\n",
    "    if i%100==99:\n",
    "        npad+=1\n",
    "        plt.savefig(f\"visualisation/day14_part2_{str(npad).zfill(3)}.png\")\n",
    "        plt.close('all')"
   ]
  },
  {
   "cell_type": "markdown",
   "id": "3e6bcbf7-f298-4d66-a3c9-6f93be69915a",
   "metadata": {},
   "source": [
    "My Easter egg is at second 7051:"
   ]
  },
  {
   "cell_type": "code",
   "execution_count": 42,
   "id": "89736343-4b13-41c4-928a-4340b7b2de4c",
   "metadata": {},
   "outputs": [
    {
     "data": {
      "image/png": "[encoded data removed]",
      "text/plain": [
       "<Figure size 800x800 with 1 Axes>"
      ]
     },
     "metadata": {},
     "output_type": "display_data"
    }
   ],
   "source": [
    "filename = \"AOC2024inputs/input14.txt\"\n",
    "robots = read_input_14(filename)\n",
    "xmax = 101\n",
    "ymax = 103\n",
    "\n",
    "for i in range(7051):        \n",
    "    newrobots = move_robots(robots,xmax,ymax)\n",
    "    robots = newrobots\n",
    "\n",
    "grid = robots_to_grid(robots,xmax,ymax)\n",
    "\n",
    "fig, ax = plt.subplots(figsize=(8,8),dpi=100)\n",
    "plt.gca()\n",
    "ax.set_axis_off()\n",
    "plt.imshow(grid)\n",
    "plt.savefig(\"visualisation/day14_easteregg.png\")"
   ]
  },
  {
   "cell_type": "markdown",
   "id": "fd869f3a-182b-4890-b73a-4c0669890568",
   "metadata": {},
   "source": [
    "### Second approach\n",
    "\n",
    "Look for frame where there's no overlapping robot, assuming the Earstern egg frame has only one robot per position has been evolved backward, and there are always a few collisions in all others:"
   ]
  },
  {
   "cell_type": "code",
   "execution_count": 43,
   "id": "2119eed4-32e0-4cdf-8c96-633ffb850b4f",
   "metadata": {},
   "outputs": [
    {
     "name": "stdout",
     "output_type": "stream",
     "text": [
      "7051\n"
     ]
    },
    {
     "data": {
      "text/plain": [
       "<matplotlib.image.AxesImage at 0x1ad1681d0>"
      ]
     },
     "execution_count": 43,
     "metadata": {},
     "output_type": "execute_result"
    },
    {
     "data": {
      "image/png": "[encoded data removed]",
      "text/plain": [
       "<Figure size 800x800 with 1 Axes>"
      ]
     },
     "metadata": {},
     "output_type": "display_data"
    }
   ],
   "source": [
    "filename = \"AOC2024inputs/input14.txt\"\n",
    "robots = read_input_14(filename)\n",
    "xmax = 101\n",
    "ymax = 103\n",
    "\n",
    "i = 0\n",
    "while True:        \n",
    "    i += 1\n",
    "    newrobots = move_robots(robots,xmax,ymax)\n",
    "    grid = robots_to_grid(newrobots,xmax,ymax)\n",
    "    if sum(grid[grid==1])==len(robots):\n",
    "        print(i)\n",
    "        break\n",
    "    robots = newrobots\n",
    "\n",
    "fig, ax = plt.subplots(figsize=(8,8),dpi=100)\n",
    "plt.gca()\n",
    "ax.set_axis_off()\n",
    "plt.imshow(grid)"
   ]
  },
  {
   "cell_type": "code",
   "execution_count": null,
   "id": "2f5b3b57-b567-4ada-a46e-7d5716239a26",
   "metadata": {},
   "outputs": [],
   "source": []
  }
 ],
 "metadata": {
  "kernelspec": {
   "display_name": "Python 3 (ipykernel)",
   "language": "python",
   "name": "python3"
  },
  "language_info": {
   "codemirror_mode": {
    "name": "ipython",
    "version": 3
   },
   "file_extension": ".py",
   "mimetype": "text/x-python",
   "name": "python",
   "nbconvert_exporter": "python",
   "pygments_lexer": "ipython3",
   "version": "3.12.2"
  }
 },
 "nbformat": 4,
 "nbformat_minor": 5
}
