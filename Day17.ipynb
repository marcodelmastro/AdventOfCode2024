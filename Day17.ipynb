{
 "cells": [
  {
   "cell_type": "markdown",
   "id": "23e03df1-175f-422b-bdcf-921015cac54c",
   "metadata": {},
   "source": [
    "## Day 17\n",
    "\n",
    "https://adventofcode.com/2024/day/17"
   ]
  },
  {
   "cell_type": "code",
   "execution_count": 371,
   "id": "0003de48-f315-42f5-9517-31ace9709de5",
   "metadata": {},
   "outputs": [],
   "source": [
    "import re\n",
    "\n",
    "def read_input_17(filename):\n",
    "    f = open(filename)\n",
    "    inp = f.read().split(\"\\n\\n\")\n",
    "    regs = [ int(re.findall(r\"\\d+\",i)[0]) for i in inp[0].split(\"\\n\") ]\n",
    "    prog = [ int(i) for i in re.findall(r\"\\d+\",inp[1]) ]\n",
    "    return regs, prog"
   ]
  },
  {
   "cell_type": "code",
   "execution_count": 384,
   "id": "575c9108-c689-4174-9e95-cf378f356f3b",
   "metadata": {},
   "outputs": [],
   "source": [
    "def opcode(reg, prog, verbose=False, part=1):\n",
    "    i = 0\n",
    "    output = []\n",
    "\n",
    "    while True:    \n",
    "        op = prog[i]\n",
    "        li = prog[i+1]\n",
    "        \n",
    "        # combo from literal\n",
    "        co = li \n",
    "        if co>3 and co<7:\n",
    "            co=reg[co-4]        \n",
    "        \n",
    "        if verbose:\n",
    "            print(f\"{i} | {op} : {co} | \",end=\"\")\n",
    "        \n",
    "        if op==0: # adv\n",
    "            reg[0] = reg[0] // 2**co  \n",
    "        elif op==1: # bxl\n",
    "            reg[1] = reg[1] ^ li \n",
    "        elif op==2: # bst\n",
    "            reg[1] = co % 8\n",
    "        elif op==3: # jnz\n",
    "            if reg[0]!=0: \n",
    "                i = li - 2\n",
    "        elif op==4: # bxc\n",
    "            reg[1] = reg[1] ^ reg[2]\n",
    "        elif op==5: # out\n",
    "            output += [ co % 8 ]\n",
    "            #if part==2 and output != prog[:len(output)]:\n",
    "            #    return None, None\n",
    "        elif op==6: # bdv\n",
    "            reg[1] = reg[0] // 2**co  \n",
    "        elif op==7: # cdv\n",
    "            reg[2] = reg[0] // 2**co  \n",
    "\n",
    "        if verbose:\n",
    "            print(reg)\n",
    "\n",
    "        i+=2\n",
    "        if i>=len(prog):\n",
    "            break\n",
    "    return output,reg"
   ]
  },
  {
   "cell_type": "code",
   "execution_count": 373,
   "id": "0375da52-c451-4047-91e7-97f4f5351929",
   "metadata": {},
   "outputs": [],
   "source": [
    "def part1(filename):\n",
    "    reg, prog = read_input_17(filename)\n",
    "    output, _ = opcode(reg, prog)\n",
    "    return \"\".join([ str(o)+',' for o in output ])[:-1]"
   ]
  },
  {
   "cell_type": "code",
   "execution_count": 374,
   "id": "16501496-da04-4a93-bf1e-7807c2cc35c0",
   "metadata": {},
   "outputs": [
    {
     "name": "stdout",
     "output_type": "stream",
     "text": [
      "Test 1: 4,6,3,5,6,3,5,2,1,0\n",
      "Part 1: 7,4,2,0,5,0,5,3,7\n"
     ]
    }
   ],
   "source": [
    "print(\"Test 1:\",part1(\"examples/example17.txt\"))\n",
    "print(\"Part 1:\",part1(\"AOC2024inputs/input17.txt\"))"
   ]
  },
  {
   "cell_type": "markdown",
   "id": "dc61d813-aefd-4a1c-a66b-68b2e7ff3289",
   "metadata": {},
   "source": [
    "### Part 2"
   ]
  },
  {
   "cell_type": "code",
   "execution_count": 444,
   "id": "05413726-566f-4233-9909-ae8cdbc92aac",
   "metadata": {},
   "outputs": [],
   "source": [
    "def part2_bruteforce(filename):\n",
    "    reg, prog = read_input_17(filename)\n",
    "    i = 1\n",
    "    while True:\n",
    "        reg[0] = i\n",
    "        output, reg = opcode(reg, prog)\n",
    "        if output==prog:\n",
    "            return i      \n",
    "        i+=1"
   ]
  },
  {
   "cell_type": "code",
   "execution_count": 445,
   "id": "3091cd53-6554-4a99-9e1b-4bf37768fe28",
   "metadata": {},
   "outputs": [
    {
     "name": "stdout",
     "output_type": "stream",
     "text": [
      "Test 2: 117440\n"
     ]
    }
   ],
   "source": [
    "print(\"Test 2:\",part2_bruteforce(\"examples/example17-2.txt\"))"
   ]
  },
  {
   "cell_type": "markdown",
   "id": "8fe4e959-5081-4b4a-a04e-1d36276386d8",
   "metadata": {},
   "source": [
    "### Recursive solution\n",
    "\n",
    "The program works in base 8, and I notice that I need a input A value of the between $8^n-1$ and $8^{(n-1)}$ to produce n digits as output. Each digit is produced (almost) independently, and the least significant 3 bits of the input A value controls the first output digit. I can try to recursively build the initial value of A by searching which value between 0 and 7 (least significant 3 bits) generates the needed value, then accumulate it for the next output value by increasing by a factor 8 (as the value was actually represented in base 8)."
   ]
  },
  {
   "cell_type": "code",
   "execution_count": 972,
   "id": "8e9f746b-2c21-43b0-932b-dd0a9d8399c4",
   "metadata": {},
   "outputs": [
    {
     "name": "stdout",
     "output_type": "stream",
     "text": [
      "[5, 5, 5, 5, 5, 5, 5, 5, 5, 5, 5, 5, 5, 5, 1, 5]\n",
      "[2, 4, 1, 1, 7, 5, 4, 4, 1, 4, 0, 3, 5, 5, 3, 0]\n"
     ]
    }
   ],
   "source": [
    "filename = \"AOC2024inputs/input17.txt\"\n",
    "reg_init, prog = read_input_17(filename)\n",
    "\n",
    "#reg[0] = 8**len(prog)-1\n",
    "reg[0] = 8**(len(prog)-1)\n",
    "\n",
    "output, reg = opcode(reg,prog)\n",
    "print(output)\n",
    "print(prog)"
   ]
  },
  {
   "cell_type": "code",
   "execution_count": 988,
   "id": "44539dcb-c958-4b8d-b680-466110d2a6f2",
   "metadata": {},
   "outputs": [],
   "source": [
    "def findA(prog,a=0,b=0,c=0,ip=-1):\n",
    "    if abs(ip) > len(prog): \n",
    "      return a\n",
    "    for i in range(8):\n",
    "        reg = [ a * 8 + i , 0, 0 ]\n",
    "        output, reg = opcode(reg,prog)\n",
    "        if output[0]==prog[ip]:\n",
    "            aa = findA(prog, a * 8 + i, reg[1], reg[2], ip-1)\n",
    "            if aa:\n",
    "                return aa\n",
    "\n",
    "def part2(filename):\n",
    "    _, prog = read_input_17(filename)\n",
    "    return findA(prog)"
   ]
  },
  {
   "cell_type": "code",
   "execution_count": 992,
   "id": "cbb37895-575d-4023-9a93-8e9c7ffccdac",
   "metadata": {},
   "outputs": [
    {
     "name": "stdout",
     "output_type": "stream",
     "text": [
      "Test 2: 117440\n",
      "Part 2: 202991746427434\n"
     ]
    }
   ],
   "source": [
    "print(\"Test 2:\",part2(\"examples/example17-2.txt\"))\n",
    "print(\"Part 2:\",part2(\"AOC2024inputs/input17.txt\"))"
   ]
  },
  {
   "cell_type": "markdown",
   "id": "e4351d26-8a50-4199-a78c-30fbf674df09",
   "metadata": {},
   "source": [
    "### Program reverse engineering\n",
    "\n",
    "An alternative idea would be to reverse engineer the program, and to build a function acting like the inverse of its beaviour, then use it to search for the smallest solution (since there would be many, since some steps are not exclusive, e.g. % or // operations)"
   ]
  },
  {
   "cell_type": "code",
   "execution_count": 974,
   "id": "244bc281-c38e-44c9-bd89-10ac4eac22a5",
   "metadata": {},
   "outputs": [
    {
     "name": "stdout",
     "output_type": "stream",
     "text": [
      "   | OP LIT COM | name | operation\n",
      "-----------------------------------------------\n",
      " 0 |  2   4   A | bst  | B = COM % 8\n",
      " 2 |  1   1   1 | bxl  | B = B ^ LIT\n",
      " 4 |  7   5   B | cdv  | C = A//2**COM\n",
      " 6 |  4   4   A | bxc  | B = B^C\n",
      " 8 |  1   4   A | bxl  | B = B ^ LIT\n",
      "10 |  0   3   3 | adv  | A = A // 2**COM\n",
      "12 |  5   5   B | out  | print( COM % 8 )\n",
      "14 |  3   0   0 | jnz  | if A!=0: goto LIT\n"
     ]
    }
   ],
   "source": [
    "opnames = {\n",
    "    0: 'adv  | A = A // 2**COM',\n",
    "    1: 'bxl  | B = B ^ LIT',\n",
    "    2: 'bst  | B = COM % 8',\n",
    "    3: 'jnz  | if A!=0: goto LIT',\n",
    "    4: 'bxc  | B = B^C',\n",
    "    5: 'out  | print( COM % 8 )',\n",
    "    6: 'bdv  | B = A//2**COM',\n",
    "    7: 'cdv  | C = A//2**COM'\n",
    "}\n",
    "\n",
    "filename = \"AOC2024inputs/input17.txt\"\n",
    "reg_init, prog = read_input_17(filename)\n",
    "\n",
    "print(f\"   | OP LIT COM | name | operation\")\n",
    "print(\"-----------------------------------------------\")\n",
    "for i in range(0,len(prog),2):\n",
    "    op = prog[i]\n",
    "    li = prog[i+1]\n",
    "    co = li \n",
    "    if co==4:\n",
    "        co = 'A'\n",
    "    if co==5:\n",
    "        co = 'B'\n",
    "    if co==6:\n",
    "        co = 'C' \n",
    "    print(f\"{i:2d} | {op:2d}  {li:2d}   {co} | {opnames[op]}\")"
   ]
  },
  {
   "cell_type": "code",
   "execution_count": 975,
   "id": "288331a1-0798-4c7f-9a18-e5d46ed8e35a",
   "metadata": {},
   "outputs": [
    {
     "data": {
      "text/plain": [
       "[7, 4, 2, 0, 5, 0, 5, 3, 7]"
      ]
     },
     "execution_count": 975,
     "metadata": {},
     "output_type": "execute_result"
    }
   ],
   "source": [
    "# 7,4,2,0,5,0,5,3,7\n",
    "\n",
    "def program(A=46337277, B=0, C=0):\n",
    "    output = []\n",
    "    while True:\n",
    "        B = A%8 \n",
    "        B = B^1  \n",
    "        C = A//2**B\n",
    "        B = B^C\n",
    "        B = B^4\n",
    "        A = A//8 \n",
    "        output.append(B%8)\n",
    "        if A==0:\n",
    "            break\n",
    "    return output\n",
    "\n",
    "program()"
   ]
  },
  {
   "cell_type": "code",
   "execution_count": null,
   "id": "9825e00e-1abf-418b-9e59-ce072da63f64",
   "metadata": {},
   "outputs": [],
   "source": []
  }
 ],
 "metadata": {
  "kernelspec": {
   "display_name": "Python 3 (ipykernel)",
   "language": "python",
   "name": "python3"
  },
  "language_info": {
   "codemirror_mode": {
    "name": "ipython",
    "version": 3
   },
   "file_extension": ".py",
   "mimetype": "text/x-python",
   "name": "python",
   "nbconvert_exporter": "python",
   "pygments_lexer": "ipython3",
   "version": "3.12.2"
  }
 },
 "nbformat": 4,
 "nbformat_minor": 5
}
