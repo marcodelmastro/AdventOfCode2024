{
 "cells": [
  {
   "cell_type": "markdown",
   "id": "43e9c7a0-5bc1-4059-96e5-c2663970e728",
   "metadata": {},
   "source": [
    "## Day 21\n",
    "\n",
    "https://adventofcode.com/2024\n",
    "\n",
    "### Part 1\n",
    "\n",
    "Using `networkx` to find shortest path between keys on both keypads"
   ]
  },
  {
   "cell_type": "code",
   "execution_count": 1,
   "id": "c471a963-ab24-4492-83dd-0ce523848752",
   "metadata": {},
   "outputs": [],
   "source": [
    "import networkx as nx"
   ]
  },
  {
   "cell_type": "code",
   "execution_count": 2,
   "id": "6dbd9990-f4e3-44c6-9b9c-f0e8987000aa",
   "metadata": {},
   "outputs": [
    {
     "data": {
      "text/plain": [
       "['<A^A^^>AvvvA', '<A^A^>^AvvvA', '<A^A>^^AvvvA']"
      ]
     },
     "execution_count": 2,
     "metadata": {},
     "output_type": "execute_result"
    }
   ],
   "source": [
    "# +---+---+---+\n",
    "# | 7 | 8 | 9 |\n",
    "# +---+---+---+\n",
    "# | 4 | 5 | 6 |\n",
    "# +---+---+---+\n",
    "# | 1 | 2 | 3 |\n",
    "# +---+---+---+\n",
    "#     | 0 | A |\n",
    "#     +---+---+\n",
    "\n",
    "K1 = nx.DiGraph()\n",
    "K1.add_edges_from([(\"A\", \"0\"), (\"A\", \"3\")])\n",
    "K1.add_edges_from([(\"0\", \"2\"), (\"0\", \"A\")])\n",
    "K1.add_edges_from([(\"1\", \"4\"), (\"1\", \"2\")])\n",
    "K1.add_edges_from([(\"2\", \"1\"), (\"2\", \"5\"), (\"2\", \"3\"), (\"2\", \"0\")])\n",
    "K1.add_edges_from([(\"3\", \"2\"), (\"3\", \"6\"), (\"3\", \"A\")])\n",
    "K1.add_edges_from([(\"4\", \"7\"), (\"4\", \"5\"), (\"4\", \"1\")])\n",
    "K1.add_edges_from([(\"5\", \"4\"), (\"5\", \"8\"), (\"5\", \"6\"), (\"5\", \"2\")])\n",
    "K1.add_edges_from([(\"6\", \"5\"), (\"6\", \"9\"), (\"6\", \"3\")])\n",
    "K1.add_edges_from([(\"7\", \"8\"), (\"7\", \"4\")])\n",
    "K1.add_edges_from([(\"8\", \"7\"), (\"8\", \"5\"), (\"8\", \"9\")])\n",
    "K1.add_edges_from([(\"9\", \"8\"), (\"9\", \"6\")])\n",
    "\n",
    "K1move = {\n",
    "    ('A', '0'): '<', ('A', '3'): '^',\n",
    "    ('0', '2'): '^', ('0', 'A'): '>',\n",
    "    ('1', '4'): '^', ('1', '2'): '>', \n",
    "    ('2', '1'): '<', ('2', '5'): '^', ('2', '3'): '>', ('2', '0'): 'v',\n",
    "    ('3', '2'): '<', ('3', '6'): '^', ('3', 'A'): 'v', \n",
    "    ('4', '7'): '^', ('4', '5'): '>', ('4', '1'): 'v', \n",
    "    ('5', '4'): '<', ('5', '8'): '^', ('5', '6'): '>', ('5', '2'): 'v', \n",
    "    ('6', '5'): '<', ('6', '9'): '^', ('6', '3'): 'v',\n",
    "    ('7', '8'): '>', ('7', '4'): 'v', \n",
    "    ('8', '7'): '<', ('8', '5'): 'v', ('8', '9'): '>', \n",
    "    ('9', '8'): '<', ('9', '6'): 'v'\n",
    "}\n",
    "\n",
    "def pathsK1(A,B):\n",
    "    paths = []\n",
    "    for p in nx.all_shortest_paths(K1,A,B):\n",
    "        seq = []\n",
    "        for i in range(len(p)-1):\n",
    "            move = (p[i],p[i+1])\n",
    "            seq += [ K1move[move] ]\n",
    "        seq += ['A'] # press A\n",
    "        paths.append(\"\".join(seq))\n",
    "    return paths\n",
    "\n",
    "def solveK1(code):\n",
    "    paths = []\n",
    "    _code = \"A\"+code\n",
    "    for i in range(len(_code)-1):\n",
    "        paths.append(pathsK1(_code[i],_code[i+1]))\n",
    "    sequences = [\"\"]\n",
    "    i = 0\n",
    "    while i<len(paths):\n",
    "        sequences_new = []\n",
    "        for s in sequences:\n",
    "            for p in paths[i]:\n",
    "                sequences_new.append(s+p)\n",
    "        sequences = sequences_new\n",
    "        i+=1\n",
    "    return sequences\n",
    "\n",
    "code = \"029A\"\n",
    "solveK1(code) # <A^A>^^AvvvA, <A^A^>^AvvvA, and <A^A^^>AvvvA"
   ]
  },
  {
   "cell_type": "code",
   "execution_count": 3,
   "id": "0ed085e0-8d67-4bb1-8f9a-9053771f5c1f",
   "metadata": {},
   "outputs": [
    {
     "data": {
      "text/plain": [
       "['<v<A>^>A<A>AvA<^AA>A<vAAA^>A',\n",
       " '<v<A>^>A<A>AvA<^AA>A<vAAA>^A',\n",
       " '<v<A>^>A<A>AvA<^AA>Av<AAA^>A',\n",
       " '<v<A>^>A<A>AvA<^AA>Av<AAA>^A',\n",
       " '<v<A>^>A<A>AvA^<AA>A<vAAA^>A',\n",
       " '<v<A>^>A<A>AvA^<AA>A<vAAA>^A',\n",
       " '<v<A>^>A<A>AvA^<AA>Av<AAA^>A',\n",
       " '<v<A>^>A<A>AvA^<AA>Av<AAA>^A',\n",
       " '<v<A>>^A<A>AvA<^AA>A<vAAA^>A',\n",
       " '<v<A>>^A<A>AvA<^AA>A<vAAA>^A',\n",
       " '<v<A>>^A<A>AvA<^AA>Av<AAA^>A',\n",
       " '<v<A>>^A<A>AvA<^AA>Av<AAA>^A',\n",
       " '<v<A>>^A<A>AvA^<AA>A<vAAA^>A',\n",
       " '<v<A>>^A<A>AvA^<AA>A<vAAA>^A',\n",
       " '<v<A>>^A<A>AvA^<AA>Av<AAA^>A',\n",
       " '<v<A>>^A<A>AvA^<AA>Av<AAA>^A',\n",
       " 'v<<A>^>A<A>AvA<^AA>A<vAAA^>A',\n",
       " 'v<<A>^>A<A>AvA<^AA>A<vAAA>^A',\n",
       " 'v<<A>^>A<A>AvA<^AA>Av<AAA^>A',\n",
       " 'v<<A>^>A<A>AvA<^AA>Av<AAA>^A',\n",
       " 'v<<A>^>A<A>AvA^<AA>A<vAAA^>A',\n",
       " 'v<<A>^>A<A>AvA^<AA>A<vAAA>^A',\n",
       " 'v<<A>^>A<A>AvA^<AA>Av<AAA^>A',\n",
       " 'v<<A>^>A<A>AvA^<AA>Av<AAA>^A',\n",
       " 'v<<A>>^A<A>AvA<^AA>A<vAAA^>A',\n",
       " 'v<<A>>^A<A>AvA<^AA>A<vAAA>^A',\n",
       " 'v<<A>>^A<A>AvA<^AA>Av<AAA^>A',\n",
       " 'v<<A>>^A<A>AvA<^AA>Av<AAA>^A',\n",
       " 'v<<A>>^A<A>AvA^<AA>A<vAAA^>A',\n",
       " 'v<<A>>^A<A>AvA^<AA>A<vAAA>^A',\n",
       " 'v<<A>>^A<A>AvA^<AA>Av<AAA^>A',\n",
       " 'v<<A>>^A<A>AvA^<AA>Av<AAA>^A']"
      ]
     },
     "execution_count": 3,
     "metadata": {},
     "output_type": "execute_result"
    }
   ],
   "source": [
    "#     +---+---+\n",
    "#     | ^ | A |\n",
    "# +---+---+---+\n",
    "# | < | v | > |\n",
    "# +---+---+---+\n",
    "\n",
    "K2 = nx.DiGraph()\n",
    "K2.add_edges_from([(\"A\", \"^\"), (\"A\", \">\")])\n",
    "K2.add_edges_from([(\"^\", \"A\"), (\"^\", \"v\")])\n",
    "K2.add_edges_from([(\"<\", \"v\")])\n",
    "K2.add_edges_from([(\"v\", \"<\"), (\"v\", \"^\"), (\"v\", \">\")])\n",
    "K2.add_edges_from([(\">\", \"v\"), (\">\", \"A\")])\n",
    "\n",
    "K2move = {\n",
    "    ('A', '^'): \"<\", ('A', '>'): \"v\",\n",
    "    ('^', 'A'): \">\", ('^', 'v'): \"v\",\n",
    "    ('<', 'v'): \">\",\n",
    "    ('v', '<'): \"<\", ('v', '^'): \"^\", ('v', '>'): \">\",\n",
    "    ('>', 'v'): \"<\", ('>', 'A'): \"^\",\n",
    "}\n",
    "\n",
    "def pathsK2(A,B):\n",
    "    paths = []\n",
    "    for p in nx.all_shortest_paths(K2,A,B):\n",
    "        seq = []\n",
    "        for i in range(len(p)-1):\n",
    "            move = (p[i],p[i+1])\n",
    "            seq += [ K2move[move] ]\n",
    "        seq += ['A'] # press A\n",
    "        paths.append(\"\".join(seq))\n",
    "    return paths\n",
    "\n",
    "def solveK2(code):\n",
    "    paths = []\n",
    "    _code = \"A\"+code\n",
    "    for i in range(len(_code)-1):\n",
    "        paths.append(pathsK2(_code[i],_code[i+1]))\n",
    "    sequences = [\"\"]\n",
    "    i = 0\n",
    "    while i<len(paths):\n",
    "        sequences_new = []\n",
    "        for s in sequences:\n",
    "            for p in paths[i]:\n",
    "                sequences_new.append(s+p)\n",
    "        sequences = sequences_new\n",
    "        i+=1\n",
    "    return sequences\n",
    "\n",
    "code = \"<A^A>^^AvvvA\"\n",
    "solveK2(code)"
   ]
  },
  {
   "cell_type": "code",
   "execution_count": 4,
   "id": "fcd9908b-aae6-4a56-9e32-df021402dd50",
   "metadata": {},
   "outputs": [
    {
     "data": {
      "text/plain": [
       "'<vA<AA>^>AvAA<^A>A<v<A>^>AvA^A<v<A>^>AAvA<A^>A<A>A<v<A>A^>AAA<A>vA^A'"
      ]
     },
     "execution_count": 4,
     "metadata": {},
     "output_type": "execute_result"
    }
   ],
   "source": [
    "def solve_code_(code):\n",
    "    solutions = []\n",
    "    for key1 in solveK1(code):\n",
    "        for key2 in solveK2(key1):\n",
    "            for key3 in solveK2(key2):\n",
    "                solutions.append(key3)\n",
    "    return min(solutions,key=len)\n",
    "\n",
    "solve_code_(\"029A\")"
   ]
  },
  {
   "cell_type": "code",
   "execution_count": 5,
   "id": "0ec184a7-690c-453d-bdd5-3b8cce625d71",
   "metadata": {},
   "outputs": [
    {
     "data": {
      "text/plain": [
       "'<vA<AA>>^AvAA<^A>Av<<A>^>AvA^Av<<A>>^AA<vA>A^A<A>Av<A<A>>^AAAvA<^A>A'"
      ]
     },
     "execution_count": 5,
     "metadata": {},
     "output_type": "execute_result"
    }
   ],
   "source": [
    "def solve_code(code,nk2=2):\n",
    "    solutions = set( solveK1(code) )\n",
    "    nk = 0\n",
    "    while True:\n",
    "        nk+=1\n",
    "        solutions_next = set()\n",
    "        while len(solutions):\n",
    "            s = solutions.pop()\n",
    "            for k2 in solveK2(s):\n",
    "                solutions_next.add(k2)\n",
    "        solutions = solutions_next\n",
    "        if nk==nk2:\n",
    "            break\n",
    "    return min(solutions,key=len)\n",
    "\n",
    "solve_code(\"029A\")"
   ]
  },
  {
   "cell_type": "code",
   "execution_count": 6,
   "id": "6a2b129c-b0c2-47e9-a088-f9b2ff5372e3",
   "metadata": {},
   "outputs": [
    {
     "name": "stdout",
     "output_type": "stream",
     "text": [
      "029A <vA<AA>>^AvAA<^A>Av<<A>^>AvA^Av<<A>>^AA<vA>A^A<A>Av<A<A>>^AAAvA<^A>A\n",
      "980A v<<A>^>AAAvA^Av<A<AA>^>AvAA^<A>Av<A<A>>^AAA<Av>A^Av<A>^A<A>A\n",
      "179A <v<A>^>A<vA<A>>^AAvAA^<A>A<v<A>^>AAvA^A<vA>^AA<A>Av<<A>A>^AAA<Av>A^A\n",
      "456A <v<A>^>AAv<A<A>^>AAvAA<^A>A<vA^>A<A>A<vA^>A<A>Av<<A>A^>AAvA<^A>A\n",
      "379A v<<A>^>AvA^Av<A<AA>^>AAvA^<A>AAvA^Av<A>^AA<A>Av<A<A>^>AAA<Av>A^A\n"
     ]
    }
   ],
   "source": [
    "filename = \"examples/example21.txt\"\n",
    "\n",
    "f = open(filename)\n",
    "for l in f.readlines():\n",
    "    code = l.strip()\n",
    "    key = solve_code(code)\n",
    "    print(code,key)"
   ]
  },
  {
   "cell_type": "code",
   "execution_count": 7,
   "id": "83716b02-fd5d-45d5-b931-864cddbe1e6a",
   "metadata": {},
   "outputs": [],
   "source": [
    "import re\n",
    "\n",
    "def solve21_full(filename,nk2=2):\n",
    "    f = open(filename)\n",
    "    complexity = 0\n",
    "    for l in f.readlines():\n",
    "        code = l.strip()\n",
    "        print(f\"Solving code {code}... \", end=\"\")\n",
    "        d = int(re.findall(r\"\\d+\",code)[0])\n",
    "        key = solve_code(code,nk2)\n",
    "        complexity += d*len(key)\n",
    "        print()\n",
    "    return complexity"
   ]
  },
  {
   "cell_type": "code",
   "execution_count": 8,
   "id": "900e02d8-34ad-47f3-b44a-4da794f4a80c",
   "metadata": {},
   "outputs": [
    {
     "name": "stdout",
     "output_type": "stream",
     "text": [
      "Solving code 029A... \n",
      "Solving code 980A... \n",
      "Solving code 179A... \n",
      "Solving code 456A... \n",
      "Solving code 379A... \n"
     ]
    },
    {
     "data": {
      "text/plain": [
       "126384"
      ]
     },
     "execution_count": 8,
     "metadata": {},
     "output_type": "execute_result"
    }
   ],
   "source": [
    "solve21_full(\"examples/example21.txt\",2)"
   ]
  },
  {
   "cell_type": "code",
   "execution_count": 9,
   "id": "87d13b7a-66f9-455a-a1ca-c425bf6d4d25",
   "metadata": {},
   "outputs": [
    {
     "name": "stdout",
     "output_type": "stream",
     "text": [
      "Solving code 805A... \n",
      "Solving code 682A... \n",
      "Solving code 671A... \n",
      "Solving code 973A... \n",
      "Solving code 319A... \n"
     ]
    },
    {
     "data": {
      "text/plain": [
       "242484"
      ]
     },
     "execution_count": 9,
     "metadata": {},
     "output_type": "execute_result"
    }
   ],
   "source": [
    "solve21_full(\"AOC2024inputs/input21.txt\",2)"
   ]
  },
  {
   "cell_type": "markdown",
   "id": "e7a4523d-6cbc-47f6-a345-4a8d2a18fad8",
   "metadata": {},
   "source": [
    "### Part 2\n",
    "\n",
    "I cleatly cannot store the full sequence, so I try to recursively reach the end of each subsequence and return the lenght, by breaking each sequence in smaller 2-character sets. I recycle Part 1 `networkx` solution to cache all possible shortest paths between all keys on both keypads.\n",
    "\n",
    "Note that there's no shortest path between the same node, but in the command sequence there could be multiple occurences of the same key press one after the other, I would still need to count these single steps."
   ]
  },
  {
   "cell_type": "code",
   "execution_count": 46,
   "id": "b806e83f-9ae8-4daa-8e7f-44728df287db",
   "metadata": {},
   "outputs": [],
   "source": [
    "from collections import defaultdict\n",
    "\n",
    "# cache all possible shortest paths between two keys on a given keypath\n",
    "\n",
    "def find_shortest_paths(G,Gmove):\n",
    "    paths = defaultdict(list)\n",
    "    for start in G.nodes():\n",
    "        for end in G.nodes():\n",
    "            if start != end:\n",
    "                for p in list(nx.all_shortest_paths(G, start, end)):\n",
    "                    m = \"\".join([ Gmove[(p[i],p[i+1])] for i in range(len(p)-1) ])\n",
    "                    paths[ start+end ].append(m)\n",
    "    return paths\n",
    "\n",
    "pK1 = find_shortest_paths(K1,K1move)\n",
    "pK2 = find_shortest_paths(K2,K2move)"
   ]
  },
  {
   "cell_type": "code",
   "execution_count": 47,
   "id": "7fbea5d6-fe27-4026-b60b-36900a86eab5",
   "metadata": {},
   "outputs": [
    {
     "data": {
      "text/plain": [
       "68"
      ]
     },
     "execution_count": 47,
     "metadata": {},
     "output_type": "execute_result"
    }
   ],
   "source": [
    "from functools import cache\n",
    "\n",
    "@cache\n",
    "def minimum_sequence(level, code, nrobots):\n",
    "    # end of keypad sequence reached, return lenght of current sequence \n",
    "    if level == nrobots + 1:\n",
    "        return len(code)\n",
    "\n",
    "    # select dictionary of shortest paths according to level and corresponding keypad\n",
    "    if level==0:\n",
    "        pK = pK1\n",
    "    else:\n",
    "        pK = pK2\n",
    "\n",
    "    # recursively cumulate sequence lenght, only considering shortest one\n",
    "    total = 0\n",
    "    for start, end in zip('A'+code, code):\n",
    "        # adding \"A\" command at end of current step to press the button!\n",
    "        min_seq = [ minimum_sequence(level+1, p+\"A\", nrobots) for p in pK[ start+end ] ]\n",
    "        if min_seq:\n",
    "            total += min(min_seq)\n",
    "        else:\n",
    "            # When the same button is pressed twice in a row account for 1 step in sequence,\n",
    "            # since  min_seq would be empty (no entry in the shortest path dictionaries), but\n",
    "            # operation is happening anyway\n",
    "            total += 1 \n",
    "\n",
    "    return total\n",
    "\n",
    "minimum_sequence(0, \"029A\", 2)"
   ]
  },
  {
   "cell_type": "code",
   "execution_count": 48,
   "id": "b765c10c-9e6c-453e-acc6-3b9750e37214",
   "metadata": {},
   "outputs": [
    {
     "data": {
      "text/plain": [
       "68"
      ]
     },
     "execution_count": 48,
     "metadata": {},
     "output_type": "execute_result"
    }
   ],
   "source": [
    "len(solve_code(\"029A\"))"
   ]
  },
  {
   "cell_type": "code",
   "execution_count": 49,
   "id": "a1288add-1748-459d-96aa-803cd8d51c70",
   "metadata": {},
   "outputs": [],
   "source": [
    "def solve21_recursive(filename,nrobots=2):\n",
    "    f = open(filename)\n",
    "    complexity = 0\n",
    "    for l in f.readlines():\n",
    "        code = l.strip()\n",
    "        d = int(re.findall(r\"\\d+\",code)[0])\n",
    "        complexity += d*minimum_sequence(0, code, nrobots)\n",
    "    return complexity"
   ]
  },
  {
   "cell_type": "code",
   "execution_count": 50,
   "id": "4996a6fc-2771-4b60-a868-49d8d0178a00",
   "metadata": {},
   "outputs": [
    {
     "data": {
      "text/plain": [
       "126384"
      ]
     },
     "execution_count": 50,
     "metadata": {},
     "output_type": "execute_result"
    }
   ],
   "source": [
    "solve21_recursive(\"examples/example21.txt\",2)"
   ]
  },
  {
   "cell_type": "code",
   "execution_count": 51,
   "id": "8349bc09-3e85-4985-af21-5bec68f9b36c",
   "metadata": {},
   "outputs": [
    {
     "data": {
      "text/plain": [
       "242484"
      ]
     },
     "execution_count": 51,
     "metadata": {},
     "output_type": "execute_result"
    }
   ],
   "source": [
    "solve21_recursive(\"AOC2024inputs/input21.txt\",2)"
   ]
  },
  {
   "cell_type": "code",
   "execution_count": 52,
   "id": "ad35c412-c05e-4534-bfca-2e6a7ae85f51",
   "metadata": {},
   "outputs": [
    {
     "data": {
      "text/plain": [
       "294209504640384"
      ]
     },
     "execution_count": 52,
     "metadata": {},
     "output_type": "execute_result"
    }
   ],
   "source": [
    "solve21_recursive(\"AOC2024inputs/input21.txt\",25)"
   ]
  },
  {
   "cell_type": "code",
   "execution_count": null,
   "id": "c0a61246-1dd6-460d-baff-2d2bf5bb6e44",
   "metadata": {},
   "outputs": [],
   "source": []
  }
 ],
 "metadata": {
  "kernelspec": {
   "display_name": "Python 3 (ipykernel)",
   "language": "python",
   "name": "python3"
  },
  "language_info": {
   "codemirror_mode": {
    "name": "ipython",
    "version": 3
   },
   "file_extension": ".py",
   "mimetype": "text/x-python",
   "name": "python",
   "nbconvert_exporter": "python",
   "pygments_lexer": "ipython3",
   "version": "3.12.2"
  }
 },
 "nbformat": 4,
 "nbformat_minor": 5
}
