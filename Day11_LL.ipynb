{
 "cells": [
  {
   "cell_type": "code",
   "execution_count": 244,
   "id": "ea53bedd-1fa7-485d-803f-609180947298",
   "metadata": {},
   "outputs": [],
   "source": [
    "from collections import defaultdict\n",
    "\n",
    "def get_stone_line(string):\n",
    "    line = defaultdict(int)\n",
    "    for s in string.split():\n",
    "        line[int(s)] += 1\n",
    "    return line\n",
    "\n",
    "def blink(line):\n",
    "    newline = defaultdict(int)\n",
    "    for v in line.keys():\n",
    "        n = line[v]\n",
    "        if v==0:\n",
    "            newline[1] += n\n",
    "        else:\n",
    "            if (int(log10(v))+1)%2==0:\n",
    "                sv = str(v)\n",
    "                v1 = int(sv[:len(sv)//2])\n",
    "                v2 = int(sv[len(sv)//2:])\n",
    "                newline[v1] += n\n",
    "                newline[v2] += n\n",
    "            else:\n",
    "                newline[v*2024] += n\n",
    "    return newline\n",
    "\n",
    "def blink_ntimes(line,n=0):\n",
    "    for _ in range(n):\n",
    "        line = blink(line)\n",
    "    return sum([n for v,n in line.items()])"
   ]
  },
  {
   "cell_type": "code",
   "execution_count": 245,
   "id": "539c6bdc-accb-4a0a-802c-bc380f8aa431",
   "metadata": {},
   "outputs": [
    {
     "data": {
      "text/plain": [
       "22"
      ]
     },
     "execution_count": 245,
     "metadata": {},
     "output_type": "execute_result"
    }
   ],
   "source": [
    "example2 = \"125 17\"\n",
    "line = get_stone_line(example2)\n",
    "blink_ntimes(line,6)"
   ]
  },
  {
   "cell_type": "code",
   "execution_count": null,
   "id": "70f2482b-bbbf-4e29-aee5-798b5cc6fc73",
   "metadata": {},
   "outputs": [],
   "source": []
  },
  {
   "cell_type": "code",
   "execution_count": 235,
   "id": "19c21a97-c1ef-4747-9dd7-3e508d5a22bb",
   "metadata": {},
   "outputs": [
    {
     "name": "stdout",
     "output_type": "stream",
     "text": [
      "125 1\n",
      "17 1\n",
      "253000 1\n",
      "1 1\n",
      "7 1\n"
     ]
    }
   ],
   "source": [
    "example2 = \"125 17\"\n",
    "line = get_stone_line(example2)\n",
    "\n",
    "for v,n in line.items(): print(v,n)\n",
    "\n",
    "line = blink(line)\n",
    "for v,n in line.items(): print(v,n)"
   ]
  },
  {
   "cell_type": "code",
   "execution_count": 161,
   "id": "70fb4af0-fdee-47e3-8ad7-a9e157dd23dd",
   "metadata": {},
   "outputs": [],
   "source": [
    "class Stone:\n",
    "    def __init__(self,value=-1,prev=None,foll=None):\n",
    "        self.value = value\n",
    "        self.prev = prev\n",
    "        self.foll = foll\n",
    "\n",
    "class StoneLine:\n",
    "    def __init__(self,first=None,last=None):\n",
    "        self.first = first\n",
    "        self.last = last\n",
    "\n",
    "    def __str__(self):\n",
    "        rep = \"\"\n",
    "        s = self.first\n",
    "        while True:\n",
    "            rep += str(s.value)+\" \"\n",
    "            s = s.foll\n",
    "            if not s:\n",
    "                return rep\n",
    "\n",
    "    def __len__(self):\n",
    "        l = 0\n",
    "        s = self.first\n",
    "        while True:\n",
    "            l += 1\n",
    "            s = s.foll\n",
    "            if not s:\n",
    "                return l"
   ]
  },
  {
   "cell_type": "code",
   "execution_count": 162,
   "id": "d19037d2-40a2-4e41-9b1b-60fa56c56f95",
   "metadata": {},
   "outputs": [],
   "source": [
    "def fill_line(stonevalues):\n",
    "    line = StoneLine()\n",
    "    for s in stonevalues:\n",
    "        stone = Stone(value=s)\n",
    "        if not line.first:\n",
    "            line.first = stone\n",
    "        if not line.last:\n",
    "             line.last = stone\n",
    "        else:\n",
    "            last = line.last\n",
    "            stone.prev = last\n",
    "            last.foll = stone\n",
    "            line.last = stone\n",
    "    return line"
   ]
  },
  {
   "cell_type": "code",
   "execution_count": 163,
   "id": "1f972dd4-6e4f-4715-b2f7-9bae7c0e7f9a",
   "metadata": {},
   "outputs": [
    {
     "name": "stdout",
     "output_type": "stream",
     "text": [
      "0 1 10 99 999 \n"
     ]
    }
   ],
   "source": [
    "def get_stone_line(string):\n",
    "    stonevalues = [int(s) for s in string.split()]\n",
    "    return fill_line(stonevalues)\n",
    "\n",
    "example1 = \"0 1 10 99 999\"\n",
    "line = get_stone_line(example1)\n",
    "print(line)"
   ]
  },
  {
   "cell_type": "code",
   "execution_count": 219,
   "id": "5f9a1e9f-6b45-4148-ac7b-eb41bf03ba1f",
   "metadata": {},
   "outputs": [],
   "source": [
    "from math import log10\n",
    "\n",
    "def blink(line):\n",
    "    s = line.first\n",
    "    while True:\n",
    "        v = s.value\n",
    "        if v==0:\n",
    "            s.value = 1\n",
    "            s = s.foll\n",
    "        else:\n",
    "            if (int(log10(v))+1)%2==0:\n",
    "                sv = str(s.value)\n",
    "                v1 = int(sv[:len(sv)//2])\n",
    "                v2 = int(sv[len(sv)//2:])\n",
    "                s1 = Stone(value=v1)\n",
    "                s2 = Stone(value=v2)\n",
    "\n",
    "                if s.prev:\n",
    "                    s1.prev = s.prev\n",
    "                    s.prev.foll = s1\n",
    "                if line.first==s:\n",
    "                    line.first=s1\n",
    "                s1.foll = s2\n",
    "\n",
    "                s2.prev = s1\n",
    "                if s.foll:\n",
    "                    s2.foll = s.foll\n",
    "                    s.foll.prev = s2\n",
    "                    \n",
    "                if line.last==s:\n",
    "                    line.last=s2   \n",
    "                \n",
    "                s.foll = None\n",
    "                s.prev = None\n",
    "                del s\n",
    "                s = s2.foll\n",
    "            else:\n",
    "                s.value *= 2024\n",
    "                s = s.foll\n",
    "        if not s:\n",
    "            return line"
   ]
  },
  {
   "cell_type": "code",
   "execution_count": 220,
   "id": "80fcf389-eab0-4997-bb54-1d5b5dcbdc14",
   "metadata": {},
   "outputs": [],
   "source": [
    "def blink_ntimes(line,n=0,verbose=False):\n",
    "    if verbose: \n",
    "        print(\"Initial arrangement:\")\n",
    "        print(line)\n",
    "    for i in range(n):\n",
    "        print(\"*\",end=\"\")\n",
    "        line = blink(line)\n",
    "        if verbose:\n",
    "            print(f\"\\nAfter {i+1} blink(s):\")\n",
    "            print(line)\n",
    "    if verbose:\n",
    "        print(f\"\\nAfter blinking {n} times: {len(line)} stones\")\n",
    "    return len(line)"
   ]
  },
  {
   "cell_type": "code",
   "execution_count": 221,
   "id": "963011cf-8020-4605-a6ec-b22566f510b3",
   "metadata": {},
   "outputs": [
    {
     "name": "stdout",
     "output_type": "stream",
     "text": [
      "Initial arrangement:\n",
      "125 17 \n",
      "*\n",
      "After 1 blink(s):\n",
      "253000 1 7 \n",
      "*\n",
      "After 2 blink(s):\n",
      "253 0 2024 14168 \n",
      "*\n",
      "After 3 blink(s):\n",
      "512072 1 20 24 28676032 \n",
      "*\n",
      "After 4 blink(s):\n",
      "512 72 2024 2 0 2 4 2867 6032 \n",
      "*\n",
      "After 5 blink(s):\n",
      "1036288 7 2 20 24 4048 1 4048 8096 28 67 60 32 \n",
      "*\n",
      "After 6 blink(s):\n",
      "2097446912 14168 4048 2 0 2 4 40 48 2024 40 48 80 96 2 8 6 7 6 0 3 2 \n",
      "\n",
      "After blinking 6 times: 22 stones\n"
     ]
    },
    {
     "data": {
      "text/plain": [
       "22"
      ]
     },
     "execution_count": 221,
     "metadata": {},
     "output_type": "execute_result"
    }
   ],
   "source": [
    "example2 = \"125 17\"\n",
    "line = get_stone_line(example2)\n",
    "blink_ntimes(line,n=6,verbose=True)"
   ]
  },
  {
   "cell_type": "code",
   "execution_count": 222,
   "id": "acecd328-aa06-4b19-b8a6-6464ab630d41",
   "metadata": {},
   "outputs": [
    {
     "name": "stdout",
     "output_type": "stream",
     "text": [
      "*************************"
     ]
    },
    {
     "data": {
      "text/plain": [
       "55312"
      ]
     },
     "execution_count": 222,
     "metadata": {},
     "output_type": "execute_result"
    }
   ],
   "source": [
    "line = get_stone_line(example2)\n",
    "blink_ntimes(line,n=25,verbose=False)"
   ]
  },
  {
   "cell_type": "code",
   "execution_count": 223,
   "id": "fcd5e833-43e4-4f05-996a-4a03d715b91c",
   "metadata": {},
   "outputs": [
    {
     "name": "stdout",
     "output_type": "stream",
     "text": [
      "*************************"
     ]
    },
    {
     "data": {
      "text/plain": [
       "183435"
      ]
     },
     "execution_count": 223,
     "metadata": {},
     "output_type": "execute_result"
    }
   ],
   "source": [
    "f = open(\"/Users/Marco/Downloads/input.txt\")\n",
    "l = f.read().strip()\n",
    "\n",
    "line = get_stone_line(l)\n",
    "blink_ntimes(line,n=25,verbose=False)"
   ]
  },
  {
   "cell_type": "code",
   "execution_count": 224,
   "id": "ab62dd1d-c51f-4381-8762-513f2cb7a597",
   "metadata": {},
   "outputs": [
    {
     "name": "stdout",
     "output_type": "stream",
     "text": [
      "************************************"
     ]
    },
    {
     "ename": "KeyboardInterrupt",
     "evalue": "",
     "output_type": "error",
     "traceback": [
      "\u001b[0;31m---------------------------------------------------------------------------\u001b[0m",
      "\u001b[0;31mKeyboardInterrupt\u001b[0m                         Traceback (most recent call last)",
      "Cell \u001b[0;32mIn[224], line 5\u001b[0m\n\u001b[1;32m      2\u001b[0m l \u001b[38;5;241m=\u001b[39m f\u001b[38;5;241m.\u001b[39mread()\u001b[38;5;241m.\u001b[39mstrip()\n\u001b[1;32m      4\u001b[0m line \u001b[38;5;241m=\u001b[39m get_stone_line(l)\n\u001b[0;32m----> 5\u001b[0m \u001b[43mblink_ntimes\u001b[49m\u001b[43m(\u001b[49m\u001b[43mline\u001b[49m\u001b[43m,\u001b[49m\u001b[43mn\u001b[49m\u001b[38;5;241;43m=\u001b[39;49m\u001b[38;5;241;43m75\u001b[39;49m\u001b[43m,\u001b[49m\u001b[43mverbose\u001b[49m\u001b[38;5;241;43m=\u001b[39;49m\u001b[38;5;28;43;01mFalse\u001b[39;49;00m\u001b[43m)\u001b[49m\n",
      "Cell \u001b[0;32mIn[220], line 7\u001b[0m, in \u001b[0;36mblink_ntimes\u001b[0;34m(line, n, verbose)\u001b[0m\n\u001b[1;32m      5\u001b[0m \u001b[38;5;28;01mfor\u001b[39;00m i \u001b[38;5;129;01min\u001b[39;00m \u001b[38;5;28mrange\u001b[39m(n):\n\u001b[1;32m      6\u001b[0m     \u001b[38;5;28mprint\u001b[39m(\u001b[38;5;124m\"\u001b[39m\u001b[38;5;124m*\u001b[39m\u001b[38;5;124m\"\u001b[39m,end\u001b[38;5;241m=\u001b[39m\u001b[38;5;124m\"\u001b[39m\u001b[38;5;124m\"\u001b[39m)\n\u001b[0;32m----> 7\u001b[0m     line \u001b[38;5;241m=\u001b[39m \u001b[43mblink\u001b[49m\u001b[43m(\u001b[49m\u001b[43mline\u001b[49m\u001b[43m)\u001b[49m\n\u001b[1;32m      8\u001b[0m     \u001b[38;5;28;01mif\u001b[39;00m verbose:\n\u001b[1;32m      9\u001b[0m         \u001b[38;5;28mprint\u001b[39m(\u001b[38;5;124mf\u001b[39m\u001b[38;5;124m\"\u001b[39m\u001b[38;5;130;01m\\n\u001b[39;00m\u001b[38;5;124mAfter \u001b[39m\u001b[38;5;132;01m{\u001b[39;00mi\u001b[38;5;241m+\u001b[39m\u001b[38;5;241m1\u001b[39m\u001b[38;5;132;01m}\u001b[39;00m\u001b[38;5;124m blink(s):\u001b[39m\u001b[38;5;124m\"\u001b[39m)\n",
      "Cell \u001b[0;32mIn[219], line 11\u001b[0m, in \u001b[0;36mblink\u001b[0;34m(line)\u001b[0m\n\u001b[1;32m      9\u001b[0m     s \u001b[38;5;241m=\u001b[39m s\u001b[38;5;241m.\u001b[39mfoll\n\u001b[1;32m     10\u001b[0m \u001b[38;5;28;01melse\u001b[39;00m:\n\u001b[0;32m---> 11\u001b[0m     \u001b[38;5;28;01mif\u001b[39;00m (\u001b[38;5;28mint\u001b[39m(\u001b[43mlog10\u001b[49m\u001b[43m(\u001b[49m\u001b[43mv\u001b[49m\u001b[43m)\u001b[49m)\u001b[38;5;241m+\u001b[39m\u001b[38;5;241m1\u001b[39m)\u001b[38;5;241m%\u001b[39m\u001b[38;5;241m2\u001b[39m\u001b[38;5;241m==\u001b[39m\u001b[38;5;241m0\u001b[39m:\n\u001b[1;32m     12\u001b[0m         sv \u001b[38;5;241m=\u001b[39m \u001b[38;5;28mstr\u001b[39m(s\u001b[38;5;241m.\u001b[39mvalue)\n\u001b[1;32m     13\u001b[0m         v1 \u001b[38;5;241m=\u001b[39m \u001b[38;5;28mint\u001b[39m(sv[:\u001b[38;5;28mlen\u001b[39m(sv)\u001b[38;5;241m/\u001b[39m\u001b[38;5;241m/\u001b[39m\u001b[38;5;241m2\u001b[39m])\n",
      "\u001b[0;31mKeyboardInterrupt\u001b[0m: "
     ]
    }
   ],
   "source": [
    "f = open(\"/Users/Marco/Downloads/input.txt\")\n",
    "l = f.read().strip()\n",
    "\n",
    "line = get_stone_line(l)\n",
    "blink_ntimes(line,n=75,verbose=False)"
   ]
  },
  {
   "cell_type": "code",
   "execution_count": null,
   "id": "1e2a52c4-c74f-4a0f-a136-1bafa1524a96",
   "metadata": {},
   "outputs": [],
   "source": []
  }
 ],
 "metadata": {
  "kernelspec": {
   "display_name": "Python 3 (ipykernel)",
   "language": "python",
   "name": "python3"
  },
  "language_info": {
   "codemirror_mode": {
    "name": "ipython",
    "version": 3
   },
   "file_extension": ".py",
   "mimetype": "text/x-python",
   "name": "python",
   "nbconvert_exporter": "python",
   "pygments_lexer": "ipython3",
   "version": "3.12.2"
  }
 },
 "nbformat": 4,
 "nbformat_minor": 5
}
