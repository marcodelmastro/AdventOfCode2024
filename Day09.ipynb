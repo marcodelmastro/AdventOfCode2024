{
 "cells": [
  {
   "cell_type": "markdown",
   "id": "ca9a399c-b23d-45f6-80a3-f570a6834255",
   "metadata": {},
   "source": [
    "## Day 9\n",
    "\n",
    "https://adventofcode.com/2024/day/9"
   ]
  },
  {
   "cell_type": "code",
   "execution_count": 1,
   "id": "a40eb9f5-cd79-4fa3-86d7-eed627a3c799",
   "metadata": {},
   "outputs": [],
   "source": [
    "def print_disk(disk):\n",
    "    for i in range(len(disk.keys())):\n",
    "        b = disk[i]\n",
    "        if b==-1:\n",
    "            print(\".\",end=\"\")\n",
    "        else:\n",
    "            print(b,end=\"\")\n",
    "\n",
    "def part1(inlist,verbose=False):\n",
    "    # fill disk blocks from input\n",
    "    disk = {}\n",
    "    ifile = 0\n",
    "    iblock = 0\n",
    "    nfiles = 0\n",
    "    for i,l in enumerate(inlist):\n",
    "        value = -1\n",
    "        if i%2==0:\n",
    "            value = ifile\n",
    "            ifile += 1\n",
    "        for _ in range(int(l)):\n",
    "            disk[iblock]= value\n",
    "            iblock += 1\n",
    "            if value!=-1:\n",
    "                nfiles+=1\n",
    "\n",
    "    # rearrange disk blocks\n",
    "    istart = 0\n",
    "    for ilast in range(len(disk.keys())-1,nfiles-1,-1):\n",
    "        bl = disk[ilast]\n",
    "        if bl != -1:\n",
    "            while True:\n",
    "                bs = disk[istart]\n",
    "                if bs==-1:\n",
    "                    disk[istart], disk[ilast] = bl, bs\n",
    "                    if verbose:\n",
    "                        print_disk(disk)\n",
    "                        print()\n",
    "                    break\n",
    "                else:\n",
    "                    istart +=1\n",
    "                    \n",
    "    # compute checksum\n",
    "    return sum([i*disk[i] for i in disk.keys() if disk[i]!=-1])"
   ]
  },
  {
   "cell_type": "code",
   "execution_count": 2,
   "id": "018a47a4-0adb-4bec-9b97-021c9c474503",
   "metadata": {},
   "outputs": [
    {
     "name": "stdout",
     "output_type": "stream",
     "text": [
      "02.111....2222.\n",
      "022111....222..\n",
      "0221112...22...\n",
      "02211122..2....\n",
      "022111222......\n",
      "Test 1-1: 60\n"
     ]
    }
   ],
   "source": [
    "print(\"Test 1-1:\",part1(\"12345\",True))"
   ]
  },
  {
   "cell_type": "code",
   "execution_count": 3,
   "id": "097fb800-056d-4955-bbb0-ae8dcac94cde",
   "metadata": {},
   "outputs": [
    {
     "name": "stdout",
     "output_type": "stream",
     "text": [
      "009..111...2...333.44.5555.6666.777.88889.\n",
      "0099.111...2...333.44.5555.6666.777.8888..\n",
      "00998111...2...333.44.5555.6666.777.888...\n",
      "009981118..2...333.44.5555.6666.777.88....\n",
      "0099811188.2...333.44.5555.6666.777.8.....\n",
      "009981118882...333.44.5555.6666.777.......\n",
      "0099811188827..333.44.5555.6666.77........\n",
      "00998111888277.333.44.5555.6666.7.........\n",
      "009981118882777333.44.5555.6666...........\n",
      "009981118882777333644.5555.666............\n",
      "00998111888277733364465555.66.............\n",
      "0099811188827773336446555566..............\n",
      "Test 1-2: 1928\n"
     ]
    }
   ],
   "source": [
    "print(\"Test 1-2:\",part1(\"2333133121414131402\",True))"
   ]
  },
  {
   "cell_type": "code",
   "execution_count": 4,
   "id": "e4a5fd31-3f47-4540-8d3f-c075e7603206",
   "metadata": {},
   "outputs": [
    {
     "name": "stdout",
     "output_type": "stream",
     "text": [
      "Part 1: 6519155389266\n"
     ]
    }
   ],
   "source": [
    "f = open(\"AOC2024inputs/input09.txt\")\n",
    "inline = f.read().strip()\n",
    "print(\"Part 1:\",part1(inline))"
   ]
  },
  {
   "cell_type": "code",
   "execution_count": 5,
   "id": "b18645c4-249a-4bb4-b762-07052d0117c5",
   "metadata": {},
   "outputs": [],
   "source": [
    "def part2(inlist, verbose=False):\n",
    "    # filling disk blocks from input\n",
    "    disk = {}\n",
    "    files = {}\n",
    "    ifile = 0\n",
    "    iblock = 0\n",
    "    nfiles = 0\n",
    "    for i,l in enumerate(inlist):\n",
    "        value = -1\n",
    "        if i%2==0:\n",
    "            value = ifile\n",
    "            ifile += 1\n",
    "            files[value] = int(l) # cache file sizes\n",
    "        for _ in range(int(l)):\n",
    "            disk[iblock]= value\n",
    "            iblock += 1\n",
    "            if value!=-1:\n",
    "                nfiles+=1\n",
    "    \n",
    "    # rearranging disk blocks\n",
    "    firstempty = 0\n",
    "    ilast = len(disk.keys())-1\n",
    "    while ilast>0:\n",
    "        if ilast%1000==0: print(\"*\",end=\"\")\n",
    "        bl = disk[ilast]\n",
    "        if bl != -1: # found file\n",
    "            l = files[bl]\n",
    "            # check if there's enough empty space to move file\n",
    "            moved = False\n",
    "            iempty = firstempty\n",
    "            updatefirstempty = True # save first empty space after file movement to speed up following searches\n",
    "            while iempty<ilast-l-1: # look only until the beginning of the current file (no forward movement)\n",
    "                if disk[iempty]==-1 and updatefirstempty:\n",
    "                    firstempty = iempty\n",
    "                    updatefirstempty = False\n",
    "                empty = [ disk[i] for i in range(iempty,iempty+l) ]\n",
    "                if sum([1 for e in empty if e==-1])==l:\n",
    "                    # move file\n",
    "                    for i in range(l):\n",
    "                        disk[iempty+i]=bl\n",
    "                        disk[ilast-l+i+1]=-1\n",
    "                    if verbose:\n",
    "                        print_disk(disk)\n",
    "                        print()\n",
    "                    moved = True\n",
    "                    break\n",
    "                iempty +=1\n",
    "                if moved: \n",
    "                    break\n",
    "            ilast-=l\n",
    "        else:\n",
    "            ilast-=1\n",
    "\n",
    "    # compute checksum\n",
    "    return sum([i*disk[i] for i in disk.keys() if disk[i]!=-1])"
   ]
  },
  {
   "cell_type": "code",
   "execution_count": 6,
   "id": "fa5b2ecb-23c8-4a05-a231-0b53f5efbb56",
   "metadata": {},
   "outputs": [
    {
     "name": "stdout",
     "output_type": "stream",
     "text": [
      "0099.111...2...333.44.5555.6666.777.8888..\n",
      "0099.1117772...333.44.5555.6666.....8888..\n",
      "0099.111777244.333....5555.6666.....8888..\n",
      "00992111777.44.333....5555.6666.....8888..\n",
      "Test2: 2858\n"
     ]
    }
   ],
   "source": [
    "print(\"Test2:\", part2(\"2333133121414131402\",True))"
   ]
  },
  {
   "cell_type": "code",
   "execution_count": 7,
   "id": "d5d0f0b6-0d67-4d70-aad8-bba8fdccf82f",
   "metadata": {},
   "outputs": [
    {
     "name": "stdout",
     "output_type": "stream",
     "text": [
      "***********************************\n",
      "Part2: 6547228115826\n",
      "Execution time: 62.8 s\n"
     ]
    }
   ],
   "source": [
    "import time\n",
    "start = time.time()\n",
    "\n",
    "print(\"\\nPart2:\", part2(inline))\n",
    "\n",
    "stop = time.time()\n",
    "print(f\"Execution time: {stop-start:4.1f} s\")"
   ]
  },
  {
   "cell_type": "code",
   "execution_count": null,
   "id": "7e2ad768-3934-48ff-b7d8-7e76cb049c31",
   "metadata": {},
   "outputs": [],
   "source": []
  }
 ],
 "metadata": {
  "kernelspec": {
   "display_name": "Python 3 (ipykernel)",
   "language": "python",
   "name": "python3"
  },
  "language_info": {
   "codemirror_mode": {
    "name": "ipython",
    "version": 3
   },
   "file_extension": ".py",
   "mimetype": "text/x-python",
   "name": "python",
   "nbconvert_exporter": "python",
   "pygments_lexer": "ipython3",
   "version": "3.12.2"
  }
 },
 "nbformat": 4,
 "nbformat_minor": 5
}
