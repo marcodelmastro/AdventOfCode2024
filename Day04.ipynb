{
 "cells": [
  {
   "cell_type": "markdown",
   "id": "4d94fcd6-b714-4bf7-a5f3-d2e6c9d3f805",
   "metadata": {},
   "source": [
    "## Day 4\n",
    "\n",
    "https://adventofcode.com/2024"
   ]
  },
  {
   "cell_type": "code",
   "execution_count": 13,
   "id": "2270bee3-4c35-44f5-8ae7-b190b7df3fb7",
   "metadata": {},
   "outputs": [],
   "source": [
    "from collections import defaultdict\n",
    "\n",
    "def read_input_04(filename):\n",
    "    letters = defaultdict(str)\n",
    "    Xs = []\n",
    "    As = []\n",
    "    im = 0+1j # imaginary unit\n",
    "    f = open (filename)\n",
    "    for j,l in enumerate(f.readlines()):\n",
    "        for i,c in enumerate(l.strip()):\n",
    "            p = i+j*im # coordinate as complex number\n",
    "            letters[p] = c\n",
    "            if c==\"X\": # save X locations (part 1)\n",
    "                Xs.append(p)\n",
    "            if c==\"A\": # save A locations (part 2)\n",
    "                As.append(p)\n",
    "    return letters, Xs, As\n",
    "\n",
    "def part1(filename):\n",
    "    letters, Xs, _ = read_input_04(filename)\n",
    "    count = 0\n",
    "    for x in Xs: # Start from X locations\n",
    "        for d in [+1,-1,+1j,-1j,+1+1j,-1+1j,+1-1j,-1-1j]: # move 3 steps in all 8 possible directions\n",
    "            if \"\".join([letters[x+k*d] for k in range(1,4)]) == \"MAS\":\n",
    "                count+=1\n",
    "    return count"
   ]
  },
  {
   "cell_type": "code",
   "execution_count": 14,
   "id": "dacffb40-5dfe-48b1-96f4-1babf296cf92",
   "metadata": {},
   "outputs": [
    {
     "name": "stdout",
     "output_type": "stream",
     "text": [
      "Test 1: 18\n",
      "Part 1: 2549\n"
     ]
    }
   ],
   "source": [
    "print(\"Test 1:\",part1(\"examples/example04.txt\"))\n",
    "print(\"Part 1:\",part1(\"AOC2024inputs/input04.txt\"))"
   ]
  },
  {
   "cell_type": "code",
   "execution_count": 15,
   "id": "7ad0f4e8-767c-4e1a-a9fb-d9c71342108e",
   "metadata": {},
   "outputs": [],
   "source": [
    "def part2(filename):\n",
    "    letters, _, As = read_input_04(filename)\n",
    "    count = 0\n",
    "    for x in As: # Start from A locations\n",
    "        c = [letters[x+p] for p in [-1+1j,+1+1j,+1-1j,-1-1j]] # search for letters in X positions around A in clockwise sense\n",
    "        if \"\".join(c) in [\"MMSS\",\"MSSM\",\"SMMS\",\"SSMM\"]: # avoid \"SMSM\" and \"MSMS\", X of MAM and SAS\n",
    "            count+=1\n",
    "    return count"
   ]
  },
  {
   "cell_type": "code",
   "execution_count": 16,
   "id": "b59367e5-14c1-40f6-9a59-a1a82ebed914",
   "metadata": {},
   "outputs": [
    {
     "name": "stdout",
     "output_type": "stream",
     "text": [
      "Test 2: 9\n",
      "Part 2: 2003\n"
     ]
    }
   ],
   "source": [
    "print(\"Test 2:\",part2(\"examples/example04.txt\"))\n",
    "print(\"Part 2:\",part2(\"AOC2024inputs/input04.txt\"))"
   ]
  },
  {
   "cell_type": "code",
   "execution_count": null,
   "id": "967b41c0-9d6b-465c-bc41-693fd9b65900",
   "metadata": {},
   "outputs": [],
   "source": []
  }
 ],
 "metadata": {
  "kernelspec": {
   "display_name": "Python 3 (ipykernel)",
   "language": "python",
   "name": "python3"
  },
  "language_info": {
   "codemirror_mode": {
    "name": "ipython",
    "version": 3
   },
   "file_extension": ".py",
   "mimetype": "text/x-python",
   "name": "python",
   "nbconvert_exporter": "python",
   "pygments_lexer": "ipython3",
   "version": "3.12.2"
  }
 },
 "nbformat": 4,
 "nbformat_minor": 5
}
