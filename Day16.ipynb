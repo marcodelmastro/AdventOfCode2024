{
 "cells": [
  {
   "cell_type": "markdown",
   "id": "c0bf02a1-b3e3-4aaf-9bda-986d8c83c684",
   "metadata": {},
   "source": [
    "## Day 16\n",
    "\n",
    "https://adventofcode.com/2024/day/16"
   ]
  },
  {
   "cell_type": "code",
   "execution_count": 1,
   "id": "e56ac1d5-3202-46d0-9d51-96a0213f5679",
   "metadata": {},
   "outputs": [],
   "source": [
    "import numpy as np\n",
    "\n",
    "WALL = 1\n",
    "\n",
    "def read_input_16(filename):\n",
    "    f = open(filename)\n",
    "    lines = f.readlines()\n",
    "    grid = np.zeros((len(lines), len(lines[0])-1),dtype=int)\n",
    "    for r,l in enumerate(lines):\n",
    "        for c,v in enumerate(l.strip()):\n",
    "            if v==\"#\":\n",
    "                grid[r][c] = WALL\n",
    "            if v==\"S\":\n",
    "                start = (r,c)\n",
    "            if v==\"E\":\n",
    "                end = (r,c)\n",
    "    return grid, start, end"
   ]
  },
  {
   "cell_type": "code",
   "execution_count": 65,
   "id": "60f529b9-4080-4806-8eb6-f1c368c05551",
   "metadata": {},
   "outputs": [],
   "source": [
    "from queue import PriorityQueue, Queue\n",
    "import math\n",
    "\n",
    "def best_score(grid,start,end):\n",
    "    dirs = [(0,+1), (+1,0), (0,-1), (-1,0)] # (Row, Column): E, S, W, N\n",
    "    queue = PriorityQueue()\n",
    "    queue.put( (0,start,0) ) # score, position, facing direction\n",
    "    visited = set()\n",
    "    while True:\n",
    "        pos = queue.get()\n",
    "        score, p, d = pos\n",
    "        visited.add((p,d))\n",
    "        for i in [0,-1,+1,+2]: # straight, left, right, backward\n",
    "            dnew = (d+i)%4\n",
    "            dr,dc = dirs[dnew]\n",
    "            r,c = p\n",
    "            r1,c1 = r+dr,c+dc\n",
    "            if grid[r1][c1]==WALL:\n",
    "                continue\n",
    "            if ((r1,c1), dnew) in visited:\n",
    "                continue\n",
    "            scorenew = score+abs(i)*1000+1\n",
    "            if (r1,c1)==end:\n",
    "                return scorenew\n",
    "            else:\n",
    "                queue.put( (scorenew,(r1,c1),dnew) )\n",
    "\n",
    "def part1(filename):\n",
    "    grid, start, end = read_input_16(filename)\n",
    "    return best_score(grid,start,end)"
   ]
  },
  {
   "cell_type": "code",
   "execution_count": 66,
   "id": "0be3ccf3-b63c-494b-a37f-cd0a2e75c668",
   "metadata": {},
   "outputs": [
    {
     "name": "stdout",
     "output_type": "stream",
     "text": [
      "Test 1-1: 7036\n",
      "Test 1-2: 11048\n",
      "Part 1  : 90460\n"
     ]
    }
   ],
   "source": [
    "print(\"Test 1-1:\",part1(\"examples/example16-1.txt\"))\n",
    "print(\"Test 1-2:\",part1(\"examples/example16-2.txt\"))\n",
    "print(\"Part 1  :\",part1(\"AOC2024inputs/input16.txt\"))"
   ]
  },
  {
   "cell_type": "code",
   "execution_count": 67,
   "id": "c956f9df-f563-4a3f-b46f-8a5868e7431b",
   "metadata": {},
   "outputs": [],
   "source": [
    "def best_score_path(grid,start,end):\n",
    "    dirs = [(0,+1), (+1,0), (0,-1), (-1,0)] # (Row, Column): E, S, W, N\n",
    "    queue = PriorityQueue()\n",
    "    queue.put( (0,start,0,[start]) ) # score, position, facing direction, path (saving path on top of last position)\n",
    "    visited = set()\n",
    "    bestscore = 1_000_000\n",
    "    seats = {start}\n",
    "    while True:\n",
    "        pos = queue.get()\n",
    "        score, p, d, path = pos\n",
    "        if score > bestscore: # return seats as soon as score exceeds the best scores\n",
    "            return len(seats)\n",
    "        visited.add((p,d))\n",
    "        for i in [0,-1,+1,+2]: # straight, left, right, backward\n",
    "            dnew = (d+i)%4\n",
    "            dr,dc = dirs[dnew]\n",
    "            r,c = p\n",
    "            r1,c1 = r+dr,c+dc\n",
    "            if grid[r1][c1]==WALL:\n",
    "                continue\n",
    "            if ((r1,c1), dnew) in visited:\n",
    "                continue\n",
    "            scorenew = score+abs(i)*1000+1\n",
    "            if (r1,c1)==end:\n",
    "                bestscore = scorenew\n",
    "                # instead of returning the best score for the first path, keep accumulating all best score paths\n",
    "                seats.update(path+[(r1,c1)])\n",
    "            else:\n",
    "                pathnew = path + [(r1,c1)]\n",
    "                queue.put( (scorenew,(r1,c1),dnew,pathnew) )\n",
    "\n",
    "def part2(filename):\n",
    "    grid, start, end = read_input_16(filename)\n",
    "    return best_score_path(grid,start,end)"
   ]
  },
  {
   "cell_type": "code",
   "execution_count": 68,
   "id": "2bd8b94c-de63-4328-9b12-a3a18ecfc42d",
   "metadata": {},
   "outputs": [
    {
     "name": "stdout",
     "output_type": "stream",
     "text": [
      "Test 2-1: 45\n",
      "Test 2-2: 64\n",
      "Part 2  : 575\n"
     ]
    }
   ],
   "source": [
    "print(\"Test 2-1:\",part2(\"examples/example16-1.txt\"))\n",
    "print(\"Test 2-2:\",part2(\"examples/example16-2.txt\"))\n",
    "print(\"Part 2  :\",part2(\"AOC2024inputs/input16.txt\"))"
   ]
  },
  {
   "cell_type": "code",
   "execution_count": null,
   "id": "e0bda010-3e9e-4e3d-b8ed-b6b20083b127",
   "metadata": {},
   "outputs": [],
   "source": []
  }
 ],
 "metadata": {
  "kernelspec": {
   "display_name": "Python 3 (ipykernel)",
   "language": "python",
   "name": "python3"
  },
  "language_info": {
   "codemirror_mode": {
    "name": "ipython",
    "version": 3
   },
   "file_extension": ".py",
   "mimetype": "text/x-python",
   "name": "python",
   "nbconvert_exporter": "python",
   "pygments_lexer": "ipython3",
   "version": "3.12.2"
  }
 },
 "nbformat": 4,
 "nbformat_minor": 5
}
