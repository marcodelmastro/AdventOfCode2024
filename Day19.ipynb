{
 "cells": [
  {
   "cell_type": "markdown",
   "id": "398ac52a-6e3d-4e18-85ef-8094350d92c6",
   "metadata": {},
   "source": [
    "## Day 19\n",
    "\n",
    "https://adventofcode.com/2024/day/19\n",
    "\n",
    "Recursion and backtracking!"
   ]
  },
  {
   "cell_type": "code",
   "execution_count": 90,
   "id": "eea1777b-56d2-4bd1-831b-38a2542ea183",
   "metadata": {},
   "outputs": [],
   "source": [
    "def read_input_19(filename):\n",
    "    f = open(filename)\n",
    "    p = f.read().strip().split(\"\\n\\n\")\n",
    "    patterns = p[0].split(\", \")\n",
    "    towels = p[1].split(\"\\n\")\n",
    "    return patterns, towels"
   ]
  },
  {
   "cell_type": "code",
   "execution_count": 209,
   "id": "a66791d5-8f35-4634-a8d2-f226f8514cfd",
   "metadata": {},
   "outputs": [],
   "source": [
    "def find_pattern_sequence(towel, patterns, memo=None):\n",
    "    '''Find a valid sequence of patterns'''\n",
    "    if memo is None:\n",
    "        memo = {}\n",
    "\n",
    "    if towel in memo:\n",
    "        return memo[towel]\n",
    "\n",
    "    if towel in patterns:\n",
    "        memo[towel] = [towel]\n",
    "        return memo[towel]\n",
    "\n",
    "    for pattern in patterns:\n",
    "        if len(pattern) > len(towel):\n",
    "            continue\n",
    "        if towel[:len(pattern)]==pattern: # towel begins with pattern\n",
    "            # Recursive calls for rest of towel\n",
    "            prest = find_pattern_sequence(towel[len(pattern):], patterns, memo)\n",
    "            # Combine results from current pattern and rest of towel\n",
    "            if prest is not None:\n",
    "                memo[towel] = [pattern] + prest\n",
    "                return memo[towel]\n",
    "\n",
    "    memo[towel] = None\n",
    "    return None\n",
    "\n",
    "def has_pattern_sequence(towel, patterns, memo=None):\n",
    "    '''\n",
    "    Returns Trus if a valid selequence of pattern exisits. \n",
    "    Faster than find_pattern_sequence() (and first step toward Part 2)\n",
    "    '''\n",
    "    if memo is None:\n",
    "        memo = {}\n",
    "\n",
    "    if towel in memo:\n",
    "        return memo[towel]\n",
    "\n",
    "    if towel in patterns:\n",
    "        memo[towel] = True\n",
    "        return memo[towel]\n",
    "\n",
    "    for pattern in patterns:\n",
    "        if len(pattern) > len(towel):\n",
    "            continue\n",
    "        if towel[:len(pattern)]==pattern: # towel begins with pattern\n",
    "            # Recursive calls for rest of towel\n",
    "            prest = has_pattern_sequence(towel[len(pattern):], patterns, memo)\n",
    "            # Combine results from current pattern and rest of towel\n",
    "            if prest:\n",
    "                memo[towel] = True\n",
    "                return memo[towel]\n",
    "\n",
    "    memo[towel] = False\n",
    "    return False\n",
    "\n",
    "def part1(filename):\n",
    "    patterns, towels = read_input_19(filename)\n",
    "    memo = {}\n",
    "    possible = 0\n",
    "    for towel in towels:\n",
    "        comp = has_pattern_sequence(towel,patterns,memo)\n",
    "        if comp:\n",
    "            possible += 1\n",
    "    return possible"
   ]
  },
  {
   "cell_type": "code",
   "execution_count": 210,
   "id": "59b2cf67-ac1a-4638-975a-af3b431939ab",
   "metadata": {},
   "outputs": [
    {
     "name": "stdout",
     "output_type": "stream",
     "text": [
      "Test 1: 6\n",
      "Part 1: 313\n"
     ]
    }
   ],
   "source": [
    "print(\"Test 1:\",part1(\"examples/example19.txt\"))\n",
    "print(\"Part 1:\",part1(\"AOC2024inputs/input19.txt\"))"
   ]
  },
  {
   "cell_type": "code",
   "execution_count": 211,
   "id": "3a9f2fa8-95a6-4651-9b62-c8c41ff6adf3",
   "metadata": {},
   "outputs": [],
   "source": [
    "def count_pattern_sequences(towel, patterns, memo=None):\n",
    "    '''Modification of has_pattern_sequence() to count all possible solutions'''\n",
    "    if memo is None:\n",
    "        memo = {}\n",
    "\n",
    "    if towel in memo:\n",
    "        return memo[towel]\n",
    "\n",
    "    # empty towel found: we are at end of of the string, count 1 complete sequence for the initial towel\n",
    "    if towel==\"\": \n",
    "        return 1\n",
    "        \n",
    "    sequences = 0    \n",
    "    for pattern in patterns:\n",
    "        if len(pattern) > len(towel):\n",
    "            continue\n",
    "        if towel[:len(pattern)]==pattern:\n",
    "            sequences += count_pattern_sequences(towel[len(pattern):], patterns, memo)\n",
    "    \n",
    "    memo[towel] = sequences\n",
    "    return memo[towel]"
   ]
  },
  {
   "cell_type": "code",
   "execution_count": 212,
   "id": "885cdf0d-3cd5-4204-9142-169d93072adb",
   "metadata": {},
   "outputs": [],
   "source": [
    "def part2(filename,verbose=False):\n",
    "    patterns, towels = read_input_19(filename)\n",
    "    memo = {}\n",
    "    total = 0\n",
    "    for towel in towels:\n",
    "        c = count_pattern_sequences(towel,patterns,memo)\n",
    "        if verbose: print(f\"{towel:6s}  {c}\")\n",
    "        total += c\n",
    "    return total"
   ]
  },
  {
   "cell_type": "code",
   "execution_count": 213,
   "id": "6c840fa9-24be-4fe8-bdf4-6a65d34ac4ce",
   "metadata": {},
   "outputs": [
    {
     "name": "stdout",
     "output_type": "stream",
     "text": [
      "brwrr   2\n",
      "bggr    1\n",
      "gbbr    4\n",
      "rrbgbr  6\n",
      "ubwu    0\n",
      "bwurrg  1\n",
      "brgr    2\n",
      "bbrgwb  0\n",
      "Test 2: 16\n"
     ]
    }
   ],
   "source": [
    "print(\"Test 2:\",part2(\"examples/example19.txt\",verbose=True))"
   ]
  },
  {
   "cell_type": "code",
   "execution_count": 214,
   "id": "9283c760-00d9-4009-9434-0707cf2fc09f",
   "metadata": {},
   "outputs": [
    {
     "name": "stdout",
     "output_type": "stream",
     "text": [
      "Part 2: 666491493769758\n"
     ]
    }
   ],
   "source": [
    "print(\"Part 2:\",part2(\"AOC2024inputs/input19.txt\"))"
   ]
  },
  {
   "cell_type": "code",
   "execution_count": null,
   "id": "a2b9fbda-a8f7-4c91-b265-2be8a12fbe14",
   "metadata": {},
   "outputs": [],
   "source": []
  }
 ],
 "metadata": {
  "kernelspec": {
   "display_name": "Python 3 (ipykernel)",
   "language": "python",
   "name": "python3"
  },
  "language_info": {
   "codemirror_mode": {
    "name": "ipython",
    "version": 3
   },
   "file_extension": ".py",
   "mimetype": "text/x-python",
   "name": "python",
   "nbconvert_exporter": "python",
   "pygments_lexer": "ipython3",
   "version": "3.12.2"
  }
 },
 "nbformat": 4,
 "nbformat_minor": 5
}
