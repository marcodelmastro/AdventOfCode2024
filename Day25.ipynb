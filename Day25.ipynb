{
 "cells": [
  {
   "cell_type": "code",
   "execution_count": 16,
   "id": "57adb2ea-e697-4c93-b32f-ee8e68121810",
   "metadata": {},
   "outputs": [],
   "source": [
    "import numpy as np\n",
    "\n",
    "def read_input_25(filename):\n",
    "    f = open(filename)\n",
    "    keys = []\n",
    "    locks = []\n",
    "    for k in f.read().strip().split(\"\\n\\n\"):\n",
    "        kk = k.split(\"\\n\")\n",
    "        block = np.zeros( (len(kk),len(kk[0])), dtype=int)\n",
    "        for r,l in enumerate(kk):\n",
    "            for c,v in enumerate(l):\n",
    "                if v==\"#\":\n",
    "                    block[r][c] = 1\n",
    "        if sum(block[0])==len(block[0]):\n",
    "            locks.append(block)\n",
    "        else:\n",
    "            keys.append(block)\n",
    "    return keys, locks"
   ]
  },
  {
   "cell_type": "code",
   "execution_count": 29,
   "id": "a2f2b514-8ca9-47da-a5f3-347b4d508562",
   "metadata": {},
   "outputs": [],
   "source": [
    "def solve25(filename):\n",
    "    keys, locks = read_input_25(filename)\n",
    "    fit = 0\n",
    "    for k in keys:\n",
    "        for l in locks:\n",
    "            kl = k+l\n",
    "            if not len( kl[kl==2] ):\n",
    "                fit += 1\n",
    "    return fit"
   ]
  },
  {
   "cell_type": "code",
   "execution_count": 33,
   "id": "0ea187ce-12d2-446d-ab78-130539167d0c",
   "metadata": {},
   "outputs": [
    {
     "name": "stdout",
     "output_type": "stream",
     "text": [
      "Test:      3\n",
      "Solutions: 2618\n"
     ]
    }
   ],
   "source": [
    "print(\"Test:     \", solve25(\"examples/example25.txt\"))\n",
    "print(\"Solution:\", solve25(\"AOC2024inputs/input25.txt\"))"
   ]
  },
  {
   "cell_type": "code",
   "execution_count": 31,
   "id": "c9f30ce0-bbf7-4a51-bbf0-52a43c3ed884",
   "metadata": {},
   "outputs": [
    {
     "data": {
      "text/plain": [
       "2618"
      ]
     },
     "execution_count": 31,
     "metadata": {},
     "output_type": "execute_result"
    }
   ],
   "source": []
  },
  {
   "cell_type": "code",
   "execution_count": null,
   "id": "c00378bb-807f-4716-a649-9ceb4113d06e",
   "metadata": {},
   "outputs": [],
   "source": []
  }
 ],
 "metadata": {
  "kernelspec": {
   "display_name": "Python 3 (ipykernel)",
   "language": "python",
   "name": "python3"
  },
  "language_info": {
   "codemirror_mode": {
    "name": "ipython",
    "version": 3
   },
   "file_extension": ".py",
   "mimetype": "text/x-python",
   "name": "python",
   "nbconvert_exporter": "python",
   "pygments_lexer": "ipython3",
   "version": "3.12.2"
  }
 },
 "nbformat": 4,
 "nbformat_minor": 5
}
