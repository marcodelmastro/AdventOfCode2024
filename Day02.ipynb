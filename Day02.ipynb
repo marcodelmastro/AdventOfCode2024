{
 "cells": [
  {
   "cell_type": "markdown",
   "id": "54297f6c-0166-4329-8a4c-c1665b08dc25",
   "metadata": {},
   "source": [
    "## Day 2\n",
    "\n",
    "https://adventofcode.com/2024/day/2"
   ]
  },
  {
   "cell_type": "code",
   "execution_count": 1,
   "id": "1b940e0e-bd7b-4f0c-b13a-a08d66b5fb23",
   "metadata": {},
   "outputs": [],
   "source": [
    "def read_input_02(filename):\n",
    "    f = open(filename)\n",
    "    return [[int(t) for t in l.split()] for l in f.readlines()]"
   ]
  },
  {
   "cell_type": "code",
   "execution_count": 2,
   "id": "632445df-cfb0-4c95-bd43-d2882a12a68e",
   "metadata": {},
   "outputs": [],
   "source": [
    "import numpy as np\n",
    "\n",
    "def is_safe(r):\n",
    "    d = np.array([r[i-1]-r[i] for i in range(1,len(r))])\n",
    "    monotonous = np.allclose(d>0,[False]*len(d)) or np.allclose(d>0,[True]*len(d))\n",
    "    smalldelta = sum(np.logical_and(abs(d)>=1,abs(d)<=3))==len(d)\n",
    "    return monotonous and smalldelta\n",
    "\n",
    "def part1(filename):\n",
    "    reports = read_input_02(filename)\n",
    "    return sum([is_safe(r) for r in reports])"
   ]
  },
  {
   "cell_type": "code",
   "execution_count": 3,
   "id": "16b6754e-c867-4f50-9f0e-17e2fd76b71d",
   "metadata": {},
   "outputs": [
    {
     "name": "stdout",
     "output_type": "stream",
     "text": [
      "Test 1: 2\n",
      "Part 1: 585\n"
     ]
    }
   ],
   "source": [
    "print(\"Test 1:\",part1(\"examples/example02.txt\"))\n",
    "print(\"Part 1:\",part1(\"AOC2024inputs/input02.txt\"))"
   ]
  },
  {
   "cell_type": "code",
   "execution_count": 4,
   "id": "a2740567-2c9c-4449-b17f-6a8176cae75a",
   "metadata": {},
   "outputs": [],
   "source": [
    "def part2(filename):\n",
    "    reports = read_input_02(filename)\n",
    "    safe = 0\n",
    "    for r in reports:\n",
    "        if is_safe(r):\n",
    "            safe +=1\n",
    "        else:\n",
    "            for i in range(len(r)):\n",
    "                ri = r[:i] + r[i+1 :]\n",
    "                if is_safe(ri):\n",
    "                    safe +=1\n",
    "                    break\n",
    "    return safe"
   ]
  },
  {
   "cell_type": "code",
   "execution_count": 5,
   "id": "586b337e-f71c-41bc-ad4b-e8d4b12d7d47",
   "metadata": {},
   "outputs": [
    {
     "name": "stdout",
     "output_type": "stream",
     "text": [
      "Test 2: 4\n",
      "Part 2: 626\n"
     ]
    }
   ],
   "source": [
    "print(\"Test 2:\",part2(\"examples/example02.txt\"))\n",
    "print(\"Part 2:\",part2(\"AOC2024inputs/input02.txt\"))"
   ]
  },
  {
   "cell_type": "code",
   "execution_count": null,
   "id": "574aa7a4-7a39-4bfa-8725-82e0df88436c",
   "metadata": {},
   "outputs": [],
   "source": []
  }
 ],
 "metadata": {
  "kernelspec": {
   "display_name": "Python 3 (ipykernel)",
   "language": "python",
   "name": "python3"
  },
  "language_info": {
   "codemirror_mode": {
    "name": "ipython",
    "version": 3
   },
   "file_extension": ".py",
   "mimetype": "text/x-python",
   "name": "python",
   "nbconvert_exporter": "python",
   "pygments_lexer": "ipython3",
   "version": "3.9.15"
  }
 },
 "nbformat": 4,
 "nbformat_minor": 5
}
