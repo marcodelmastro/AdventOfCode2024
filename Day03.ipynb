{
 "cells": [
  {
   "cell_type": "markdown",
   "id": "9a947c1b-f33b-411d-b555-8350521060cb",
   "metadata": {},
   "source": [
    "## Day 3\n",
    "\n",
    "https://adventofcode.com/2024/day/3"
   ]
  },
  {
   "cell_type": "code",
   "execution_count": 1,
   "id": "a5d1d002-c06f-4b3b-8303-b3c344df4af2",
   "metadata": {},
   "outputs": [],
   "source": [
    "import re\n",
    "from functools import reduce\n",
    "from operator import mul"
   ]
  },
  {
   "cell_type": "code",
   "execution_count": 2,
   "id": "9bc7306d-3d4b-4a08-abd9-f8474b8d6eae",
   "metadata": {},
   "outputs": [],
   "source": [
    "def mul1(s):\n",
    "    return sum([reduce(mul,[int(d) for d in re.findall(r\"\\d+\",c)]) for c in re.findall(r\"mul\\(\\d+,\\d+\\)\",s)])"
   ]
  },
  {
   "cell_type": "code",
   "execution_count": 3,
   "id": "ed2e7e88-b42d-4214-990c-0dbcafb79cba",
   "metadata": {},
   "outputs": [
    {
     "name": "stdout",
     "output_type": "stream",
     "text": [
      "Test 1: 161\n",
      "Part 1: 192767529\n"
     ]
    }
   ],
   "source": [
    "s1 = \"xmul(2,4)%&mul[3,7]!@^do_not_mul(5,5)+mul(32,64]then(mul(11,8)mul(8,5))\"\n",
    "\n",
    "f = open(\"AOC2024inputs/input03.txt\")\n",
    "p = f.read()\n",
    "\n",
    "print(\"Test 1:\",mul1(s1))\n",
    "print(\"Part 1:\",mul1(p))"
   ]
  },
  {
   "cell_type": "code",
   "execution_count": 4,
   "id": "892e1d8f-74cb-4eb8-a07e-eeb7a6786f33",
   "metadata": {},
   "outputs": [],
   "source": [
    "def mul2(s):\n",
    "    m = re.findall(r\"(mul\\(\\d+,\\d+\\)|don't\\(\\)|do\\(\\))\",s)\n",
    "    v = 0\n",
    "    enable=True\n",
    "    for c in m:\n",
    "        if 'mul' in c and enable: \n",
    "            v += reduce(mul,[int(d) for d in re.findall(\"\\\\d+\",c)])\n",
    "        elif c == \"don't()\":\n",
    "            enable = False\n",
    "        elif c == \"do()\":\n",
    "            enable = True\n",
    "    return v"
   ]
  },
  {
   "cell_type": "code",
   "execution_count": 5,
   "id": "9d985528-1f90-4ec2-9d99-01122cf6d5a7",
   "metadata": {},
   "outputs": [
    {
     "name": "stdout",
     "output_type": "stream",
     "text": [
      "Test 2: 48\n",
      "Part 2: 104083373\n"
     ]
    }
   ],
   "source": [
    "s2 = \"xmul(2,4)&mul[3,7]!^don't()_mul(5,5)+mul(32,64](mul(11,8)undo()?mul(8,5))\"\n",
    "\n",
    "print(\"Test 2:\",mul2(s2))\n",
    "print(\"Part 2:\",mul2(p))"
   ]
  },
  {
   "cell_type": "code",
   "execution_count": null,
   "id": "85e36ce1-3c05-4432-a559-7da055e85223",
   "metadata": {},
   "outputs": [],
   "source": []
  }
 ],
 "metadata": {
  "kernelspec": {
   "display_name": "Python 3 (ipykernel)",
   "language": "python",
   "name": "python3"
  },
  "language_info": {
   "codemirror_mode": {
    "name": "ipython",
    "version": 3
   },
   "file_extension": ".py",
   "mimetype": "text/x-python",
   "name": "python",
   "nbconvert_exporter": "python",
   "pygments_lexer": "ipython3",
   "version": "3.12.2"
  }
 },
 "nbformat": 4,
 "nbformat_minor": 5
}
