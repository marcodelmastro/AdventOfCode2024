{
 "cells": [
  {
   "cell_type": "markdown",
   "id": "6e1f4cb8-89a4-4a27-b71d-34d120a5d4ba",
   "metadata": {},
   "source": [
    "## Day 7\n",
    "\n",
    "https://adventofcode.com/2024/day/7#part2"
   ]
  },
  {
   "cell_type": "code",
   "execution_count": 1,
   "id": "abcb6442-08ef-464f-aa6d-2b4b80972087",
   "metadata": {},
   "outputs": [],
   "source": [
    "def read_input_07(filename):\n",
    "    f = open(filename)\n",
    "    ops = []\n",
    "    for l in f.readlines():\n",
    "        o = l.strip().split(\": \")\n",
    "        ops.append( (int(o[0]), [int(n) for n in o[1].split()] ) )\n",
    "    return ops"
   ]
  },
  {
   "cell_type": "code",
   "execution_count": 2,
   "id": "e439479f-f38e-4a2a-96f5-f83ef8a12c9d",
   "metadata": {},
   "outputs": [],
   "source": [
    "from sympy.utilities.iterables import multiset_permutations\n",
    "\n",
    "def operations_1(n):\n",
    "    op = []\n",
    "    for n1 in range(n+1):\n",
    "        for p in multiset_permutations(n1*[\"+\"]+(n-n1)*[\"*\"]):\n",
    "            op.append(p)\n",
    "    return op\n",
    "\n",
    "def check_equation_1(r,v):\n",
    "    for o in operations_1(len(v)-1):\n",
    "        val = v[0]\n",
    "        for vv,oo in zip(v[1:],o):\n",
    "            if oo==\"+\":\n",
    "                val += vv\n",
    "            else:\n",
    "                val *= vv\n",
    "        if r==val:\n",
    "            return True\n",
    "    return False\n",
    "\n",
    "def part1(filename):\n",
    "    ops = read_input_07(filename)\n",
    "    s = 0\n",
    "    for r,v in ops:\n",
    "        if check_equation_1(r,v):\n",
    "            s += r\n",
    "    return s"
   ]
  },
  {
   "cell_type": "code",
   "execution_count": 3,
   "id": "cb402635-d99f-4d70-93f4-a82071c15980",
   "metadata": {},
   "outputs": [
    {
     "name": "stdout",
     "output_type": "stream",
     "text": [
      "Test 1: 3749\n"
     ]
    }
   ],
   "source": [
    "print(\"Test 1:\", part1(\"examples/example07.txt\"))"
   ]
  },
  {
   "cell_type": "code",
   "execution_count": 4,
   "id": "3be09722-a165-4a11-ad71-191843ef3e73",
   "metadata": {},
   "outputs": [
    {
     "name": "stdout",
     "output_type": "stream",
     "text": [
      "Part 1: 267566105056\n",
      "Execution time:  1.6 s\n"
     ]
    }
   ],
   "source": [
    "import time\n",
    "start = time.time()\n",
    "\n",
    "print(\"Part 1:\", part1(\"AOC2024inputs/input07.txt\"))\n",
    "\n",
    "stop = time.time()\n",
    "print(f\"Execution time: {stop-start:4.1f} s\")"
   ]
  },
  {
   "cell_type": "code",
   "execution_count": 5,
   "id": "45d7351f-95eb-438a-b27a-1eb8ed7c1a59",
   "metadata": {},
   "outputs": [],
   "source": [
    "def operations_2(n):\n",
    "    op = []\n",
    "    for n1 in range(1,n+1): # always at least one || operator\n",
    "        for n2 in range(n-n1+1):\n",
    "            n3 = n-n1-n2\n",
    "            for p in multiset_permutations(n1*[\"||\"]+n2*[\"+\"]+n3*[\"*\"]):\n",
    "                op.append(p)\n",
    "    return op\n",
    "\n",
    "def check_equation_2(r,v):\n",
    "    for o in operations_2(len(v)-1):\n",
    "        val = v[0]\n",
    "        for vv,oo in zip(v[1:],o):\n",
    "            if oo==\"||\":\n",
    "                val = int(str(val)+str(vv))\n",
    "            elif oo==\"+\":\n",
    "                val += vv\n",
    "            else:\n",
    "                val *= vv\n",
    "        if r==val:\n",
    "            return True\n",
    "    return False\n",
    "\n",
    "def part2(filename):\n",
    "    ops = read_input_07(filename)\n",
    "    s = 0\n",
    "    for i,(r,v) in enumerate(ops):\n",
    "        if check_equation_1(r,v):\n",
    "            s += r\n",
    "        else:\n",
    "            if check_equation_2(r,v):\n",
    "                s += r\n",
    "    return s"
   ]
  },
  {
   "cell_type": "code",
   "execution_count": 6,
   "id": "fec53ae6-3080-427d-ba0f-aa293f1399eb",
   "metadata": {},
   "outputs": [
    {
     "name": "stdout",
     "output_type": "stream",
     "text": [
      "Test 2: 11387\n"
     ]
    }
   ],
   "source": [
    "print(\"Test 2:\", part2(\"examples/example07.txt\"))"
   ]
  },
  {
   "cell_type": "code",
   "execution_count": 7,
   "id": "1e364260-417f-483f-bbd9-782c6de5a6e0",
   "metadata": {},
   "outputs": [
    {
     "name": "stdout",
     "output_type": "stream",
     "text": [
      "Part 2: 116094961956019\n",
      "Execution time: 68.4 s\n"
     ]
    }
   ],
   "source": [
    "import time\n",
    "start = time.time()\n",
    "\n",
    "print(\"Part 2:\", part2(\"AOC2024inputs/input07.txt\"))\n",
    "\n",
    "stop = time.time()\n",
    "print(f\"Execution time: {stop-start:4.1f} s\")"
   ]
  },
  {
   "cell_type": "code",
   "execution_count": null,
   "id": "8fabd3f4-2102-4dc8-bbe0-f66469d718d7",
   "metadata": {},
   "outputs": [],
   "source": []
  }
 ],
 "metadata": {
  "kernelspec": {
   "display_name": "Python 3 (ipykernel)",
   "language": "python",
   "name": "python3"
  },
  "language_info": {
   "codemirror_mode": {
    "name": "ipython",
    "version": 3
   },
   "file_extension": ".py",
   "mimetype": "text/x-python",
   "name": "python",
   "nbconvert_exporter": "python",
   "pygments_lexer": "ipython3",
   "version": "3.12.2"
  }
 },
 "nbformat": 4,
 "nbformat_minor": 5
}
