{
 "cells": [
  {
   "cell_type": "markdown",
   "id": "939d9fd4-8b5d-4ed2-b133-10d7339ebd58",
   "metadata": {},
   "source": [
    "## Day 23\n",
    "\n",
    "https://adventofcode.com/2024/day/23"
   ]
  },
  {
   "cell_type": "code",
   "execution_count": 106,
   "id": "29e69d53-1274-4c63-91d3-cca1c5da048e",
   "metadata": {},
   "outputs": [],
   "source": [
    "from collections import defaultdict\n",
    "import networkx as nx\n",
    "\n",
    "def read_input_23(filename):\n",
    "    f = open(filename)\n",
    "    G = nx.Graph()\n",
    "    N = defaultdict(set)\n",
    "    for l in f.readlines():\n",
    "        n = l.strip().split(\"-\")\n",
    "        N[n[0]].add(n[1])\n",
    "        N[n[1]].add(n[0])\n",
    "        G.add_edge(n[0], n[1])\n",
    "    return N, G"
   ]
  },
  {
   "cell_type": "code",
   "execution_count": 118,
   "id": "d5ec9b82-3237-4e2c-8561-f305270554f3",
   "metadata": {},
   "outputs": [],
   "source": [
    "def find_trios(N,letter=\"\"):\n",
    "    trios = set()\n",
    "    for a in N:\n",
    "        if letter and not a.startswith(letter):\n",
    "            continue\n",
    "        for b in N[a]:\n",
    "            for c in N[b]:\n",
    "                if a in N[c]:\n",
    "                    trios.add(tuple(sorted([ a, b, c ])))\n",
    "    return trios\n",
    "\n",
    "def part1(filename):\n",
    "    N, _ = read_input_23(filename)\n",
    "    return len(find_trios(N,\"t\"))"
   ]
  },
  {
   "cell_type": "code",
   "execution_count": 141,
   "id": "66606747-11c2-4020-8a64-6c51f7bdbb9d",
   "metadata": {},
   "outputs": [
    {
     "name": "stdout",
     "output_type": "stream",
     "text": [
      "Test 1: 7\n",
      "Part 1: 1323\n"
     ]
    }
   ],
   "source": [
    "print(\"Test 1:\", part1(\"examples/example23.txt\"))\n",
    "print(\"Part 1:\", part1(\"AOC2024inputs/input23.txt\"))"
   ]
  },
  {
   "cell_type": "code",
   "execution_count": 142,
   "id": "15e35c77-e6b2-4925-87ab-2eaa05797949",
   "metadata": {},
   "outputs": [],
   "source": [
    "# https://networkx.org/documentation/stable/reference/algorithms/generated/networkx.algorithms.clique.find_cliques.html\n",
    "\n",
    "def part2(filename):\n",
    "    _, G = read_input_23(filename)\n",
    "    cliques = [ sorted(clique) for clique in nx.find_cliques(G) ]\n",
    "    return \"\".join( cl+\",\" for cl in sorted(cliques,key=len,reverse=True)[0] )[:-1]"
   ]
  },
  {
   "cell_type": "code",
   "execution_count": 143,
   "id": "35df848c-f2c4-409d-b914-2e3365986227",
   "metadata": {},
   "outputs": [
    {
     "name": "stdout",
     "output_type": "stream",
     "text": [
      "Test 2: co,de,ka,ta\n",
      "Part 2: er,fh,fi,ir,kk,lo,lp,qi,ti,vb,xf,ys,yu\n"
     ]
    }
   ],
   "source": [
    "print(\"Test 2:\", part2(\"examples/example23.txt\"))\n",
    "print(\"Part 2:\", part2(\"AOC2024inputs/input23.txt\"))"
   ]
  },
  {
   "cell_type": "code",
   "execution_count": null,
   "id": "0b8168f9-4e4f-4369-b8e0-156ecef7109b",
   "metadata": {},
   "outputs": [],
   "source": []
  }
 ],
 "metadata": {
  "kernelspec": {
   "display_name": "Python 3 (ipykernel)",
   "language": "python",
   "name": "python3"
  },
  "language_info": {
   "codemirror_mode": {
    "name": "ipython",
    "version": 3
   },
   "file_extension": ".py",
   "mimetype": "text/x-python",
   "name": "python",
   "nbconvert_exporter": "python",
   "pygments_lexer": "ipython3",
   "version": "3.12.2"
  }
 },
 "nbformat": 4,
 "nbformat_minor": 5
}
