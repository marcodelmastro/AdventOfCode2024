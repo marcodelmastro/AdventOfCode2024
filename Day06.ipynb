{
 "cells": [
  {
   "cell_type": "markdown",
   "id": "d30276c3-5d40-45dc-9a0d-7f8266fb2178",
   "metadata": {},
   "source": [
    "## Day 6\n",
    "\n",
    "https://adventofcode.com/2024/day/6#part2"
   ]
  },
  {
   "cell_type": "code",
   "execution_count": 27,
   "id": "ec874c36-4a10-4bce-a438-ab4a3e365897",
   "metadata": {},
   "outputs": [],
   "source": [
    "from collections import defaultdict\n",
    "\n",
    "def read_input_06(filename):\n",
    "    f = open(filename)\n",
    "    m = defaultdict(str)\n",
    "    g = 0\n",
    "    im = 0+1j # imaginary unit\n",
    "    for j,l in enumerate(f.readlines()):\n",
    "        for i,c in enumerate(l.strip()):\n",
    "            p = i+j*im # coordinate as complex number\n",
    "            if c==\"^\": # guard location\n",
    "                g = p\n",
    "                m[p] = \".\" # replace guard initial position with an empty space\n",
    "            else:\n",
    "                m[p] = c\n",
    "    return m, g"
   ]
  },
  {
   "cell_type": "code",
   "execution_count": 68,
   "id": "7a5dcc7c-880b-480e-9049-0a2381648285",
   "metadata": {},
   "outputs": [],
   "source": [
    "def explore_map(m, g):\n",
    "    im = 0+1j # imaginary unit\n",
    "    t = im # multiply to get +90 degrees turn\n",
    "    d = -im # initial direction (facing upward)\n",
    "    pos = {g} # guard visited positions \n",
    "    posdir = {(g,d)} # guard visited positions and directions to identify loops for part 2)\n",
    "    while True:\n",
    "        g1 = g + d\n",
    "        if m[g1]==\".\":\n",
    "            # check for loops (again in same position with same direction)\n",
    "            if (g1,d) in posdir:                \n",
    "                return -1\n",
    "            pos.add(g1)\n",
    "            posdir.add((g1,d))\n",
    "            g = g1\n",
    "        elif m[g1]==\"#\":\n",
    "            d *= t\n",
    "        elif m[g1]==\"\": # exit map\n",
    "            return len(pos)\n",
    "\n",
    "def part1(filename):\n",
    "    m, g = read_input_06(filename)\n",
    "    return explore_map(m, g)"
   ]
  },
  {
   "cell_type": "code",
   "execution_count": 69,
   "id": "0a420c96-a565-4f2b-9947-6e5421f093a8",
   "metadata": {},
   "outputs": [
    {
     "name": "stdout",
     "output_type": "stream",
     "text": [
      "Test 1: 41\n",
      "Part 1: 4964\n"
     ]
    }
   ],
   "source": [
    "print(\"Test 1:\",part1(\"examples/example06.txt\"))\n",
    "print(\"Part 1:\",part1(\"AOC2024inputs/input06.txt\"))"
   ]
  },
  {
   "cell_type": "code",
   "execution_count": 94,
   "id": "bd0d400e-b8bb-4299-ab2a-1e965589fe55",
   "metadata": {},
   "outputs": [],
   "source": [
    "def part2(filename):\n",
    "    m, g = read_input_06(filename)\n",
    "    loops = 0\n",
    "    tiles = list(m.keys())\n",
    "    for i,p in enumerate(tiles): # place obstacle in all free positions in map\n",
    "        if i!=0 and i%1000==0:\n",
    "            print(f\"Processed {i}/{len(tiles)} obstacle positions...\")\n",
    "        if m[p]!=\"#\":\n",
    "            m[p]=\"#\" # place obstacle in position\n",
    "            o = explore_map(m, g)\n",
    "            if o==-1:\n",
    "                loops +=1\n",
    "            m[p]=\".\" # restore original map\n",
    "    return loops"
   ]
  },
  {
   "cell_type": "code",
   "execution_count": 95,
   "id": "84429d41-1dda-4590-a715-2cb596ce7380",
   "metadata": {},
   "outputs": [
    {
     "name": "stdout",
     "output_type": "stream",
     "text": [
      "Test 2: 6\n"
     ]
    }
   ],
   "source": [
    "print(\"Test 2:\",part2(\"examples/example06.txt\"))"
   ]
  },
  {
   "cell_type": "code",
   "execution_count": 96,
   "id": "d90a0361-b488-4fda-a903-3dc1209196a8",
   "metadata": {},
   "outputs": [
    {
     "name": "stdout",
     "output_type": "stream",
     "text": [
      "Processed 1000/16900 obstacle positions...\n",
      "Processed 2000/16900 obstacle positions...\n",
      "Processed 3000/16900 obstacle positions...\n",
      "Processed 4000/16900 obstacle positions...\n",
      "Processed 5000/16900 obstacle positions...\n",
      "Processed 6000/16900 obstacle positions...\n",
      "Processed 7000/16900 obstacle positions...\n",
      "Processed 8000/16900 obstacle positions...\n",
      "Processed 9000/16900 obstacle positions...\n",
      "Processed 10000/16900 obstacle positions...\n",
      "Processed 11000/16900 obstacle positions...\n",
      "Processed 12000/16900 obstacle positions...\n",
      "Processed 13000/16900 obstacle positions...\n",
      "Processed 14000/16900 obstacle positions...\n",
      "Processed 15000/16900 obstacle positions...\n",
      "Processed 16000/16900 obstacle positions...\n",
      "Part 2: 1740\n"
     ]
    }
   ],
   "source": [
    "print(\"Part 2:\",part2(\"AOC2024inputs/input06.txt\"))"
   ]
  },
  {
   "cell_type": "code",
   "execution_count": null,
   "id": "ad268a1c-b183-48ff-8c7b-5932d388b1f3",
   "metadata": {},
   "outputs": [],
   "source": []
  }
 ],
 "metadata": {
  "kernelspec": {
   "display_name": "Python 3 (ipykernel)",
   "language": "python",
   "name": "python3"
  },
  "language_info": {
   "codemirror_mode": {
    "name": "ipython",
    "version": 3
   },
   "file_extension": ".py",
   "mimetype": "text/x-python",
   "name": "python",
   "nbconvert_exporter": "python",
   "pygments_lexer": "ipython3",
   "version": "3.12.2"
  }
 },
 "nbformat": 4,
 "nbformat_minor": 5
}
