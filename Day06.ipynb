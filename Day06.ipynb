{
 "cells": [
  {
   "cell_type": "markdown",
   "id": "d30276c3-5d40-45dc-9a0d-7f8266fb2178",
   "metadata": {},
   "source": [
    "## Day 6\n",
    "\n",
    "https://adventofcode.com/2024/day/6#part2"
   ]
  },
  {
   "cell_type": "code",
   "execution_count": 1,
   "id": "ec874c36-4a10-4bce-a438-ab4a3e365897",
   "metadata": {},
   "outputs": [],
   "source": [
    "from collections import defaultdict\n",
    "\n",
    "def read_input_06(filename):\n",
    "    f = open(filename)\n",
    "    m = defaultdict(str)\n",
    "    g = 0\n",
    "    im = 0+1j # imaginary unit\n",
    "    for j,l in enumerate(f.readlines()):\n",
    "        for i,c in enumerate(l.strip()):\n",
    "            p = i+j*im # coordinate as complex number\n",
    "            if c==\"^\": # guard location\n",
    "                g = p\n",
    "                m[p] = \".\" # replace guard initial position with an empty space\n",
    "            else:\n",
    "                m[p] = c\n",
    "    return m, g"
   ]
  },
  {
   "cell_type": "code",
   "execution_count": 15,
   "id": "7a5dcc7c-880b-480e-9049-0a2381648285",
   "metadata": {},
   "outputs": [],
   "source": [
    "import numpy as np\n",
    "import matplotlib.pyplot as plt\n",
    "import matplotlib.colors\n",
    "from celluloid import Camera\n",
    "\n",
    "def explore_map(m, g, saveAnimation=False):\n",
    "    im = 0+1j # imaginary unit\n",
    "    t = im # multiply to get +90 degrees turn\n",
    "    d = -im # initial direction (facing upward)\n",
    "    pos = {g} # guard visited positions \n",
    "    posdir = {(g,d)} # guard visited positions and directions to identify loops for part 2)\n",
    "\n",
    "    if saveAnimation:\n",
    "        cmap_room = matplotlib.colors.ListedColormap(['black','brown', 'dimgray', 'red'])\n",
    "        room = np.zeros( (max([int(p.imag) for p in m.keys()])+1,max([int(p.real) for p in m.keys()])+1),dtype=int)\n",
    "        for p in m.keys():\n",
    "            if m[p]==\"#\":\n",
    "               room[int(p.imag),int(p.real)]=1\n",
    "        f = plt.figure(figsize=(4,4),dpi=100)\n",
    "        ax = f.add_axes([0, 0, 1, 1])\n",
    "        ax.axis('off')\n",
    "        camera = Camera(f)\n",
    "    \n",
    "    while True:\n",
    "        g1 = g + d\n",
    "        if m[g1]==\".\":\n",
    "            \n",
    "            if saveAnimation:\n",
    "                room[int(g1.imag),int(g1.real)]=3\n",
    "                room[int(g.imag),int(g.real)]=2\n",
    "                plt.imshow(room,cmap=cmap_room)\n",
    "                camera.snap()\n",
    "            \n",
    "            # check for loops (again in same position with same direction)\n",
    "            if (g1,d) in posdir:                \n",
    "                return -1\n",
    "            pos.add(g1)\n",
    "            posdir.add((g1,d))\n",
    "            g = g1\n",
    "        elif m[g1]==\"#\":\n",
    "            d *= t\n",
    "        elif m[g1]==\"\": # exit map\n",
    "            if saveAnimation:\n",
    "                return camera\n",
    "            else:\n",
    "                return pos\n",
    "\n",
    "def part1(filename):\n",
    "    m, g = read_input_06(filename)\n",
    "    return len(explore_map(m, g))"
   ]
  },
  {
   "cell_type": "code",
   "execution_count": 12,
   "id": "0a420c96-a565-4f2b-9947-6e5421f093a8",
   "metadata": {},
   "outputs": [
    {
     "name": "stdout",
     "output_type": "stream",
     "text": [
      "Test 1: 41\n",
      "Part 1: 4964\n"
     ]
    }
   ],
   "source": [
    "print(\"Test 1:\",part1(\"examples/example06.txt\"))\n",
    "print(\"Part 1:\",part1(\"AOC2024inputs/input06.txt\"))"
   ]
  },
  {
   "cell_type": "code",
   "execution_count": 4,
   "id": "bd0d400e-b8bb-4299-ab2a-1e965589fe55",
   "metadata": {},
   "outputs": [],
   "source": [
    "def part2(filename,checkAll=False):\n",
    "    m, g = read_input_06(filename)\n",
    "    loops = 0\n",
    "    tiles = []\n",
    "    if checkAll:\n",
    "        tiles = list(m.keys()) # obstacles in all free positions in map\n",
    "    else:\n",
    "        pos = explore_map(m, g) # run part 1 to get covered path\n",
    "        tiles = list(pos) # obstacles in guard path\n",
    "    for i,p in enumerate(tiles): # place obstacles\n",
    "        if i!=0 and i%1000==0:\n",
    "            print(f\"Processed {i}/{len(tiles)} obstacle positions...\")\n",
    "        if m[p]!=\"#\":\n",
    "            m[p]=\"#\" # place obstacle in position\n",
    "            o = explore_map(m, g)\n",
    "            if o==-1:\n",
    "                loops +=1\n",
    "            m[p]=\".\" # restore original map\n",
    "    return loops"
   ]
  },
  {
   "cell_type": "code",
   "execution_count": 5,
   "id": "84429d41-1dda-4590-a715-2cb596ce7380",
   "metadata": {},
   "outputs": [
    {
     "name": "stdout",
     "output_type": "stream",
     "text": [
      "Test 2: 6\n"
     ]
    }
   ],
   "source": [
    "print(\"Test 2:\",part2(\"examples/example06.txt\"))"
   ]
  },
  {
   "cell_type": "code",
   "execution_count": 6,
   "id": "d90a0361-b488-4fda-a903-3dc1209196a8",
   "metadata": {},
   "outputs": [
    {
     "name": "stdout",
     "output_type": "stream",
     "text": [
      "Processed 1000/16900 obstacle positions...\n",
      "Processed 2000/16900 obstacle positions...\n",
      "Processed 3000/16900 obstacle positions...\n",
      "Processed 4000/16900 obstacle positions...\n",
      "Processed 5000/16900 obstacle positions...\n",
      "Processed 6000/16900 obstacle positions...\n",
      "Processed 7000/16900 obstacle positions...\n",
      "Processed 8000/16900 obstacle positions...\n",
      "Processed 9000/16900 obstacle positions...\n",
      "Processed 10000/16900 obstacle positions...\n",
      "Processed 11000/16900 obstacle positions...\n",
      "Processed 12000/16900 obstacle positions...\n",
      "Processed 13000/16900 obstacle positions...\n",
      "Processed 14000/16900 obstacle positions...\n",
      "Processed 15000/16900 obstacle positions...\n",
      "Processed 16000/16900 obstacle positions...\n",
      "Part 2: 1740\n",
      "Execution time: 206.3 s\n"
     ]
    }
   ],
   "source": [
    "import time\n",
    "start = time.time()\n",
    "\n",
    "print(\"Part 2:\",part2(\"AOC2024inputs/input06.txt\",checkAll=True))\n",
    "\n",
    "stop = time.time()\n",
    "print(f\"Execution time: {stop-start:4.1f} s\")"
   ]
  },
  {
   "cell_type": "code",
   "execution_count": 7,
   "id": "ad268a1c-b183-48ff-8c7b-5932d388b1f3",
   "metadata": {},
   "outputs": [
    {
     "name": "stdout",
     "output_type": "stream",
     "text": [
      "Processed 1000/4964 obstacle positions...\n",
      "Processed 2000/4964 obstacle positions...\n",
      "Processed 3000/4964 obstacle positions...\n",
      "Processed 4000/4964 obstacle positions...\n",
      "Part 2: 1740\n",
      "Execution time:  9.3 s\n"
     ]
    }
   ],
   "source": [
    "import time\n",
    "start = time.time()\n",
    "\n",
    "print(\"Part 2:\",part2(\"AOC2024inputs/input06.txt\",checkAll=False))\n",
    "\n",
    "stop = time.time()\n",
    "print(f\"Execution time: {stop-start:4.1f} s\")"
   ]
  },
  {
   "cell_type": "code",
   "execution_count": 16,
   "id": "e89452a7-359f-48c5-9172-3b4c39969e87",
   "metadata": {},
   "outputs": [],
   "source": [
    "def animation(filename,savename):\n",
    "    m, g = read_input_06(filename)\n",
    "    camera = explore_map(m,g,saveAnimation=True)\n",
    "    anim = camera.animate(blit=True)\n",
    "    anim.save(savename,writer='pillow')"
   ]
  },
  {
   "cell_type": "code",
   "execution_count": 17,
   "id": "59b1547f-7453-4e1e-a766-eafb1dba7079",
   "metadata": {},
   "outputs": [
    {
     "data": {
      "image/png": "[encoded data removed]",
      "text/plain": [
       "<Figure size 400x400 with 1 Axes>"
      ]
     },
     "metadata": {},
     "output_type": "display_data"
    }
   ],
   "source": [
    "animation(\"examples/example06.txt\",'visualisation/day06animation_example.gif')"
   ]
  },
  {
   "cell_type": "markdown",
   "id": "d1ab3e28-a3a4-4780-80b1-c36099cb08a7",
   "metadata": {},
   "source": [
    "![Rocks](visualisation/day06animation_example.gif)"
   ]
  },
  {
   "cell_type": "code",
   "execution_count": 18,
   "id": "e0a6b04b-df27-479d-908f-e09c29090eee",
   "metadata": {},
   "outputs": [
    {
     "data": {
      "image/png": "[encoded data removed]",
      "text/plain": [
       "<Figure size 400x400 with 1 Axes>"
      ]
     },
     "metadata": {},
     "output_type": "display_data"
    }
   ],
   "source": [
    "animation(\"AOC2024inputs/input06.txt\",'visualisation/day06animation_full.gif')"
   ]
  },
  {
   "cell_type": "markdown",
   "id": "1fdd8078-2665-4376-9b3a-673524c4b2e9",
   "metadata": {},
   "source": [
    "![Rocks](visualisation/day06animation_full.gif)"
   ]
  },
  {
   "cell_type": "code",
   "execution_count": null,
   "id": "d5bf089c-fbe6-4c68-b5a1-526d88d8974c",
   "metadata": {},
   "outputs": [],
   "source": []
  }
 ],
 "metadata": {
  "kernelspec": {
   "display_name": "Python 3 (ipykernel)",
   "language": "python",
   "name": "python3"
  },
  "language_info": {
   "codemirror_mode": {
    "name": "ipython",
    "version": 3
   },
   "file_extension": ".py",
   "mimetype": "text/x-python",
   "name": "python",
   "nbconvert_exporter": "python",
   "pygments_lexer": "ipython3",
   "version": "3.12.2"
  }
 },
 "nbformat": 4,
 "nbformat_minor": 5
}
