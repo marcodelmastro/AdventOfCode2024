{
 "cells": [
  {
   "cell_type": "markdown",
   "id": "a2269ac7-3ad2-4549-a188-6c2c2ee1a9c1",
   "metadata": {},
   "source": [
    "## Day 22\n",
    "\n",
    "https://adventofcode.com/2024/day/22"
   ]
  },
  {
   "cell_type": "code",
   "execution_count": 1,
   "id": "1484e15e-148c-4da4-8417-e0dce85ac218",
   "metadata": {},
   "outputs": [],
   "source": [
    "from functools import cache\n",
    "\n",
    "@cache\n",
    "def mix_and_prune(secret):\n",
    "    secret = ((secret*64)^secret)%16777216\n",
    "    secret = ((secret//32)^secret)%16777216\n",
    "    secret = ((secret*2048)^secret)%16777216\n",
    "    return secret\n",
    "\n",
    "def mix_and_prune_n(secret,n):\n",
    "    for _ in range(n):\n",
    "        secret = mix_and_prune(secret)\n",
    "    return secret"
   ]
  },
  {
   "cell_type": "code",
   "execution_count": 11,
   "id": "b718b8b4-2dfb-493c-a59d-e46d8582eea0",
   "metadata": {},
   "outputs": [],
   "source": [
    "def part1(filename):\n",
    "    f = open(filename)\n",
    "    secrets = [ int(s) for s in f.readlines() ]\n",
    "    return sum([ mix_and_prune_n(s,2000) for s in secrets ])"
   ]
  },
  {
   "cell_type": "code",
   "execution_count": 10,
   "id": "bc37b1a5-9f0c-4a8d-8372-8317d741bc58",
   "metadata": {},
   "outputs": [
    {
     "name": "stdout",
     "output_type": "stream",
     "text": [
      "Test 1: 37327623\n",
      "Part 1: 20332089158\n"
     ]
    }
   ],
   "source": [
    "print(\"Test 1:\", part1(\"examples/example22.txt\"))\n",
    "print(\"Part 1:\", part1(\"AOC2024inputs/input22.txt\"))"
   ]
  },
  {
   "cell_type": "code",
   "execution_count": 111,
   "id": "dbf389dd-e86a-4516-9367-2f1640ea2b08",
   "metadata": {},
   "outputs": [],
   "source": [
    "import numpy as np\n",
    "from collections import Counter\n",
    "\n",
    "def price_changes(secret=123, n=10):\n",
    "    previous = secret\n",
    "    p = []\n",
    "    dp = []\n",
    "    for _ in range(n):\n",
    "        actual = mix_and_prune(previous)\n",
    "        p.append(actual%10)\n",
    "        dp.append(actual%10 - previous%10)\n",
    "        previous = actual\n",
    "    return p,dp\n",
    "\n",
    "def sequences(p,dp):\n",
    "    seqdic = {}\n",
    "    for i in range(3,len(dp)):\n",
    "        seq = tuple(dp[i-3:i+1])\n",
    "        if seq not in seqdic: # save first occurrence of a given sequence\n",
    "            seqdic[seq] = p[i]\n",
    "    return seqdic\n",
    "\n",
    "def part2(filename):\n",
    "    f = open(filename)\n",
    "    secrets = [ int(s) for s in f.readlines() ]\n",
    "    bananas = Counter() # using a Counter() to accumulate price maps\n",
    "    seqdics = []\n",
    "    for i,s in enumerate(secrets):\n",
    "        p, dp = price_changes(s,2000)\n",
    "        seqdic = sequences(p, dp)\n",
    "        bananas += seqdic\n",
    "    return max(bananas.values())"
   ]
  },
  {
   "cell_type": "code",
   "execution_count": 113,
   "id": "6a479b65-7827-439e-9283-a9f1559f1dde",
   "metadata": {},
   "outputs": [
    {
     "name": "stdout",
     "output_type": "stream",
     "text": [
      "Test 2: 23\n",
      "Part 2: 2191\n"
     ]
    }
   ],
   "source": [
    "print(\"Test 2:\", part2(\"examples/example22-2.txt\")) # 23\n",
    "print(\"Part 2:\", part2(\"AOC2024inputs/input22.txt\")) # 2191"
   ]
  },
  {
   "cell_type": "code",
   "execution_count": null,
   "id": "af2f97e9-595e-49cc-b9e6-b0581fec651c",
   "metadata": {},
   "outputs": [],
   "source": []
  }
 ],
 "metadata": {
  "kernelspec": {
   "display_name": "Python 3 (ipykernel)",
   "language": "python",
   "name": "python3"
  },
  "language_info": {
   "codemirror_mode": {
    "name": "ipython",
    "version": 3
   },
   "file_extension": ".py",
   "mimetype": "text/x-python",
   "name": "python",
   "nbconvert_exporter": "python",
   "pygments_lexer": "ipython3",
   "version": "3.12.2"
  }
 },
 "nbformat": 4,
 "nbformat_minor": 5
}
