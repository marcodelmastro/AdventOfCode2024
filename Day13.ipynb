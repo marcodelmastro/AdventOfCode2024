{
 "cells": [
  {
   "cell_type": "markdown",
   "id": "a5b3cf39-3eee-4c86-a5ce-da1370631036",
   "metadata": {},
   "source": [
    "## Day 13\n",
    "\n",
    "https://adventofcode.com/2024/day/13#part2"
   ]
  },
  {
   "cell_type": "code",
   "execution_count": 1,
   "id": "6b8524c0-c785-420c-bec4-296698c5f4ba",
   "metadata": {},
   "outputs": [],
   "source": [
    "import re\n",
    "\n",
    "def read_input_13(filename):\n",
    "    f = open(filename)\n",
    "    arcades = []\n",
    "    for l  in f.read().split(\"\\n\\n\"):\n",
    "        v = [int(d) for d in re.findall(r\"\\d+\",l)]\n",
    "        A = v[0]+1j*v[1]\n",
    "        B = v[2]+1j*v[3]\n",
    "        P = v[4]+1j*v[5]\n",
    "        arcades.append([A,B,P])\n",
    "    return arcades"
   ]
  },
  {
   "cell_type": "code",
   "execution_count": 2,
   "id": "f38593d5-b008-43a6-9671-4cc9cb72b7c8",
   "metadata": {},
   "outputs": [],
   "source": [
    "def find_chapest_win_bruteforce(arcade):\n",
    "    A,B,P = arcade\n",
    "    Pmax = 100*A+100*B\n",
    "    if Pmax.real<P.real or Pmax.imag<P.imag:\n",
    "        return -1\n",
    "    else:\n",
    "        wins = []\n",
    "        for na in range(0,101):\n",
    "            a = na*A\n",
    "            dP = (P-a)\n",
    "            if dP.real%B.real==0 and dP.imag%B.imag==0:\n",
    "                nb = int(dP.real//B.real)\n",
    "                if nb>100:\n",
    "                    continue\n",
    "                if nb == dP.imag//B.imag:\n",
    "                    wins.append((na,nb))\n",
    "                else:\n",
    "                    continue\n",
    "        if len(wins):\n",
    "            return min([3*na+nb for na,nb in wins ])\n",
    "        else:\n",
    "            return -1"
   ]
  },
  {
   "cell_type": "code",
   "execution_count": 3,
   "id": "5feb0472-317b-4dc8-b2db-a1a759242a55",
   "metadata": {},
   "outputs": [],
   "source": [
    "def part1(filename):\n",
    "    arcades = read_input_13(filename)\n",
    "    tokens = 0\n",
    "    for arcade in arcades:\n",
    "        t = find_chapest_win_bruteforce(arcade)\n",
    "        if t>0:\n",
    "            tokens+=t\n",
    "    return tokens"
   ]
  },
  {
   "cell_type": "code",
   "execution_count": 4,
   "id": "38a157a9-d702-451d-b67f-8d4e72857a82",
   "metadata": {},
   "outputs": [
    {
     "name": "stdout",
     "output_type": "stream",
     "text": [
      "Test 1: 480\n",
      "Part 1: 36250\n"
     ]
    }
   ],
   "source": [
    "print(\"Test 1:\",part1(\"examples/example13.txt\"))\n",
    "print(\"Part 1:\",part1(\"AOC2024inputs/input13.txt\"))"
   ]
  },
  {
   "cell_type": "code",
   "execution_count": 5,
   "id": "2149e7ec-ebb9-4d4e-bad2-362e11f2f75a",
   "metadata": {},
   "outputs": [],
   "source": [
    "from sympy import solve\n",
    "from sympy.abc import x, y\n",
    "\n",
    "def find_chapest_win_fast(arcade):\n",
    "    # solve as a system of 2 linear equations\n",
    "    A,B,P = arcade\n",
    "    Ar,Ai = int(A.real),int(A.imag)\n",
    "    Br,Bi = int(B.real),int(B.imag)\n",
    "    Pr,Pi = int(P.real),int(P.imag)\n",
    "    sol = solve([Ar*x + Br*y -Pr, Ai*x + Bi*y - Pi], [x, y])\n",
    "    if int(sol[x])==sol[x] and int(sol[y])==sol[y]: # integer solutions (assuming there's only one)        \n",
    "        return 3*int(sol[x]) + int(sol[y])\n",
    "    return -1"
   ]
  },
  {
   "cell_type": "code",
   "execution_count": 6,
   "id": "017b3ed6-5133-4d75-9d86-efb0c3d696ae",
   "metadata": {},
   "outputs": [],
   "source": [
    "def part1_fast(filename):\n",
    "    arcades = read_input_13(filename)\n",
    "    tokens = 0\n",
    "    for arcade in arcades:\n",
    "        t = find_chapest_win_fast(arcade)\n",
    "        if t>0:\n",
    "            tokens+=t\n",
    "    return tokens"
   ]
  },
  {
   "cell_type": "code",
   "execution_count": 7,
   "id": "ea7a830a-2066-4ab7-825c-3e364169d88c",
   "metadata": {},
   "outputs": [
    {
     "name": "stdout",
     "output_type": "stream",
     "text": [
      "Test 1: 480\n",
      "Part 1: 36250\n"
     ]
    }
   ],
   "source": [
    "print(\"Test 1:\",part1_fast(\"examples/example13.txt\"))\n",
    "print(\"Part 1:\",part1_fast(\"AOC2024inputs/input13.txt\"))"
   ]
  },
  {
   "cell_type": "code",
   "execution_count": 8,
   "id": "ec86fa57-12a0-4a55-827a-fe7e193a4c15",
   "metadata": {},
   "outputs": [],
   "source": [
    "def part2(filename):\n",
    "    arcades = read_input_13(filename)\n",
    "    tokens = 0\n",
    "    for arcade in arcades:\n",
    "        arcade[2] += 10000000000000 + 10000000000000j\n",
    "        t = find_chapest_win_fast(arcade)\n",
    "        if t>0:\n",
    "            tokens+=t\n",
    "    return tokens"
   ]
  },
  {
   "cell_type": "code",
   "execution_count": 9,
   "id": "d32c204a-5537-4f03-965e-83a48559063a",
   "metadata": {},
   "outputs": [
    {
     "name": "stdout",
     "output_type": "stream",
     "text": [
      "Test 2: 875318608908\n",
      "Part 2: 83232379451012\n"
     ]
    }
   ],
   "source": [
    "print(\"Test 2:\",part2(\"examples/example13.txt\"))\n",
    "print(\"Part 2:\",part2(\"AOC2024inputs/input13.txt\"))"
   ]
  },
  {
   "cell_type": "code",
   "execution_count": null,
   "id": "22aca5a6-d094-4781-9d75-05a362f9c57c",
   "metadata": {},
   "outputs": [],
   "source": []
  }
 ],
 "metadata": {
  "kernelspec": {
   "display_name": "Python 3 (ipykernel)",
   "language": "python",
   "name": "python3"
  },
  "language_info": {
   "codemirror_mode": {
    "name": "ipython",
    "version": 3
   },
   "file_extension": ".py",
   "mimetype": "text/x-python",
   "name": "python",
   "nbconvert_exporter": "python",
   "pygments_lexer": "ipython3",
   "version": "3.12.2"
  }
 },
 "nbformat": 4,
 "nbformat_minor": 5
}
