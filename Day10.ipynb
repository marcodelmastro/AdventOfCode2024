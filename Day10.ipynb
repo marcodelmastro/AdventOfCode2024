{
 "cells": [
  {
   "cell_type": "markdown",
   "id": "7d32156b-1d3d-407c-9caf-033944f8cea9",
   "metadata": {},
   "source": [
    "## Day 10\n",
    "\n",
    "https://adventofcode.com/2024/day/10"
   ]
  },
  {
   "cell_type": "code",
   "execution_count": 1,
   "id": "87640af2-18fa-483c-a71a-24aa695becbf",
   "metadata": {},
   "outputs": [],
   "source": [
    "from collections import defaultdict\n",
    "\n",
    "def read_input_10(filename):\n",
    "    grid = defaultdict(lambda: -1)\n",
    "    zeros = []\n",
    "    f = open(filename)\n",
    "    im = 1j\n",
    "    for j,l in enumerate(f.readlines()):\n",
    "        for i,c in enumerate(l.strip()):\n",
    "            p = i+j*im\n",
    "            grid[p]=int(c)\n",
    "            if c==\"0\":\n",
    "                zeros.append(p)\n",
    "    return grid,zeros"
   ]
  },
  {
   "cell_type": "code",
   "execution_count": 2,
   "id": "a0728f0c-3045-49a3-9857-8bce3cb96fc3",
   "metadata": {},
   "outputs": [],
   "source": [
    "from queue import Queue\n",
    "\n",
    "def count_trails(start,grid,part=1):\n",
    "    q = Queue()\n",
    "    q.put(start)\n",
    "    tops = 0\n",
    "    visited = {start}\n",
    "    while not q.empty():\n",
    "        p = q.get()\n",
    "        for p1 in [p+1,p-1,p+1j,p-1j]:\n",
    "            if grid[p1]!=-1 and grid[p1]-grid[p]==1:\n",
    "                if part==1:\n",
    "                    if p1 in visited:\n",
    "                        continue\n",
    "                    visited.add(p1)\n",
    "                if grid[p1]==9:\n",
    "                    tops +=1\n",
    "                else:\n",
    "                    q.put(p1)\n",
    "    return tops\n",
    "\n",
    "def part1(filename):\n",
    "    grid, zeros = read_input_10(filename)\n",
    "    return sum([count_trails(z,grid,1) for z in zeros])"
   ]
  },
  {
   "cell_type": "code",
   "execution_count": 3,
   "id": "13ae700e-c59d-41f6-b52c-12e7a6a301e6",
   "metadata": {},
   "outputs": [
    {
     "name": "stdout",
     "output_type": "stream",
     "text": [
      "Test 1: 36\n",
      "Part 1: 754\n"
     ]
    }
   ],
   "source": [
    "print(\"Test 1:\", part1(\"examples/example10-1.txt\"))\n",
    "print(\"Part 1:\", part1(\"AOC2024inputs/input10.txt\"))"
   ]
  },
  {
   "cell_type": "code",
   "execution_count": 4,
   "id": "f7091393-03ee-4493-9e29-59f632415b6b",
   "metadata": {},
   "outputs": [],
   "source": [
    "def part2(filename):\n",
    "    grid, zeros = read_input_10(filename)\n",
    "    return sum([count_trails(z,grid,2) for z in zeros])"
   ]
  },
  {
   "cell_type": "code",
   "execution_count": 5,
   "id": "f1ba242e-1d92-4329-96d6-f23e30a22cc1",
   "metadata": {},
   "outputs": [
    {
     "name": "stdout",
     "output_type": "stream",
     "text": [
      "Test 2: 81\n",
      "Part 2: 1609\n"
     ]
    }
   ],
   "source": [
    "print(\"Test 2:\", part2(\"examples/example10-2.txt\"))\n",
    "print(\"Part 2:\", part2(\"AOC2024inputs/input10.txt\"))"
   ]
  },
  {
   "cell_type": "code",
   "execution_count": null,
   "id": "546eac4f-f7aa-4266-9d47-f03271e7b571",
   "metadata": {},
   "outputs": [],
   "source": []
  }
 ],
 "metadata": {
  "kernelspec": {
   "display_name": "Python 3 (ipykernel)",
   "language": "python",
   "name": "python3"
  },
  "language_info": {
   "codemirror_mode": {
    "name": "ipython",
    "version": 3
   },
   "file_extension": ".py",
   "mimetype": "text/x-python",
   "name": "python",
   "nbconvert_exporter": "python",
   "pygments_lexer": "ipython3",
   "version": "3.12.2"
  }
 },
 "nbformat": 4,
 "nbformat_minor": 5
}
