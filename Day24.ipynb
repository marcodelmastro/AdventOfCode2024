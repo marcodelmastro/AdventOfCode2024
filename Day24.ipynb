{
 "cells": [
  {
   "cell_type": "markdown",
   "id": "62fdedb8-5bfd-4d2c-b18a-72fb475ea762",
   "metadata": {},
   "source": [
    "## Day 24\n",
    "\n",
    "https://adventofcode.com/2024/day/24\n",
    "\n",
    "### Part 1"
   ]
  },
  {
   "cell_type": "code",
   "execution_count": 1,
   "id": "5ddacedf-ff8a-4e9c-b3c0-b408fdaecdcb",
   "metadata": {},
   "outputs": [],
   "source": [
    "def read_input_24(filename):\n",
    "    f = open(filename)\n",
    "    l = f.read().split(\"\\n\\n\")\n",
    "    values = {}\n",
    "    for v in l[0].split(\"\\n\"):\n",
    "        vv = v.split(\": \")\n",
    "        values[vv[0]] = int(vv[1])\n",
    "    network = {}\n",
    "    for v in l[1].strip().split(\"\\n\"):\n",
    "        vv = v.split(\" -> \")\n",
    "        inp = vv[0].split()\n",
    "        network[vv[1]] = ((inp[0],inp[2]),inp[1])\n",
    "    return values, network"
   ]
  },
  {
   "cell_type": "code",
   "execution_count": 2,
   "id": "c33742a9-bb0a-4f1f-86bb-150ba2133c4c",
   "metadata": {},
   "outputs": [],
   "source": [
    "def evaluate(node, values, network):\n",
    "    '''Recursive evaluation of a network node, until an actual value is found'''\n",
    "    if node in values:\n",
    "        return values[node]\n",
    "    (in1, in2), op = network[node]\n",
    "    if op==\"AND\":\n",
    "        return evaluate(in1, values, network) & evaluate(in2, values, network)\n",
    "    elif op==\"OR\":\n",
    "        return evaluate(in1, values, network) | evaluate(in2, values, network)\n",
    "    elif op==\"XOR\":\n",
    "        return evaluate(in1, values, network) ^ evaluate(in2, values, network)\n",
    "\n",
    "def part1(filename):\n",
    "    values, network = read_input_24(filename)\n",
    "    output = {}\n",
    "    for node in network:\n",
    "        if node.startswith(\"z\"):\n",
    "            output[node] = evaluate(node, values, network)\n",
    "    return sum([ 2**n * output[z] for n,z in enumerate( sorted(output.keys()) ) ])"
   ]
  },
  {
   "cell_type": "code",
   "execution_count": 3,
   "id": "861b3e3f-ac41-42e3-93db-cf39c8472a33",
   "metadata": {},
   "outputs": [
    {
     "name": "stdout",
     "output_type": "stream",
     "text": [
      "Test 1-1: 4\n",
      "Test 1-2: 2024\n",
      "Part 1  : 46362252142374\n"
     ]
    }
   ],
   "source": [
    "print(\"Test 1-1:\",part1(\"examples/example24-1.txt\"))\n",
    "print(\"Test 1-2:\",part1(\"examples/example24-2.txt\"))\n",
    "print(\"Part 1  :\",part1(\"AOC2024inputs/input24.txt\"))"
   ]
  },
  {
   "cell_type": "markdown",
   "id": "d19cc9ab-ec30-4dc7-a289-ff7ef15d48df",
   "metadata": {},
   "source": [
    "### Part 2\n",
    "\n",
    "the netwowork is supposed to work as a summer, so I suppose it will be a chain of maby single bit summers in chain, each returning the XOR of the input bit and the possible carry-over:\n",
    "\n",
    "https://en.wikipedia.org/wiki/Adder_(electronics)\n",
    "\n",
    "A single summing block should therefore have this structure:\n",
    "\n",
    "https://en.wikipedia.org/wiki/Adder_(electronics)#/media/File:Full-adder_logic_diagram.svg"
   ]
  },
  {
   "cell_type": "code",
   "execution_count": 73,
   "id": "06ae774a-c736-4b2a-84a7-40b034b8d3a5",
   "metadata": {},
   "outputs": [],
   "source": [
    "def summer(X, Y, C):\n",
    "    a = X ^ Y\n",
    "    b = X & Y\n",
    "    S = C ^ a\n",
    "    c = C & a\n",
    "    T = b | c\n",
    "    return S, T"
   ]
  },
  {
   "cell_type": "markdown",
   "id": "9703a9d8-d61d-4b95-8a14-d0ca930cae82",
   "metadata": {},
   "source": [
    "### Solution\n",
    "\n",
    "I will render the network, identify the bit summer blocks, and search for the output wiring inversion. I will use the bit difference between the true additiona and the network result to guide the (manual) search"
   ]
  },
  {
   "cell_type": "code",
   "execution_count": 74,
   "id": "be17bdd7-5165-4b8e-bfc8-615ef6ad2797",
   "metadata": {},
   "outputs": [
    {
     "data": {
      "text/plain": [
       "'visualisation/day24.pdf'"
      ]
     },
     "execution_count": 74,
     "metadata": {},
     "output_type": "execute_result"
    }
   ],
   "source": [
    "import graphviz as gv\n",
    "\n",
    "values, network = read_input_24(\"AOC2024inputs/input24.txt\")\n",
    "\n",
    "G = gv.Digraph()\n",
    "\n",
    "for out,((in1,in2),op) in network.items():\n",
    "    if op==\"AND\":\n",
    "        color = \"green\"\n",
    "    elif op== \"OR\":\n",
    "        color = \"blue\"\n",
    "    elif op== \"XOR\":\n",
    "        color = \"red\"\n",
    "\n",
    "    G.edge(in1, out, label=op, color=color)\n",
    "    G.edge(in2, out, label=op, color=color)\n",
    "\n",
    "G.render(\"visualisation/day24\", format=\"pdf\")"
   ]
  },
  {
   "cell_type": "code",
   "execution_count": 141,
   "id": "ff9c59ea-a066-4514-88e9-5fb654feeffa",
   "metadata": {},
   "outputs": [],
   "source": [
    "def setvalues(x,y,values):\n",
    "    # reset values\n",
    "    for node in values:\n",
    "        if node.startswith(\"x\"):\n",
    "            values[node] = 0\n",
    "        if node.startswith(\"y\"):\n",
    "            values[node] = 0\n",
    "    for i,bx in enumerate(bin(x)[2:][::-1]):\n",
    "        values[\"x\"+str(i).zfill(2)] = int(bx)\n",
    "    for i,by in enumerate(bin(y)[2:][::-1]):\n",
    "        values[\"y\"+str(i).zfill(2)] = int(by)\n",
    "    return values\n",
    "\n",
    "def add(values,network):\n",
    "    output = {}\n",
    "    for node in network:\n",
    "        if node.startswith(\"z\"):\n",
    "            output[node] = evaluate(node, values, network)\n",
    "    return sum([ 2**n * output[z] for n,z in enumerate( sorted(output.keys()) ) ])"
   ]
  },
  {
   "cell_type": "code",
   "execution_count": 145,
   "id": "f4043864-0d76-4128-83fd-e58a5b4a7b39",
   "metadata": {},
   "outputs": [
    {
     "name": "stdout",
     "output_type": "stream",
     "text": [
      "34778358431 34778358431 0\n"
     ]
    }
   ],
   "source": [
    "values, network = read_input_24(\"AOC2024inputs/input24.txt\")\n",
    "\n",
    "def setswaps(network):\n",
    "    # z06 sfm\n",
    "    network['z06'], network['sfm'] = network['sfm'], network['z06']\n",
    "    # z13 gmh \n",
    "    network['z13'], network['gmh'] = network['gmh'], network['z13']\n",
    "    # z38 qrh\n",
    "    network['z38'], network['qrh'] = network['qrh'], network['z38']\n",
    "    # cdb rfq\n",
    "    network['cbd'], network['rqf'] = network['rqf'], network['cbd']\n",
    "\n",
    "setswaps(network)\n",
    "\n",
    "x = 11354947328\n",
    "y = 23423411103\n",
    "\n",
    "values = setvalues(x,y,values)\n",
    "z1 = add(values,network)\n",
    "z2 = x+y\n",
    "print(z1,z2,z1-z2)"
   ]
  },
  {
   "cell_type": "code",
   "execution_count": 149,
   "id": "5c2b8b20-384d-4b7e-bcf8-22377de663d7",
   "metadata": {},
   "outputs": [
    {
     "name": "stdout",
     "output_type": "stream",
     "text": [
      "cdb,gmh,qrh,rfq,sfm,z06,z13,z38\n"
     ]
    }
   ],
   "source": [
    "swaps = [ 'z06', 'sfm', 'z13', 'gmh', 'z38', 'qrh', 'cdb', 'rfq' ]\n",
    "print(\",\".join(sorted(swaps)))"
   ]
  },
  {
   "cell_type": "code",
   "execution_count": 148,
   "id": "b0b043b6-39fe-4c1f-a182-fa7ac7018481",
   "metadata": {},
   "outputs": [
    {
     "name": "stdout",
     "output_type": "stream",
     "text": [
      "X    101101000011011001101001111001001111011001101\n",
      "Y    100110110001111000000010101010110100000011001\n",
      "--------------------------------------------------\n",
      "Zv  1010011110101010001101100100100000011011100110\n",
      "--------------------------------------------------\n",
      "Zn  1010011110101010001101100100100000011011100110\n",
      "--------------------------------------------------\n",
      "Z^Z 0                                                           \n"
     ]
    }
   ],
   "source": [
    "values, network = read_input_24(\"AOC2024inputs/input24.txt\")\n",
    "\n",
    "setswaps(network)\n",
    "\n",
    "X = [ bit for node,bit in values.items() if node.startswith(\"x\")]\n",
    "Y = [ bit for node,bit in values.items() if node.startswith(\"y\")]\n",
    "\n",
    "Xv = sum([ 2**n * x for n,x in enumerate(X) ])\n",
    "Yv = sum([ 2**n * x for n,x in enumerate(Y) ])\n",
    "\n",
    "Zv = Xv + Yv\n",
    "Zn = add(values,network)\n",
    "\n",
    "print(\"X    \"+bin(Xv)[2:])\n",
    "print(\"Y    \"+bin(Yv)[2:])\n",
    "print(50*\"-\")\n",
    "print(\"Zv \",bin(Zv)[2:])\n",
    "print(50*\"-\")\n",
    "print(\"Zn \",bin(Zn)[2:])\n",
    "print(50*\"-\")\n",
    "print(f\"Z^Z {bin(Zn^Zv)[2:]:60s}\")"
   ]
  },
  {
   "cell_type": "code",
   "execution_count": null,
   "id": "4f7e007b-f7bd-4662-b5db-fd66db08943d",
   "metadata": {},
   "outputs": [],
   "source": []
  }
 ],
 "metadata": {
  "kernelspec": {
   "display_name": "Python 3 (ipykernel)",
   "language": "python",
   "name": "python3"
  },
  "language_info": {
   "codemirror_mode": {
    "name": "ipython",
    "version": 3
   },
   "file_extension": ".py",
   "mimetype": "text/x-python",
   "name": "python",
   "nbconvert_exporter": "python",
   "pygments_lexer": "ipython3",
   "version": "3.12.2"
  }
 },
 "nbformat": 4,
 "nbformat_minor": 5
}
