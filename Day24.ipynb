{
 "cells": [
  {
   "cell_type": "markdown",
   "id": "62fdedb8-5bfd-4d2c-b18a-72fb475ea762",
   "metadata": {},
   "source": [
    "## Day 24\n",
    "\n",
    "https://adventofcode.com/2024/day/24\n",
    "\n",
    "### Part 1"
   ]
  },
  {
   "cell_type": "code",
   "execution_count": 1,
   "id": "5ddacedf-ff8a-4e9c-b3c0-b408fdaecdcb",
   "metadata": {},
   "outputs": [],
   "source": [
    "def read_input_24(filename):\n",
    "    f = open(filename)\n",
    "    l = f.read().split(\"\\n\\n\")\n",
    "    values = {}\n",
    "    for v in l[0].split(\"\\n\"):\n",
    "        vv = v.split(\": \")\n",
    "        values[vv[0]] = int(vv[1])\n",
    "    network = {}\n",
    "    for v in l[1].strip().split(\"\\n\"):\n",
    "        vv = v.split(\" -> \")\n",
    "        inp = vv[0].split()\n",
    "        network[vv[1]] = ((inp[0],inp[2]),inp[1])\n",
    "    return values, network"
   ]
  },
  {
   "cell_type": "code",
   "execution_count": 2,
   "id": "c33742a9-bb0a-4f1f-86bb-150ba2133c4c",
   "metadata": {},
   "outputs": [],
   "source": [
    "def evaluate(node, values, network):\n",
    "    '''Recursive evaluation of a network node, until an actual value is found'''\n",
    "    if node in values:\n",
    "        return values[node]\n",
    "    (in1, in2), op = network[node]\n",
    "    if op==\"AND\":\n",
    "        return evaluate(in1, values, network) & evaluate(in2, values, network)\n",
    "    elif op==\"OR\":\n",
    "        return evaluate(in1, values, network) | evaluate(in2, values, network)\n",
    "    elif op==\"XOR\":\n",
    "        return evaluate(in1, values, network) ^ evaluate(in2, values, network)\n",
    "\n",
    "def part1(filename):\n",
    "    values, network = read_input_24(filename)\n",
    "    output = {}\n",
    "    for node in network:\n",
    "        if node.startswith(\"z\"):\n",
    "            output[node] = evaluate(node, values, network)\n",
    "    return sum([ 2**n * output[z] for n,z in enumerate( sorted(output.keys()) ) ])"
   ]
  },
  {
   "cell_type": "code",
   "execution_count": 3,
   "id": "861b3e3f-ac41-42e3-93db-cf39c8472a33",
   "metadata": {},
   "outputs": [
    {
     "name": "stdout",
     "output_type": "stream",
     "text": [
      "Test 1-1: 4\n",
      "Test 1-2: 2024\n",
      "Part 1  : 46362252142374\n"
     ]
    }
   ],
   "source": [
    "print(\"Test 1-1:\",part1(\"examples/example24-1.txt\"))\n",
    "print(\"Test 1-2:\",part1(\"examples/example24-2.txt\"))\n",
    "print(\"Part 1  :\",part1(\"AOC2024inputs/input24.txt\"))"
   ]
  },
  {
   "cell_type": "markdown",
   "id": "d19cc9ab-ec30-4dc7-a289-ff7ef15d48df",
   "metadata": {},
   "source": [
    "### Part 2\n",
    "\n",
    "the netwowork is supposed to work as a summer, so I suppose it will be a chain of maby single bit summers in chain, each returning the XOR of the input bit and the possible carry-over:\n",
    "\n",
    "https://en.wikipedia.org/wiki/Adder_(electronics)\n",
    "\n",
    "A single summing block should therefore have this structure:\n",
    "\n",
    "https://en.wikipedia.org/wiki/Adder_(electronics)#/media/File:Full-adder_logic_diagram.svg"
   ]
  },
  {
   "cell_type": "code",
   "execution_count": 73,
   "id": "06ae774a-c736-4b2a-84a7-40b034b8d3a5",
   "metadata": {},
   "outputs": [],
   "source": [
    "def summer(X, Y, C):\n",
    "    a = X ^ Y\n",
    "    b = X & Y\n",
    "    S = C ^ a\n",
    "    c = C & a\n",
    "    T = b | c\n",
    "    return S, T"
   ]
  },
  {
   "cell_type": "markdown",
   "id": "9703a9d8-d61d-4b95-8a14-d0ca930cae82",
   "metadata": {},
   "source": [
    "### Solution\n",
    "\n",
    "I will render the network, identify the bit summer blocks, and search for the output wiring inversion. I will use the bit difference between the true additiona and the network result to guide the (manual) search"
   ]
  },
  {
   "cell_type": "code",
   "execution_count": 74,
   "id": "be17bdd7-5165-4b8e-bfc8-615ef6ad2797",
   "metadata": {},
   "outputs": [
    {
     "data": {
      "text/plain": [
       "'visualisation/day24.pdf'"
      ]
     },
     "execution_count": 74,
     "metadata": {},
     "output_type": "execute_result"
    }
   ],
   "source": [
    "import graphviz as gv\n",
    "\n",
    "values, network = read_input_24(\"AOC2024inputs/input24.txt\")\n",
    "\n",
    "G = gv.Digraph()\n",
    "\n",
    "for out,((in1,in2),op) in network.items():\n",
    "    if op==\"AND\":\n",
    "        color = \"green\"\n",
    "    elif op== \"OR\":\n",
    "        color = \"blue\"\n",
    "    elif op== \"XOR\":\n",
    "        color = \"red\"\n",
    "\n",
    "    G.edge(in1, out, label=op, color=color)\n",
    "    G.edge(in2, out, label=op, color=color)\n",
    "\n",
    "G.render(\"visualisation/day24\", format=\"pdf\")"
   ]
  },
  {
   "cell_type": "code",
   "execution_count": 141,
   "id": "ff9c59ea-a066-4514-88e9-5fb654feeffa",
   "metadata": {},
   "outputs": [],
   "source": [
    "def setvalues(x,y,values):\n",
    "    # reset values\n",
    "    for node in values:\n",
    "        if node.startswith(\"x\"):\n",
    "            values[node] = 0\n",
    "        if node.startswith(\"y\"):\n",
    "            values[node] = 0\n",
    "    for i,bx in enumerate(bin(x)[2:][::-1]):\n",
    "        values[\"x\"+str(i).zfill(2)] = int(bx)\n",
    "    for i,by in enumerate(bin(y)[2:][::-1]):\n",
    "        values[\"y\"+str(i).zfill(2)] = int(by)\n",
    "    return values\n",
    "\n",
    "def add(values,network):\n",
    "    output = {}\n",
    "    for node in network:\n",
    "        if node.startswith(\"z\"):\n",
    "            output[node] = evaluate(node, values, network)\n",
    "    return sum([ 2**n * output[z] for n,z in enumerate( sorted(output.keys()) ) ])"
   ]
  },
  {
   "cell_type": "code",
   "execution_count": 229,
   "id": "f4043864-0d76-4128-83fd-e58a5b4a7b39",
   "metadata": {},
   "outputs": [
    {
     "name": "stdout",
     "output_type": "stream",
     "text": [
      "cbd,gmh,jmq,qrh,rqf,z06,z13,z38 \n",
      "\n",
      "X    101101000011011001101001111001001111011001101\n",
      "Y    100110110001111000000010101010110100000011001\n",
      "--------------------------------------------------\n",
      "Zv  1010011110101010001101100100100000011011100110\n",
      "--------------------------------------------------\n",
      "Zn  1010011110101010001101100100100000011011100110\n",
      "--------------------------------------------------\n",
      "Z^Z 0                                                           \n"
     ]
    }
   ],
   "source": [
    "def setswaps(network):\n",
    "    swaps = [ ('z06', 'jmq'), ('z13', 'gmh'), ('z38', 'qrh'), ('cbd', 'rqf') ]\n",
    "    nodes = []\n",
    "    for s1,s2 in swaps:\n",
    "        network[s1], network[s2] = network[s2], network[s1]\n",
    "        nodes.append(s1)\n",
    "        nodes.append(s2)\n",
    "    print(\",\".join(sorted(nodes)),\"\\n\")\n",
    "    return network\n",
    "\n",
    "def print_sum(Xv,Yv,Zv,Zn):\n",
    "    print(\"X    \"+bin(Xv)[2:])\n",
    "    print(\"Y    \"+bin(Yv)[2:])\n",
    "    print(50*\"-\")\n",
    "    print(\"Zv \",bin(Zv)[2:])\n",
    "    print(50*\"-\")\n",
    "    print(\"Zn \",bin(Zn)[2:])\n",
    "    print(50*\"-\")\n",
    "    print(f\"Z^Z {bin(Zn^Zv)[2:]:60s}\")\n",
    "\n",
    "values, network = read_input_24(\"AOC2024inputs/input24.txt\")\n",
    "network = setswaps(network)\n",
    "\n",
    "X = [ bit for node,bit in values.items() if node.startswith(\"x\")]\n",
    "Y = [ bit for node,bit in values.items() if node.startswith(\"y\")]\n",
    "\n",
    "Xv = sum([ 2**n * x for n,x in enumerate(X) ])\n",
    "Yv = sum([ 2**n * x for n,x in enumerate(Y) ])\n",
    "\n",
    "Zv = Xv + Yv\n",
    "Zn = add(values,network)\n",
    "\n",
    "print_sum(Xv,Yv,Zv,Zn)"
   ]
  },
  {
   "cell_type": "code",
   "execution_count": 231,
   "id": "b0b043b6-39fe-4c1f-a182-fa7ac7018481",
   "metadata": {},
   "outputs": [
    {
     "name": "stdout",
     "output_type": "stream",
     "text": [
      "cbd,gmh,jmq,qrh,rqf,z06,z13,z38 \n",
      "\n",
      "70368744177662 70368744177662 0 \n",
      "\n",
      "X    111111111111111111111111111111111111111111111\n",
      "Y    111111111111111111111111111111111111111111111\n",
      "--------------------------------------------------\n",
      "Zv  1111111111111111111111111111111111111111111110\n",
      "--------------------------------------------------\n",
      "Zn  1111111111111111111111111111111111111111111110\n",
      "--------------------------------------------------\n",
      "Z^Z 0                                                           \n"
     ]
    }
   ],
   "source": [
    "values, network = read_input_24(\"AOC2024inputs/input24.txt\")\n",
    "network = setswaps(network)\n",
    "\n",
    "x = 2**45-1\n",
    "y = 2**45-1\n",
    "\n",
    "values = setvalues(x,y,values)\n",
    "z1 = add(values,network)\n",
    "z2 = x+y\n",
    "print(z1,z2,z1-z2, \"\\n\")\n",
    "print_sum(x,y,z1,z2)"
   ]
  },
  {
   "cell_type": "code",
   "execution_count": 228,
   "id": "0e74fc80-5be0-4532-914e-70e747f4fba2",
   "metadata": {},
   "outputs": [
    {
     "name": "stdout",
     "output_type": "stream",
     "text": [
      "cbd,gmh,jmq,qrh,rqf,z06,z13,z38 \n",
      "\n",
      "30513712423716 30513712423716 0\n",
      "12523904181292 12523904181292 0\n",
      "47026374501393 47026374501393 0\n",
      "18618047976406 18618047976406 0\n",
      "16499586715371 16499586715371 0\n",
      "29036062661011 29036062661011 0\n",
      "41292660084731 41292660084731 0\n",
      "59125119288134 59125119288134 0\n",
      "35415479262547 35415479262547 0\n",
      "38009736459269 38009736459269 0\n",
      "49939617912667 49939617912667 0\n",
      "38873151708299 38873151708299 0\n",
      "29866508057991 29866508057991 0\n",
      "30010915742513 30010915742513 0\n",
      "13525013331860 13525013331860 0\n",
      "40830187479518 40830187479518 0\n",
      "31410838938951 31410838938951 0\n",
      "63139350969639 63139350969639 0\n",
      "13807633179199 13807633179199 0\n",
      "30337239366887 30337239366887 0\n",
      "37229438387170 37229438387170 0\n",
      "57645533379762 57645533379762 0\n",
      "40606006925271 40606006925271 0\n",
      "11737145198619 11737145198619 0\n",
      "25259464422432 25259464422432 0\n",
      "24616052903430 24616052903430 0\n",
      "44880366862096 44880366862096 0\n",
      "46397643537352 46397643537352 0\n",
      "32015314264130 32015314264130 0\n",
      "38531099224711 38531099224711 0\n",
      "25270498495269 25270498495269 0\n",
      "39141533226109 39141533226109 0\n",
      "37625168757481 37625168757481 0\n",
      "15304538601895 15304538601895 0\n",
      "6840528496428 6840528496428 0\n",
      "44478552576557 44478552576557 0\n",
      "43312047936355 43312047936355 0\n",
      "45586505120278 45586505120278 0\n",
      "51572147370554 51572147370554 0\n",
      "51221865662815 51221865662815 0\n",
      "32221609145809 32221609145809 0\n",
      "40308077085157 40308077085157 0\n",
      "27377739935872 27377739935872 0\n",
      "35970528551779 35970528551779 0\n",
      "20576508211311 20576508211311 0\n",
      "20789096332104 20789096332104 0\n",
      "40294960620091 40294960620091 0\n",
      "7444590673002 7444590673002 0\n",
      "49757952813646 49757952813646 0\n",
      "36679779363517 36679779363517 0\n",
      "28696917521558 28696917521558 0\n",
      "54474887806117 54474887806117 0\n",
      "15780882606232 15780882606232 0\n",
      "26987045951887 26987045951887 0\n",
      "28481270993730 28481270993730 0\n",
      "21591063768310 21591063768310 0\n",
      "34217272986012 34217272986012 0\n",
      "10972307054529 10972307054529 0\n",
      "52446038452487 52446038452487 0\n",
      "38197391451914 38197391451914 0\n",
      "21181683801388 21181683801388 0\n",
      "33700593313517 33700593313517 0\n",
      "47690197510255 47690197510255 0\n",
      "26719112185479 26719112185479 0\n",
      "35989216680103 35989216680103 0\n",
      "51838631499592 51838631499592 0\n",
      "41794495815652 41794495815652 0\n",
      "40297219789283 40297219789283 0\n",
      "33923520658263 33923520658263 0\n",
      "43832308106101 43832308106101 0\n",
      "32497744008753 32497744008753 0\n",
      "42981884568903 42981884568903 0\n",
      "36965501553926 36965501553926 0\n",
      "21648780231316 21648780231316 0\n",
      "60529577342312 60529577342312 0\n",
      "33263841700983 33263841700983 0\n",
      "23344673945467 23344673945467 0\n",
      "55728942918394 55728942918394 0\n",
      "43566350447428 43566350447428 0\n",
      "29008633116722 29008633116722 0\n",
      "29386175495269 29386175495269 0\n",
      "36470247902918 36470247902918 0\n",
      "61578184413721 61578184413721 0\n",
      "28456540627717 28456540627717 0\n",
      "54658752479447 54658752479447 0\n",
      "33687224440832 33687224440832 0\n",
      "29034609482348 29034609482348 0\n",
      "58611654058300 58611654058300 0\n",
      "46227645062259 46227645062259 0\n",
      "29003326507266 29003326507266 0\n",
      "12103955615819 12103955615819 0\n",
      "42384591676243 42384591676243 0\n",
      "33584269779296 33584269779296 0\n",
      "41955275448615 41955275448615 0\n",
      "51437052334876 51437052334876 0\n",
      "33513336469688 33513336469688 0\n",
      "45695881455374 45695881455374 0\n",
      "27822055103188 27822055103188 0\n",
      "8577938609912 8577938609912 0\n",
      "41870269584473 41870269584473 0\n"
     ]
    }
   ],
   "source": [
    "import random\n",
    "\n",
    "values, network = read_input_24(\"AOC2024inputs/input24.txt\")\n",
    "\n",
    "network = setswaps(network)\n",
    "\n",
    "for _ in range(100):\n",
    "    x = random.randint(0,2**45-1)\n",
    "    y = random.randint(0,2**45-1)\n",
    "    values = setvalues(x,y,values)\n",
    "    z1 = add(values,network)\n",
    "    z2 = x+y\n",
    "    print(z1,z2,z1-z2)"
   ]
  },
  {
   "cell_type": "code",
   "execution_count": null,
   "id": "ba383b34-539b-48e7-9852-077b1c4ed1b2",
   "metadata": {},
   "outputs": [],
   "source": []
  }
 ],
 "metadata": {
  "kernelspec": {
   "display_name": "Python 3 (ipykernel)",
   "language": "python",
   "name": "python3"
  },
  "language_info": {
   "codemirror_mode": {
    "name": "ipython",
    "version": 3
   },
   "file_extension": ".py",
   "mimetype": "text/x-python",
   "name": "python",
   "nbconvert_exporter": "python",
   "pygments_lexer": "ipython3",
   "version": "3.12.2"
  }
 },
 "nbformat": 4,
 "nbformat_minor": 5
}
