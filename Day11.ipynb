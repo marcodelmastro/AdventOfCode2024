{
 "cells": [
  {
   "cell_type": "markdown",
   "id": "d3b338e5-7682-4456-85e5-805eff2c39a6",
   "metadata": {},
   "source": [
    "## Day 11\n",
    "\n",
    "https://adventofcode.com/2024/day/11\n",
    "\n",
    "Stone ordering is irrelevant (new stones only depend on current stone value), so the operation on stones with same value can be factorised (and this allows to solve Part 2)"
   ]
  },
  {
   "cell_type": "code",
   "execution_count": 249,
   "id": "ea53bedd-1fa7-485d-803f-609180947298",
   "metadata": {},
   "outputs": [],
   "source": [
    "from collections import defaultdict\n",
    "\n",
    "def get_stone_line(string):\n",
    "    line = defaultdict(int)\n",
    "    for s in string.split():\n",
    "        line[int(s)] += 1\n",
    "    return line\n",
    "\n",
    "def blink(line):\n",
    "    newline = defaultdict(int)\n",
    "    for v in line.keys():\n",
    "        n = line[v]\n",
    "        if v==0:\n",
    "            newline[1] += n\n",
    "        else:\n",
    "            if (int(log10(v))+1)%2==0:\n",
    "                sv = str(v)\n",
    "                v1 = int(sv[:len(sv)//2])\n",
    "                v2 = int(sv[len(sv)//2:])\n",
    "                newline[v1] += n\n",
    "                newline[v2] += n\n",
    "            else:\n",
    "                newline[v*2024] += n\n",
    "    return newline\n",
    "\n",
    "def blink_ntimes(line,n=0):\n",
    "    for _ in range(n):\n",
    "        line = blink(line)\n",
    "    return sum([n for v,n in line.items()])"
   ]
  },
  {
   "cell_type": "code",
   "execution_count": 250,
   "id": "539c6bdc-accb-4a0a-802c-bc380f8aa431",
   "metadata": {},
   "outputs": [
    {
     "data": {
      "text/plain": [
       "22"
      ]
     },
     "execution_count": 250,
     "metadata": {},
     "output_type": "execute_result"
    }
   ],
   "source": [
    "example = \"125 17\"\n",
    "line = get_stone_line(example2)\n",
    "blink_ntimes(line,6)"
   ]
  },
  {
   "cell_type": "code",
   "execution_count": 251,
   "id": "70f2482b-bbbf-4e29-aee5-798b5cc6fc73",
   "metadata": {},
   "outputs": [
    {
     "data": {
      "text/plain": [
       "55312"
      ]
     },
     "execution_count": 251,
     "metadata": {},
     "output_type": "execute_result"
    }
   ],
   "source": [
    "example = \"125 17\"\n",
    "line = get_stone_line(example2)\n",
    "blink_ntimes(line,25)"
   ]
  },
  {
   "cell_type": "code",
   "execution_count": 252,
   "id": "5b2d82a8-d88a-4e0e-9069-dc5ccd8b8680",
   "metadata": {},
   "outputs": [
    {
     "data": {
      "text/plain": [
       "183435"
      ]
     },
     "execution_count": 252,
     "metadata": {},
     "output_type": "execute_result"
    }
   ],
   "source": [
    "f = open(\"/Users/Marco/Downloads/input.txt\")\n",
    "l = f.read().strip()\n",
    "line = get_stone_line(l)\n",
    "blink_ntimes(line,n=25)"
   ]
  },
  {
   "cell_type": "code",
   "execution_count": 253,
   "id": "7c4cc81c-618e-4247-9aa4-6e2e0a49f7ba",
   "metadata": {},
   "outputs": [
    {
     "data": {
      "text/plain": [
       "218279375708592"
      ]
     },
     "execution_count": 253,
     "metadata": {},
     "output_type": "execute_result"
    }
   ],
   "source": [
    "f = open(\"/Users/Marco/Downloads/input.txt\")\n",
    "l = f.read().strip()\n",
    "line = get_stone_line(l)\n",
    "blink_ntimes(line,n=75)"
   ]
  },
  {
   "cell_type": "code",
   "execution_count": null,
   "id": "1e2a52c4-c74f-4a0f-a136-1bafa1524a96",
   "metadata": {},
   "outputs": [],
   "source": []
  }
 ],
 "metadata": {
  "kernelspec": {
   "display_name": "Python 3 (ipykernel)",
   "language": "python",
   "name": "python3"
  },
  "language_info": {
   "codemirror_mode": {
    "name": "ipython",
    "version": 3
   },
   "file_extension": ".py",
   "mimetype": "text/x-python",
   "name": "python",
   "nbconvert_exporter": "python",
   "pygments_lexer": "ipython3",
   "version": "3.12.2"
  }
 },
 "nbformat": 4,
 "nbformat_minor": 5
}
