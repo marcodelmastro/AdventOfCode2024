{
 "cells": [
  {
   "cell_type": "markdown",
   "id": "6d34f431-2b59-4301-b1e2-0f8091e10019",
   "metadata": {},
   "source": [
    "## Day 5\n",
    "\n",
    "https://adventofcode.com/2024/day/5"
   ]
  },
  {
   "cell_type": "code",
   "execution_count": 18,
   "id": "5c3c4714-8a4b-4984-a4b6-b07b0e660dc5",
   "metadata": {},
   "outputs": [],
   "source": [
    "from collections import defaultdict\n",
    "\n",
    "def read_input_05(filename):\n",
    "    f = open(filename)\n",
    "    l = f.read().split(\"\\n\\n\")\n",
    "    rules = defaultdict(list)\n",
    "    for r in l[0].split():\n",
    "        [a,b] = [int(d) for d in r.split(\"|\")]\n",
    "        rules[a].append(b)\n",
    "    updates = []\n",
    "    for p in l[1].split():\n",
    "        updates.append([int(d) for d in p.split(\",\")])\n",
    "    return rules, updates"
   ]
  },
  {
   "cell_type": "code",
   "execution_count": 19,
   "id": "9ebded47-de78-48a0-b6d7-9fb628b569fe",
   "metadata": {},
   "outputs": [],
   "source": [
    "import functools\n",
    "\n",
    "def solve05(filename,part=1):\n",
    "    rules, updates = read_input_05(filename)\n",
    "    def compare(a,b):\n",
    "        if b in rules[a]: return -1\n",
    "        if a in rules[b]: return 1\n",
    "    s = 0\n",
    "    for u in updates:\n",
    "        usort = sorted(u,key=functools.cmp_to_key(compare))\n",
    "        if part==1:\n",
    "            if usort==u:\n",
    "                s += u[len(u)//2]\n",
    "        elif part==2:\n",
    "            if usort!=u:\n",
    "                s += usort[len(usort)//2]\n",
    "    return s"
   ]
  },
  {
   "cell_type": "code",
   "execution_count": 20,
   "id": "a3f9666f-a0ca-4861-adae-b66c773cad08",
   "metadata": {},
   "outputs": [
    {
     "name": "stdout",
     "output_type": "stream",
     "text": [
      "Test 1: 143\n",
      "Part 1: 4578\n"
     ]
    }
   ],
   "source": [
    "print(\"Test 1:\", solve05(\"examples/example05.txt\",part=1))\n",
    "print(\"Part 1:\", solve05(\"AOC2024inputs/input05.txt\",part=1))"
   ]
  },
  {
   "cell_type": "code",
   "execution_count": 21,
   "id": "c549a90d-e4b9-4a4b-96b0-08798a2c0814",
   "metadata": {},
   "outputs": [
    {
     "name": "stdout",
     "output_type": "stream",
     "text": [
      "Test 2: 123\n",
      "Part 2: 6179\n"
     ]
    }
   ],
   "source": [
    "print(\"Test 2:\", solve05(\"examples/example05.txt\",part=2))\n",
    "print(\"Part 2:\", solve05(\"AOC2024inputs/input05.txt\",part=2))"
   ]
  },
  {
   "cell_type": "code",
   "execution_count": null,
   "id": "8a26e3f1-1814-4563-8f75-9a81ccc5ba90",
   "metadata": {},
   "outputs": [],
   "source": []
  }
 ],
 "metadata": {
  "kernelspec": {
   "display_name": "Python 3 (ipykernel)",
   "language": "python",
   "name": "python3"
  },
  "language_info": {
   "codemirror_mode": {
    "name": "ipython",
    "version": 3
   },
   "file_extension": ".py",
   "mimetype": "text/x-python",
   "name": "python",
   "nbconvert_exporter": "python",
   "pygments_lexer": "ipython3",
   "version": "3.12.2"
  }
 },
 "nbformat": 4,
 "nbformat_minor": 5
}
